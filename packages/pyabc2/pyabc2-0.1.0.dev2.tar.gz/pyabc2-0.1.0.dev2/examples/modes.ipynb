{
 "cells": [
  {
   "cell_type": "markdown",
   "id": "ae340257-bd4c-47b3-a44e-f6170f150ff9",
   "metadata": {},
   "source": [
    "Check the modes."
   ]
  },
  {
   "cell_type": "code",
   "execution_count": null,
   "id": "2e7a8668-ac64-4ca7-9cdb-c64bf61f8256",
   "metadata": {},
   "outputs": [],
   "source": [
    "import pyabc2\n",
    "from pyabc2 import Key"
   ]
  },
  {
   "cell_type": "code",
   "execution_count": null,
   "id": "3f69d545-7600-40a9-81ce-3dc56973b872",
   "metadata": {},
   "outputs": [],
   "source": [
    "mode_abbrs = [\"ion\", \"dor\", \"phr\", \"lyd\", \"mix\", \"aeo\", \"loc\"]\n",
    "\n",
    "modes = [Key(f\"G{m}\") for m in mode_abbrs]\n",
    "modes"
   ]
  },
  {
   "cell_type": "markdown",
   "id": "aade9c23-b363-4578-bb7e-df2199415225",
   "metadata": {},
   "source": [
    "## Various representations of notes in the scale"
   ]
  },
  {
   "cell_type": "code",
   "execution_count": null,
   "id": "6c3491ec-825d-4f7b-80b6-a38fe7103db8",
   "metadata": {},
   "outputs": [],
   "source": [
    "for m in modes:\n",
    "    m.print_scale()"
   ]
  },
  {
   "cell_type": "code",
   "execution_count": null,
   "id": "b8871068-7ccf-4c29-b9c3-c62d950ba990",
   "metadata": {},
   "outputs": [],
   "source": [
    "for m in modes:\n",
    "    m.print_scale_degrees_wrt_major()"
   ]
  },
  {
   "cell_type": "code",
   "execution_count": null,
   "id": "1c3bfcbb-dd3c-4a81-816f-dff94f0e61c5",
   "metadata": {},
   "outputs": [],
   "source": [
    "modes[-1].relative_major"
   ]
  },
  {
   "cell_type": "code",
   "execution_count": null,
   "id": "f631b8bc-a834-443c-9c61-9190bba58ecb",
   "metadata": {},
   "outputs": [],
   "source": [
    "for m in modes:\n",
    "    m.print_intervals()"
   ]
  },
  {
   "cell_type": "code",
   "execution_count": null,
   "id": "c2cde052-a3b7-4b85-ae95-4e8aebe5744e",
   "metadata": {},
   "outputs": [],
   "source": [
    "for m in modes:\n",
    "    m.print_intervals(fmt=\"-\")"
   ]
  },
  {
   "cell_type": "code",
   "execution_count": null,
   "id": "5ef8fab6-b4d9-4768-8481-de42379d8eee",
   "metadata": {},
   "outputs": [],
   "source": [
    "for m in modes:\n",
    "    m.print_scale_chromatic_values()"
   ]
  },
  {
   "cell_type": "markdown",
   "id": "7b75fc1f-2e20-4905-b752-a9bf0e588c5b",
   "metadata": {},
   "source": [
    "## Chromatic"
   ]
  },
  {
   "cell_type": "code",
   "execution_count": null,
   "id": "7cbfe78a-c672-44e7-ae34-ab307461249a",
   "metadata": {},
   "outputs": [],
   "source": [
    "for m in modes:\n",
    "    m.print_chromatic_scale_degrees()"
   ]
  },
  {
   "cell_type": "code",
   "execution_count": null,
   "id": "87bf32a7-95e0-4c30-8da8-86181504eabc",
   "metadata": {},
   "outputs": [],
   "source": [
    "for m in modes:\n",
    "    m.print_chromatic_scale_degrees(acc_fmt=\"#/b\")"
   ]
  }
 ],
 "metadata": {
  "kernelspec": {
   "display_name": "Python 3 (ipykernel)",
   "language": "python",
   "name": "python3"
  },
  "language_info": {
   "codemirror_mode": {
    "name": "ipython",
    "version": 3
   },
   "file_extension": ".py",
   "mimetype": "text/x-python",
   "name": "python",
   "nbconvert_exporter": "python",
   "pygments_lexer": "ipython3"
  }
 },
 "nbformat": 4,
 "nbformat_minor": 5
}
