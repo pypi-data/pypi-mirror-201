{
 "cells": [
  {
   "cell_type": "code",
   "execution_count": null,
   "id": "7d8d66c8-5542-4813-ac72-b7bd6a171ad1",
   "metadata": {},
   "outputs": [],
   "source": [
    "from pyabc2.sources import the_session, norbeck"
   ]
  },
  {
   "cell_type": "markdown",
   "id": "5f9879cd-40c1-4189-9dbe-aedecab3929d",
   "metadata": {},
   "source": [
    "## Norbeck"
   ]
  },
  {
   "cell_type": "code",
   "execution_count": null,
   "id": "da2e44fa-e6d7-4705-a8e6-71cfa43f8a9d",
   "metadata": {},
   "outputs": [],
   "source": [
    "tunes = norbeck.load(\"jigs\")\n",
    "tunes[0]"
   ]
  },
  {
   "cell_type": "markdown",
   "id": "3a1ebb56-dfb3-49d7-84e9-68d4bf4d2c2f",
   "metadata": {},
   "source": [
    "## The Session"
   ]
  },
  {
   "cell_type": "code",
   "execution_count": null,
   "id": "a73fd0b9-0c27-4b3f-bfb1-66dcfde656f6",
   "metadata": {},
   "outputs": [],
   "source": [
    "tune = the_session.load_url(\"https://thesession.org/tunes/21799#setting43712\")\n",
    "tune"
   ]
  },
  {
   "cell_type": "code",
   "execution_count": null,
   "id": "2322e124-5f5a-46f5-b77f-aca1fd28e326",
   "metadata": {},
   "outputs": [],
   "source": [
    "tune.print_measures()"
   ]
  }
 ],
 "metadata": {
  "kernelspec": {
   "display_name": "Python 3 (ipykernel)",
   "language": "python",
   "name": "python3"
  },
  "language_info": {
   "codemirror_mode": {
    "name": "ipython",
    "version": 3
   },
   "file_extension": ".py",
   "mimetype": "text/x-python",
   "name": "python",
   "nbconvert_exporter": "python",
   "pygments_lexer": "ipython3"
  }
 },
 "nbformat": 4,
 "nbformat_minor": 5
}
