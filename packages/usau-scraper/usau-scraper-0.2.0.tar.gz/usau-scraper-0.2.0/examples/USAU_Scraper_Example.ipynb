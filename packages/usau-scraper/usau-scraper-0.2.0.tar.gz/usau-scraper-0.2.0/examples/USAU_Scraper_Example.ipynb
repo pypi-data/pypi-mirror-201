{
  "nbformat": 4,
  "nbformat_minor": 0,
  "metadata": {
    "colab": {
      "provenance": [],
      "authorship_tag": "ABX9TyPZMy4TbvfXxm9wYabLdTYC",
      "include_colab_link": true
    },
    "kernelspec": {
      "name": "python3",
      "display_name": "Python 3"
    },
    "language_info": {
      "name": "python"
    }
  },
  "cells": [
    {
      "cell_type": "markdown",
      "metadata": {
        "id": "view-in-github",
        "colab_type": "text"
      },
      "source": [
        "<a href=\"https://colab.research.google.com/github/erin2722/usau-scraper/blob/docs/examples/USAU_Scraper_Example.ipynb\" target=\"_parent\"><img src=\"https://colab.research.google.com/assets/colab-badge.svg\" alt=\"Open In Colab\"/></a>"
      ]
    },
    {
      "cell_type": "code",
      "execution_count": 1,
      "metadata": {
        "colab": {
          "base_uri": "https://localhost:8080/"
        },
        "id": "EtmkvhpXuaqa",
        "outputId": "19c58129-7b13-45af-9669-c373da910361"
      },
      "outputs": [
        {
          "output_type": "stream",
          "name": "stdout",
          "text": [
            "Looking in indexes: https://pypi.org/simple, https://us-python.pkg.dev/colab-wheels/public/simple/\n",
            "Collecting usau-scraper\n",
            "  Downloading usau-scraper-0.0.1.tar.gz (19 kB)\n",
            "  Installing build dependencies ... \u001b[?25l\u001b[?25hdone\n",
            "  Getting requirements to build wheel ... \u001b[?25l\u001b[?25hdone\n",
            "  Preparing metadata (pyproject.toml) ... \u001b[?25l\u001b[?25hdone\n",
            "Requirement already satisfied: lxml in /usr/local/lib/python3.9/dist-packages (from usau-scraper) (4.9.2)\n",
            "Requirement already satisfied: pandas in /usr/local/lib/python3.9/dist-packages (from usau-scraper) (1.4.4)\n",
            "Requirement already satisfied: requests in /usr/local/lib/python3.9/dist-packages (from usau-scraper) (2.27.1)\n",
            "Collecting bs4\n",
            "  Downloading bs4-0.0.1.tar.gz (1.1 kB)\n",
            "  Preparing metadata (setup.py) ... \u001b[?25l\u001b[?25hdone\n",
            "Requirement already satisfied: beautifulsoup4 in /usr/local/lib/python3.9/dist-packages (from bs4->usau-scraper) (4.11.2)\n",
            "Requirement already satisfied: numpy>=1.18.5 in /usr/local/lib/python3.9/dist-packages (from pandas->usau-scraper) (1.22.4)\n",
            "Requirement already satisfied: python-dateutil>=2.8.1 in /usr/local/lib/python3.9/dist-packages (from pandas->usau-scraper) (2.8.2)\n",
            "Requirement already satisfied: pytz>=2020.1 in /usr/local/lib/python3.9/dist-packages (from pandas->usau-scraper) (2022.7.1)\n",
            "Requirement already satisfied: urllib3<1.27,>=1.21.1 in /usr/local/lib/python3.9/dist-packages (from requests->usau-scraper) (1.26.15)\n",
            "Requirement already satisfied: certifi>=2017.4.17 in /usr/local/lib/python3.9/dist-packages (from requests->usau-scraper) (2022.12.7)\n",
            "Requirement already satisfied: charset-normalizer~=2.0.0 in /usr/local/lib/python3.9/dist-packages (from requests->usau-scraper) (2.0.12)\n",
            "Requirement already satisfied: idna<4,>=2.5 in /usr/local/lib/python3.9/dist-packages (from requests->usau-scraper) (3.4)\n",
            "Requirement already satisfied: six>=1.5 in /usr/local/lib/python3.9/dist-packages (from python-dateutil>=2.8.1->pandas->usau-scraper) (1.16.0)\n",
            "Requirement already satisfied: soupsieve>1.2 in /usr/local/lib/python3.9/dist-packages (from beautifulsoup4->bs4->usau-scraper) (2.4)\n",
            "Building wheels for collected packages: usau-scraper, bs4\n",
            "  Building wheel for usau-scraper (pyproject.toml) ... \u001b[?25l\u001b[?25hdone\n",
            "  Created wheel for usau-scraper: filename=usau_scraper-0.0.1-py3-none-any.whl size=22777 sha256=74934c36da5ab64ec060d6aad7e9f6435b29b091563106ea024547cedd609a8c\n",
            "  Stored in directory: /root/.cache/pip/wheels/c1/ae/45/1a383fee02d16851c50ef7bc6e7057069301c051957f8306fe\n",
            "  Building wheel for bs4 (setup.py) ... \u001b[?25l\u001b[?25hdone\n",
            "  Created wheel for bs4: filename=bs4-0.0.1-py3-none-any.whl size=1270 sha256=43b28fcf30a7b85bcc2359ccb01028b3ba0b13e37e974aba08d32ae7eef055fa\n",
            "  Stored in directory: /root/.cache/pip/wheels/73/2b/cb/099980278a0c9a3e57ff1a89875ec07bfa0b6fcbebb9a8cad3\n",
            "Successfully built usau-scraper bs4\n",
            "Installing collected packages: bs4, usau-scraper\n",
            "Successfully installed bs4-0.0.1 usau-scraper-0.0.1\n"
          ]
        }
      ],
      "source": [
        "pip install usau-scraper"
      ]
    },
    {
      "cell_type": "code",
      "source": [
        "from usau_scraper import getTeamInfo\n",
        "\n",
        "getTeamInfo(schoolName='Columbia', teamName='Curbside')"
      ],
      "metadata": {
        "colab": {
          "base_uri": "https://localhost:8080/"
        },
        "id": "rEfGbe_ruqk4",
        "outputId": "50bf5007-64ca-49ae-8545-fc1cb020e6d9"
      },
      "execution_count": 5,
      "outputs": [
        {
          "output_type": "stream",
          "name": "stdout",
          "text": [
            "{\n",
            "    \"Columbia (Curbside)\": \"/teams/events/Eventteam/?TeamId=xPLDyRaZDSiR0OTzDBsYfzn8PJeIKdalFgjWpKUXiLI%3d\"\n",
            "}\n",
            "{\n",
            "    \"res\": \"OK\",\n",
            "    \"teams\": [\n",
            "        {\n",
            "            \"schoolName\": \"Columbia\",\n",
            "            \"teamName\": \"Curbside\",\n",
            "            \"competitionLevel\": \"College\",\n",
            "            \"genderDivision\": \"Women\",\n",
            "            \"location\": \"New York , New York\",\n",
            "            \"twitter\": \"https://twitter.com/cultimatewomen\"\n",
            "        }\n",
            "    ]\n",
            "}\n"
          ]
        },
        {
          "output_type": "execute_result",
          "data": {
            "text/plain": [
              "{'res': 'OK',\n",
              " 'teams': [{'schoolName': 'Columbia',\n",
              "   'teamName': 'Curbside',\n",
              "   'competitionLevel': 'College',\n",
              "   'genderDivision': 'Women',\n",
              "   'location': 'New York , New York',\n",
              "   'twitter': 'https://twitter.com/cultimatewomen'}]}"
            ]
          },
          "metadata": {},
          "execution_count": 5
        }
      ]
    }
  ]
}