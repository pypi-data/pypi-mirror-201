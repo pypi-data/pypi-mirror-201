{
 "cells": [
  {
   "cell_type": "markdown",
   "metadata": {},
   "source": [
    "# Test migration"
   ]
  },
  {
   "cell_type": "code",
   "execution_count": null,
   "metadata": {
    "tags": []
   },
   "outputs": [],
   "source": [
    "import os\n",
    "\n",
    "os.chdir(\"../../\")"
   ]
  },
  {
   "cell_type": "code",
   "execution_count": null,
   "metadata": {
    "tags": []
   },
   "outputs": [],
   "source": [
    "import time\n",
    "from subprocess import run\n",
    "from typing import Optional\n",
    "\n",
    "import erdiagram\n",
    "import sqlalchemy as sa\n",
    "from lamin_logger import logger\n",
    "from lndb._settings import InstanceSettings, settings\n",
    "from lndb.test import get_package_name\n",
    "from lndb.test._migrations_unit import (\n",
    "    execute_model_definitions_match_ddl,\n",
    "    get_migration_config,\n",
    "    get_migration_id_from_scripts,\n",
    "    migration_id_is_consistent,\n",
    ")\n",
    "from pytest_alembic.executor import CommandExecutor, ConnectionExecutor\n",
    "from pytest_alembic.runner import MigrationContext\n",
    "from sqlalchemy import MetaData, create_engine, func, select\n",
    "\n",
    "from lnhub_rest import engine\n",
    "from lnhub_rest.schema._core import SQLModel  # updated registry in it!\n",
    "from lnhub_rest.schema.migrations.settings import PROD_URL\n",
    "from lnhub_rest.schema.migrations.utils import include_name\n",
    "from lndb.dev._clone import clone_test\n",
    "\n",
    "from sqlalchemy import text\n",
    "\n",
    "from lnhub_rest.schema.migrations.function._2023_02_21_a88f5298b8f7_v0_4_2 import (\n",
    "    sql_functions,\n",
    ")\n",
    "from lnhub_rest.schema.migrations.rls._2023_02_21_a88f5298b8f7_v0_4_2 import (\n",
    "    sql_rls_account,\n",
    "    sql_rls_account_instance,\n",
    "    sql_rls_instance,\n",
    "    sql_rls_migration,\n",
    "    sql_rls_storage,\n",
    "    sql_rls_version,\n",
    ")\n",
    "from lnhub_rest.schema.migrations.rls._2023_03_09_0c4d4fe5f2c6_v0_6_1 import (\n",
    "    sql_rls_migration as sql_rls_migration_2,\n",
    "    sql_rls_version as sql_rls_version_2,\n",
    ")\n",
    "from lnhub_rest.schema.migrations.rls._2023_03_24_333fd693eac8_v0_6_1b import (\n",
    "    sql_rls_owner_select_collaborators,\n",
    ")"
   ]
  },
  {
   "cell_type": "code",
   "execution_count": null,
   "metadata": {
    "tags": []
   },
   "outputs": [],
   "source": [
    "package_name = get_package_name()\n",
    "schema_package_loc = f\"./{package_name}/schema\""
   ]
  },
  {
   "cell_type": "code",
   "execution_count": null,
   "metadata": {
    "tags": []
   },
   "outputs": [],
   "source": [
    "def get_migration_context(schema_package_loc):\n",
    "    src_settings = InstanceSettings(\n",
    "        storage_root=\"teststore\",\n",
    "        db=PROD_URL,\n",
    "        name=\"testdb\",\n",
    "        owner=\"testuser1\",\n",
    "    )\n",
    "    connection_string = clone_test(src_settings=src_settings, supabase=True)\n",
    "    engine = sa.create_engine(connection_string, future=True)\n",
    "    target_metadata = SQLModel.metadata\n",
    "    config = get_migration_config(\n",
    "        schema_package_loc,\n",
    "        target_metadata=target_metadata,\n",
    "        include_schemas=True,\n",
    "        include_name=include_name,\n",
    "    )\n",
    "    command_executor = CommandExecutor.from_config(config)\n",
    "    command_executor.configure(connection=engine)\n",
    "    migration_context = MigrationContext.from_config(\n",
    "        config, command_executor, ConnectionExecutor(), engine\n",
    "    )\n",
    "    # clone_test is currently only copying tables\n",
    "    # so we need to create existing RLS and functions manually\n",
    "    create_functions_and_rls(engine)\n",
    "    return migration_context\n",
    "\n",
    "\n",
    "def create_functions_and_rls(engine):\n",
    "    with engine.connect() as conn:\n",
    "        conn.execute(text(sql_functions))\n",
    "        conn.execute(text(sql_rls_account))\n",
    "        conn.execute(text(sql_rls_account_instance))\n",
    "        conn.execute(text(sql_rls_instance))\n",
    "        conn.execute(text(sql_rls_migration))\n",
    "        conn.execute(text(sql_rls_storage))\n",
    "        conn.execute(text(sql_rls_version))\n",
    "        conn.execute(text(sql_rls_migration_2))\n",
    "        conn.execute(text(sql_rls_version_2))\n",
    "        # conn.execute(text(sql_rls_owner_select_collaborators))\n",
    "        conn.commit()\n",
    "\n",
    "\n",
    "def test_migration_id_is_consistent():\n",
    "    assert migration_id_is_consistent(schema_package_loc)\n",
    "\n",
    "\n",
    "def test_model_definitions_match_ddl_postgres():\n",
    "    migration_context = get_migration_context(schema_package_loc)\n",
    "    execute_model_definitions_match_ddl(migration_context)\n",
    "\n",
    "\n",
    "def test_export_schema():\n",
    "    migration_id = get_migration_id_from_scripts(schema_package_loc)\n",
    "    metadata = sa.MetaData(bind=engine)\n",
    "    metadata.reflect()\n",
    "    graph = erdiagram.create_schema_graph(\n",
    "        metadata=metadata,\n",
    "        show_datatypes=False,\n",
    "        show_indexes=False,\n",
    "        rankdir=\"LR\",\n",
    "        concentrate=True,\n",
    "    )\n",
    "    try:\n",
    "        graph.write_svg(f\"./docs/_schemas/lnhub-schema-{migration_id}.svg\")\n",
    "    except FileNotFoundError:\n",
    "        print(\"Did not write schema graph.\")"
   ]
  },
  {
   "cell_type": "code",
   "execution_count": null,
   "metadata": {},
   "outputs": [],
   "source": [
    "from lnhub_rest.schema.migrations.versions import *"
   ]
  },
  {
   "cell_type": "code",
   "execution_count": null,
   "metadata": {
    "tags": []
   },
   "outputs": [],
   "source": [
    "test_migration_id_is_consistent()"
   ]
  },
  {
   "cell_type": "code",
   "execution_count": null,
   "metadata": {
    "tags": []
   },
   "outputs": [],
   "source": [
    "test_model_definitions_match_ddl_postgres()"
   ]
  },
  {
   "cell_type": "code",
   "execution_count": null,
   "metadata": {},
   "outputs": [],
   "source": [
    "test_export_schema()"
   ]
  }
 ],
 "metadata": {
  "kernelspec": {
   "display_name": "Python 3 (ipykernel)",
   "language": "python",
   "name": "python3"
  },
  "language_info": {
   "codemirror_mode": {
    "name": "ipython",
    "version": 3
   },
   "file_extension": ".py",
   "mimetype": "text/x-python",
   "name": "python",
   "nbconvert_exporter": "python",
   "pygments_lexer": "ipython3",
   "version": "3.9.13"
  },
  "vscode": {
   "interpreter": {
    "hash": "2841734f87827db3a7b3181a6051fe720e9968e703956c2bd6988b5a29362801"
   }
  }
 },
 "nbformat": 4,
 "nbformat_minor": 4
}
