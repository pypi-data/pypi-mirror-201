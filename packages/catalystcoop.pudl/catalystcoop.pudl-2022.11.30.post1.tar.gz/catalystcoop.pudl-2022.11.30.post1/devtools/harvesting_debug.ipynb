{
 "cells": [
  {
   "cell_type": "code",
   "execution_count": null,
   "metadata": {},
   "outputs": [],
   "source": [
    "%load_ext autoreload\n",
    "%autoreload 2"
   ]
  },
  {
   "cell_type": "code",
   "execution_count": null,
   "metadata": {},
   "outputs": [],
   "source": [
    "import pudl\n",
    "import pathlib\n",
    "import yaml\n",
    "from pudl.etl import *\n",
    "import logging\n",
    "import sys\n",
    "import copy"
   ]
  },
  {
   "cell_type": "code",
   "execution_count": null,
   "metadata": {},
   "outputs": [],
   "source": [
    "logger = logging.getLogger()\n",
    "logger.setLevel(logging.DEBUG)\n",
    "handler = logging.StreamHandler(stream=sys.stdout)\n",
    "formatter = logging.Formatter('%(message)s')\n",
    "handler.setFormatter(formatter)\n",
    "logger.handlers = [handler]"
   ]
  },
  {
   "cell_type": "markdown",
   "metadata": {},
   "source": [
    "# Setup"
   ]
  },
  {
   "cell_type": "code",
   "execution_count": null,
   "metadata": {},
   "outputs": [],
   "source": [
    "pudl_settings = pudl.workspace.setup.get_defaults()\n",
    "settings_file_name= 'etl_full.yml'\n",
    "etl_settings = EtlSettings.from_yaml(\n",
    "    pathlib.Path(pudl_settings['settings_dir'],\n",
    "                 settings_file_name))\n",
    "validated_etl_settings = etl_settings.datasets\n",
    "datasets = validated_etl_settings.get_datasets()\n",
    "eia_settings = datasets[\"eia\"]"
   ]
  },
  {
   "cell_type": "markdown",
   "metadata": {},
   "source": [
    "You can skip the settings step above and set these years/tables yourself here without using the settings files... just know they are not validated below so they could be wrong and fail after some time. It is HIGHLY RECOMMENDED that you use all the years/tables"
   ]
  },
  {
   "cell_type": "code",
   "execution_count": null,
   "metadata": {},
   "outputs": [],
   "source": [
    "eia860_tables = eia_settings.eia860.tables\n",
    "eia860_years = eia_settings.eia860.years\n",
    "eia860m = eia_settings.eia860.eia860m\n",
    "eia923_tables = eia_settings.eia923.tables\n",
    "eia923_years = eia_settings.eia923.years\n",
    "\n",
    "ds = Datastore()"
   ]
  },
  {
   "cell_type": "markdown",
   "metadata": {},
   "source": [
    "# Run extract step & phase 1 transform step\n",
    "this is pulled from `pudl.etl._etl_eia()`"
   ]
  },
  {
   "cell_type": "code",
   "execution_count": null,
   "metadata": {},
   "outputs": [],
   "source": [
    "\n",
    "# Extract EIA forms 923, 860\n",
    "eia923_raw_dfs = pudl.extract.eia923.Extractor(ds).extract(\n",
    "    settings=eia_settings.eia923\n",
    ")\n",
    "eia860_raw_dfs = pudl.extract.eia860.Extractor(ds).extract(\n",
    "    settings=eia_settings.eia860\n",
    ")\n",
    "# if we are trying to add the EIA 860M YTD data, then extract it and append\n",
    "if eia860m:\n",
    "    eia860m_raw_dfs = pudl.extract.eia860m.Extractor(ds).extract(\n",
    "        settings=eia_settings.eia860\n",
    "    )\n",
    "    eia860_raw_dfs = pudl.extract.eia860m.append_eia860m(\n",
    "        eia860_raw_dfs=eia860_raw_dfs, eia860m_raw_dfs=eia860m_raw_dfs\n",
    "    )\n",
    "\n",
    "# Transform EIA forms 923, 860\n",
    "eia860_transformed_dfs = pudl.transform.eia860.transform(\n",
    "    eia860_raw_dfs, eia860_settings=eia_settings.eia860\n",
    ")\n",
    "\n",
    "eia923_transformed_dfs = pudl.transform.eia923.transform(\n",
    "    eia923_raw_dfs, eia923_settings=eia_settings.eia923\n",
    ")"
   ]
  },
  {
   "cell_type": "markdown",
   "metadata": {},
   "source": [
    "You have to re-run this cell every time you want to re-run the havesting cell below (bc `pudl.transform.eia.harvesting` removes columns from the dfs). This cell enables you to start with a fresh`eia_transformed_dfs` without needing to re-run the 860/923 transforms."
   ]
  },
  {
   "cell_type": "code",
   "execution_count": null,
   "metadata": {},
   "outputs": [],
   "source": [
    "# create an eia transformed dfs dictionary\n",
    "eia_transformed_dfs = eia860_transformed_dfs.copy()\n",
    "eia_transformed_dfs.update(eia923_transformed_dfs.copy())\n",
    "\n",
    "# Do some final cleanup and assign appropriate types:\n",
    "eia_transformed_dfs = {\n",
    "    name: convert_cols_dtypes(df, data_source=\"eia\")\n",
    "    for name, df in eia_transformed_dfs.items()\n",
    "}"
   ]
  },
  {
   "cell_type": "markdown",
   "metadata": {},
   "source": [
    "# Run harvest w/ debug=True"
   ]
  },
  {
   "cell_type": "code",
   "execution_count": null,
   "metadata": {},
   "outputs": [],
   "source": [
    "# we want to investigate the harvesting of the plants in this case...\n",
    "entity = 'generators'\n",
    "# create the empty entities df to fill up\n",
    "entities_dfs = {}\n",
    "entities_dfs, eia_transformed_dfs, col_dfs = (\n",
    "    pudl.transform.eia.harvesting(\n",
    "        entity, eia_transformed_dfs, entities_dfs, debug=True)\n",
    ")"
   ]
  },
  {
   "cell_type": "markdown",
   "metadata": {},
   "source": [
    "# Use `col_dfs` to explore harvested values"
   ]
  },
  {
   "cell_type": "code",
   "execution_count": null,
   "metadata": {},
   "outputs": [],
   "source": [
    "pmc = col_dfs['prime_mover_code']"
   ]
  },
  {
   "cell_type": "code",
   "execution_count": null,
   "metadata": {},
   "outputs": [],
   "source": [
    "pmc.prime_mover_code.unique()"
   ]
  }
 ],
 "metadata": {
  "kernelspec": {
   "display_name": "Python 3.10.5 ('pudl-dev')",
   "language": "python",
   "name": "python3"
  },
  "language_info": {
   "codemirror_mode": {
    "name": "ipython",
    "version": 3
   },
   "file_extension": ".py",
   "mimetype": "text/x-python",
   "name": "python",
   "nbconvert_exporter": "python",
   "pygments_lexer": "ipython3",
   "version": "3.10.5"
  },
  "vscode": {
   "interpreter": {
    "hash": "45ac4012cf3d511abe021e64327549bc8e5a875099e88743f7447e1180329125"
   }
  }
 },
 "nbformat": 4,
 "nbformat_minor": 4
}
