{
 "cells": [
  {
   "cell_type": "markdown",
   "metadata": {},
   "source": [
    "# Working with the EIA Extract / Transform\n",
    "This notebook steps through PUDL's extract and transform steps for the EIA 860 and 923 datasets, to make it easier to test and add new years of data, or new tables from the various spreadsheets that haven't been integrated yet."
   ]
  },
  {
   "cell_type": "code",
   "execution_count": null,
   "metadata": {},
   "outputs": [],
   "source": [
    "%load_ext autoreload\n",
    "%autoreload 3\n",
    "import pudl\n",
    "import logging\n",
    "import sys\n",
    "from pathlib import Path\n",
    "import pandas as pd\n",
    "pd.options.display.max_columns = None"
   ]
  },
  {
   "cell_type": "code",
   "execution_count": null,
   "metadata": {},
   "outputs": [],
   "source": [
    "logger = logging.getLogger()\n",
    "logger.setLevel(logging.INFO)\n",
    "handler = logging.StreamHandler(stream=sys.stdout)\n",
    "formatter = logging.Formatter('%(message)s')\n",
    "handler.setFormatter(formatter)\n",
    "logger.handlers = [handler]"
   ]
  },
  {
   "cell_type": "code",
   "execution_count": null,
   "metadata": {},
   "outputs": [],
   "source": [
    "pudl_settings = pudl.workspace.setup.get_defaults()"
   ]
  },
  {
   "cell_type": "markdown",
   "metadata": {},
   "source": [
    "## Set the scope for the Extract-Transform:"
   ]
  },
  {
   "cell_type": "code",
   "execution_count": null,
   "metadata": {},
   "outputs": [],
   "source": [
    "from pudl.settings import Eia860Settings, Eia923Settings, EiaSettings\n",
    "from pudl.metadata.classes import DataSource\n",
    "\n",
    "eia860_data_source = DataSource.from_id(\"eia860\")\n",
    "eia860_settings = Eia860Settings(\n",
    "# Limit the years as needed if you're testing only a few of them. E.g.:\n",
    "    years=[2021],\n",
    "#   years=eia860_data_source.working_partitions[\"years\"]\n",
    "# By default all of the tables will be processed.\n",
    "# Select the relevant tables as needed if you're testing only a few of them. E.g.:\n",
    "#   tables=[\"generation_fuel_nuclear_eia923\", \"generation_fuel_eia923\"]\n",
    ")\n",
    "\n",
    "eia923_data_source = DataSource.from_id(\"eia923\")\n",
    "eia923_settings = Eia923Settings(\n",
    "# Limit the years as needed if you're testing only a few of them. E.g.:\n",
    "    years = [2021]\n",
    "    # years = eia923_data_source.working_partitions[\"years\"]\n",
    "# By default all of the tables will be processed.\n",
    "# Select the relevant tables as needed if you're testing only a few of them. E.g.:\n",
    "#   tables=[\"generation_fuel_nuclear_eia923\", \"generation_fuel_eia923\"]\n",
    ")\n",
    "\n",
    "eia_settings = EiaSettings(eia860=eia860_settings, eia923=eia923_settings)"
   ]
  },
  {
   "cell_type": "markdown",
   "metadata": {},
   "source": [
    "## Create a locally cached datastore"
   ]
  },
  {
   "cell_type": "code",
   "execution_count": null,
   "metadata": {},
   "outputs": [],
   "source": [
    "ds_kwargs = {\"local_cache_path\": pudl_settings[\"data_dir\"]}\n",
    "ds = pudl.workspace.datastore.Datastore(**ds_kwargs)"
   ]
  },
  {
   "cell_type": "markdown",
   "metadata": {},
   "source": [
    "# EIA-860"
   ]
  },
  {
   "cell_type": "markdown",
   "metadata": {},
   "source": [
    "## Extract just the EIA-860 / EIA-860m"
   ]
  },
  {
   "cell_type": "code",
   "execution_count": null,
   "metadata": {},
   "outputs": [],
   "source": [
    "%%time\n",
    "eia860_extractor = pudl.extract.eia860.Extractor(ds)\n",
    "eia860_raw_dfs = eia860_extractor.extract(settings=eia860_settings)\n",
    "\n",
    "eia860m_extractor = pudl.extract.eia860m.Extractor(ds)\n",
    "if eia860_settings.eia860m:\n",
    "    eia860m_raw_dfs = eia860m_extractor.extract(\n",
    "        settings=eia860_settings\n",
    "    )\n",
    "    eia860_raw_dfs = pudl.extract.eia860m.append_eia860m(\n",
    "        eia860_raw_dfs=eia860_raw_dfs,\n",
    "        eia860m_raw_dfs=eia860m_raw_dfs\n",
    "    )"
   ]
  },
  {
   "cell_type": "markdown",
   "metadata": {},
   "source": [
    "## Transform EIA-860 / EIA-860m"
   ]
  },
  {
   "cell_type": "code",
   "execution_count": null,
   "metadata": {},
   "outputs": [],
   "source": [
    "%%time\n",
    "eia860_transformed_dfs = pudl.transform.eia860.transform(\n",
    "    eia860_raw_dfs,\n",
    "    eia860_settings=eia860_settings,\n",
    ")"
   ]
  },
  {
   "cell_type": "markdown",
   "metadata": {},
   "source": [
    "# EIA-923"
   ]
  },
  {
   "cell_type": "markdown",
   "metadata": {},
   "source": [
    "## Extract just the EIA-923"
   ]
  },
  {
   "cell_type": "code",
   "execution_count": null,
   "metadata": {},
   "outputs": [],
   "source": [
    "%%time\n",
    "eia923_extractor = pudl.extract.eia923.Extractor(ds)\n",
    "eia923_raw_dfs = eia923_extractor.extract(settings=eia_settings.eia923)"
   ]
  },
  {
   "cell_type": "markdown",
   "metadata": {},
   "source": [
    "## Transform just the EIA-923"
   ]
  },
  {
   "cell_type": "code",
   "execution_count": null,
   "metadata": {},
   "outputs": [],
   "source": [
    "%%time\n",
    "eia923_transformed_dfs = pudl.transform.eia923.transform(\n",
    "    eia923_raw_dfs,\n",
    "    eia923_settings=eia923_settings,\n",
    ")"
   ]
  },
  {
   "cell_type": "markdown",
   "metadata": {},
   "source": [
    "# Combined EIA Data"
   ]
  },
  {
   "cell_type": "markdown",
   "metadata": {},
   "source": [
    "## Merge EIA-923/860, set dtypes, harvest entities"
   ]
  },
  {
   "cell_type": "code",
   "execution_count": null,
   "metadata": {},
   "outputs": [],
   "source": [
    "%%time\n",
    "eia_transformed_dfs = eia923_transformed_dfs.copy()\n",
    "eia_transformed_dfs.update(eia860_transformed_dfs.copy())\n",
    "\n",
    "# Do some final cleanup and assign appropriate types:\n",
    "eia_transformed_dfs = {\n",
    "    name: pudl.helpers.convert_cols_dtypes(df, data_source=\"eia\")\n",
    "    for name, df in eia_transformed_dfs.items()\n",
    "}\n",
    "    \n",
    "entities_dfs, eia_transformed_dfs = pudl.transform.eia.transform(\n",
    "    eia_transformed_dfs,\n",
    "    eia_settings=eia_settings,\n",
    ")\n",
    "\n",
    "# Assign appropriate types to new entity tables:\n",
    "entities_dfs = {\n",
    "    name: pudl.metadata.fields.apply_pudl_dtypes(df, group=\"eia\")\n",
    "    for name, df in entities_dfs.items()\n",
    "}\n",
    "\n",
    "for table in entities_dfs:\n",
    "    entities_dfs[table] = (\n",
    "        pudl.metadata.classes.Package.from_resource_ids()\n",
    "        .get_resource(table)\n",
    "        .encode(entities_dfs[table])\n",
    "    )\n",
    "\n",
    "out_dfs = pudl.etl._read_static_encoding_tables(etl_group=\"static_eia\")\n",
    "out_dfs.update(entities_dfs)\n",
    "out_dfs.update(eia_transformed_dfs)"
   ]
  },
  {
   "cell_type": "code",
   "execution_count": null,
   "metadata": {},
   "outputs": [],
   "source": []
  }
 ],
 "metadata": {
  "kernelspec": {
   "display_name": "Python 3 (ipykernel)",
   "language": "python",
   "name": "python3"
  },
  "language_info": {
   "codemirror_mode": {
    "name": "ipython",
    "version": 3
   },
   "file_extension": ".py",
   "mimetype": "text/x-python",
   "name": "python",
   "nbconvert_exporter": "python",
   "pygments_lexer": "ipython3",
   "version": "3.10.6"
  }
 },
 "nbformat": 4,
 "nbformat_minor": 4
}
