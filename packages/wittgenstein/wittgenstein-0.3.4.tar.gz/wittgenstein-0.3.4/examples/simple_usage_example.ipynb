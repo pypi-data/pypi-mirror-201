{
 "cells": [
  {
   "cell_type": "markdown",
   "metadata": {},
   "source": [
    "#### Usage example on congress dataset"
   ]
  },
  {
   "cell_type": "markdown",
   "metadata": {},
   "source": [
    "These examples use the RIPPER algorithm. IREP usage is similar, with only slight hyperparameter differences."
   ]
  },
  {
   "cell_type": "code",
   "execution_count": 1,
   "metadata": {},
   "outputs": [],
   "source": [
    "import wittgenstein as lw\n",
    "import pandas as pd"
   ]
  },
  {
   "cell_type": "markdown",
   "metadata": {},
   "source": [
    "Load our dataset:"
   ]
  },
  {
   "cell_type": "code",
   "execution_count": 2,
   "metadata": {},
   "outputs": [
    {
     "data": {
      "text/html": [
       "<div>\n",
       "<style scoped>\n",
       "    .dataframe tbody tr th:only-of-type {\n",
       "        vertical-align: middle;\n",
       "    }\n",
       "\n",
       "    .dataframe tbody tr th {\n",
       "        vertical-align: top;\n",
       "    }\n",
       "\n",
       "    .dataframe thead th {\n",
       "        text-align: right;\n",
       "    }\n",
       "</style>\n",
       "<table border=\"1\" class=\"dataframe\">\n",
       "  <thead>\n",
       "    <tr style=\"text-align: right;\">\n",
       "      <th></th>\n",
       "      <th>age</th>\n",
       "      <th>workclass</th>\n",
       "      <th>fnlwgt</th>\n",
       "      <th>education</th>\n",
       "      <th>education.num</th>\n",
       "      <th>marital.status</th>\n",
       "      <th>occupation</th>\n",
       "      <th>relationship</th>\n",
       "      <th>race</th>\n",
       "      <th>sex</th>\n",
       "      <th>capital.gain</th>\n",
       "      <th>capital.loss</th>\n",
       "      <th>hours.per.week</th>\n",
       "      <th>native.country</th>\n",
       "      <th>income</th>\n",
       "    </tr>\n",
       "  </thead>\n",
       "  <tbody>\n",
       "    <tr>\n",
       "      <th>0</th>\n",
       "      <td>90</td>\n",
       "      <td>?</td>\n",
       "      <td>77053</td>\n",
       "      <td>HS-grad</td>\n",
       "      <td>9</td>\n",
       "      <td>Widowed</td>\n",
       "      <td>?</td>\n",
       "      <td>Not-in-family</td>\n",
       "      <td>White</td>\n",
       "      <td>Female</td>\n",
       "      <td>0</td>\n",
       "      <td>4356</td>\n",
       "      <td>40</td>\n",
       "      <td>United-States</td>\n",
       "      <td>&lt;=50K</td>\n",
       "    </tr>\n",
       "  </tbody>\n",
       "</table>\n",
       "</div>"
      ],
      "text/plain": [
       "   age workclass  fnlwgt education  education.num marital.status occupation  \\\n",
       "0   90         ?   77053   HS-grad              9        Widowed          ?   \n",
       "\n",
       "    relationship   race     sex  capital.gain  capital.loss  hours.per.week  \\\n",
       "0  Not-in-family  White  Female             0          4356              40   \n",
       "\n",
       "  native.country income  \n",
       "0  United-States  <=50K  "
      ]
     },
     "execution_count": 2,
     "metadata": {},
     "output_type": "execute_result"
    }
   ],
   "source": [
    "df = pd.read_csv('../../datasets/adult.csv')\n",
    "df.head(1)"
   ]
  },
  {
   "cell_type": "markdown",
   "metadata": {},
   "source": [
    "Split our data into train-test sets:"
   ]
  },
  {
   "cell_type": "code",
   "execution_count": 3,
   "metadata": {},
   "outputs": [],
   "source": [
    "from sklearn.model_selection import train_test_split\n",
    "train, test = train_test_split(df, random_state=42)"
   ]
  },
  {
   "cell_type": "markdown",
   "metadata": {},
   "source": [
    "#### Training"
   ]
  },
  {
   "cell_type": "markdown",
   "metadata": {},
   "source": [
    "Create a ruleset classifier:"
   ]
  },
  {
   "cell_type": "code",
   "execution_count": 4,
   "metadata": {},
   "outputs": [
    {
     "data": {
      "text/plain": [
       "<RIPPER(prune_size=0.33, max_rule_conds=None, verbosity=1, max_total_conds=None, k=2, random_state=42, max_rules=None, n_discretize_bins=10, dl_allowance=64)>"
      ]
     },
     "execution_count": 4,
     "metadata": {},
     "output_type": "execute_result"
    }
   ],
   "source": [
    "clf = lw.RIPPER(random_state=42, verbosity=1)\n",
    "clf"
   ]
  },
  {
   "cell_type": "markdown",
   "metadata": {},
   "source": [
    "Train the ruleset classifier on the trainset:"
   ]
  },
  {
   "cell_type": "code",
   "execution_count": 5,
   "metadata": {},
   "outputs": [
    {
     "name": "stdout",
     "output_type": "stream",
     "text": [
      "discretizing 6 features\n",
      "\n",
      "GREW INITIAL RULESET:\n",
      "[[marital.status=Married-civ-spouse ^ education.num=>13.0 ^ occupation=Exec-managerial ^ hours.per.week=40.0-50.0 ^ native.country=United-States] V\n",
      "[marital.status=Married-civ-spouse ^ education.num=11.0-13.0 ^ occupation=Exec-managerial ^ hours.per.week=40.0-50.0 ^ capital.gain=9999.9-19999.8] V\n",
      "[marital.status=Married-civ-spouse ^ education=Bachelors ^ occupation=Exec-managerial ^ hours.per.week=40.0-50.0 ^ workclass=Private ^ age=50.0-58.0] V\n",
      "[marital.status=Married-civ-spouse ^ education=Bachelors ^ occupation=Exec-managerial ^ age=45.0-50.0 ^ hours.per.week=35.0-40.0 ^ workclass=State-gov] V\n",
      "[marital.status=Married-civ-spouse ^ education=Bachelors ^ occupation=Exec-managerial ^ age=45.0-50.0] V\n",
      "[marital.status=Married-civ-spouse ^ education.num=>13.0 ^ occupation=Prof-specialty ^ education=Prof-school ^ workclass=Self-emp-inc ^ hours.per.week=>55.0] V\n",
      "[marital.status=Married-civ-spouse ^ education.num=>13.0 ^ occupation=Prof-specialty ^ capital.loss=1742.4-2178.0] V\n",
      "[marital.status=Married-civ-spouse ^ education.num=11.0-13.0 ^ hours.per.week=40.0-50.0 ^ age=37.0-41.0 ^ workclass=Private ^ education=Bachelors ^ race=White ^ occupation=Exec-managerial] V\n",
      "[marital.status=Married-civ-spouse ^ education.num=11.0-13.0 ^ occupation=Exec-managerial ^ capital.loss=1742.4-2178.0] V\n",
      "[marital.status=Married-civ-spouse ^ education.num=11.0-13.0 ^ occupation=Exec-managerial ^ hours.per.week=40.0-50.0 ^ fnlwgt=>327789.9 ^ age=30.0-33.0] V\n",
      "[marital.status=Married-civ-spouse ^ education.num=11.0-13.0 ^ education=Bachelors ^ hours.per.week=40.0-50.0 ^ workclass=Private ^ occupation=Prof-specialty ^ age=33.0-37.0] V\n",
      "[marital.status=Married-civ-spouse ^ education=Bachelors ^ occupation=Exec-managerial ^ workclass=Private] V\n",
      "[marital.status=Married-civ-spouse ^ education.num=>13.0 ^ capital.gain=9999.9-19999.8] V\n",
      "[marital.status=Married-civ-spouse ^ occupation=Prof-specialty ^ education.num=>13.0 ^ education=Prof-school ^ hours.per.week=40.0-50.0 ^ age=37.0-41.0] V\n",
      "[marital.status=Married-civ-spouse ^ education.num=>13.0 ^ occupation=Exec-managerial ^ hours.per.week=>55.0] V\n",
      "[marital.status=Married-civ-spouse ^ occupation=Prof-specialty ^ education.num=>13.0 ^ education=Prof-school ^ capital.gain=>89999.1] V\n",
      "[marital.status=Married-civ-spouse ^ education.num=11.0-13.0 ^ hours.per.week=40.0-50.0 ^ occupation=Exec-managerial] V\n",
      "[marital.status=Married-civ-spouse ^ occupation=Prof-specialty ^ education.num=>13.0 ^ fnlwgt=106764.2-131230.0 ^ native.country=United-States ^ education=Masters] V\n",
      "[marital.status=Married-civ-spouse ^ occupation=Prof-specialty ^ education.num=>13.0 ^ race=White ^ workclass=Private ^ hours.per.week=35.0-40.0 ^ age=50.0-58.0] V\n",
      "[marital.status=Married-civ-spouse ^ occupation=Prof-specialty ^ education.num=>13.0 ^ education=Prof-school] V\n",
      "[marital.status=Married-civ-spouse ^ education.num=11.0-13.0 ^ education=Bachelors ^ hours.per.week=40.0-50.0 ^ occupation=Sales ^ age=50.0-58.0] V\n",
      "[marital.status=Married-civ-spouse ^ education.num=11.0-13.0 ^ education=Bachelors ^ capital.loss=1742.4-2178.0 ^ race=White] V\n",
      "[marital.status=Married-civ-spouse ^ education.num=11.0-13.0 ^ capital.gain=9999.9-19999.8] V\n",
      "[marital.status=Married-civ-spouse ^ occupation=Prof-specialty ^ education.num=>13.0 ^ age=37.0-41.0 ^ hours.per.week=35.0-40.0 ^ native.country=United-States] V\n",
      "[marital.status=Married-civ-spouse ^ education=Bachelors ^ hours.per.week=40.0-50.0 ^ occupation=Prof-specialty ^ fnlwgt=196872.4-220019.0] V\n",
      "[marital.status=Married-civ-spouse ^ education.num=11.0-13.0 ^ education=Bachelors ^ hours.per.week=40.0-50.0 ^ age=37.0-41.0 ^ fnlwgt=220019.0-259948.6] V\n",
      "[marital.status=Married-civ-spouse ^ education.num=11.0-13.0 ^ education=Bachelors ^ occupation=Sales ^ workclass=Private ^ age=33.0-37.0] V\n",
      "[marital.status=Married-civ-spouse ^ education.num=11.0-13.0 ^ hours.per.week=40.0-50.0 ^ age=41.0-45.0 ^ fnlwgt=106764.2-131230.0] V\n",
      "[marital.status=Married-civ-spouse ^ occupation=Prof-specialty ^ education.num=>13.0 ^ education=Doctorate] V\n",
      "[marital.status=Married-civ-spouse ^ education.num=11.0-13.0 ^ education=Bachelors ^ occupation=Prof-specialty] V\n",
      "[marital.status=Married-civ-spouse ^ occupation=Exec-managerial ^ education.num=>13.0 ^ age=41.0-45.0] V\n",
      "[marital.status=Married-civ-spouse ^ occupation=Exec-managerial ^ capital.loss=1742.4-2178.0] V\n",
      "[marital.status=Married-civ-spouse ^ occupation=Exec-managerial ^ workclass=Self-emp-inc ^ age=45.0-50.0 ^ education=Some-college] V\n",
      "[marital.status=Married-civ-spouse ^ occupation=Exec-managerial ^ workclass=Self-emp-inc ^ age=33.0-37.0] V\n",
      "[marital.status=Married-civ-spouse ^ education.num=11.0-13.0 ^ education=Bachelors ^ native.country=United-States ^ hours.per.week=35.0-40.0 ^ occupation=Exec-managerial ^ relationship=Husband ^ workclass=Federal-gov] V\n",
      "[marital.status=Married-civ-spouse ^ occupation=Exec-managerial ^ workclass=Private ^ age=45.0-50.0] V\n",
      "[marital.status=Married-civ-spouse ^ education.num=11.0-13.0 ^ education=Bachelors ^ native.country=United-States ^ occupation=Tech-support] V\n",
      "[marital.status=Married-civ-spouse ^ education.num=>13.0 ^ native.country=United-States ^ age=50.0-58.0] V\n",
      "[marital.status=Married-civ-spouse ^ education.num=11.0-13.0 ^ occupation=Sales ^ workclass=Self-emp-inc ^ hours.per.week=>55.0] V\n",
      "[marital.status=Married-civ-spouse ^ education.num=11.0-13.0 ^ occupation=Sales ^ workclass=Private ^ fnlwgt=178623.0-196872.4 ^ hours.per.week=35.0-40.0] V\n",
      "[marital.status=Married-civ-spouse ^ education.num=11.0-13.0 ^ occupation=Sales ^ hours.per.week=40.0-50.0 ^ age=37.0-41.0 ^ workclass=Self-emp-not-inc] V\n",
      "[marital.status=Married-civ-spouse ^ education.num=11.0-13.0 ^ occupation=Sales ^ hours.per.week=40.0-50.0 ^ age=37.0-41.0 ^ fnlwgt=131230.0-158825.6] V\n",
      "[marital.status=Married-civ-spouse ^ education.num=11.0-13.0 ^ occupation=Sales ^ hours.per.week=40.0-50.0 ^ workclass=Self-emp-inc ^ race=White ^ age=33.0-37.0] V\n",
      "[marital.status=Married-civ-spouse ^ education.num=>13.0 ^ age=45.0-50.0 ^ hours.per.week=35.0-40.0] V\n",
      "[marital.status=Married-civ-spouse ^ education.num=11.0-13.0 ^ education=Bachelors ^ hours.per.week=40.0-50.0 ^ workclass=Private ^ fnlwgt=259948.6-327789.9 ^ age=37.0-41.0] V\n",
      "[marital.status=Married-civ-spouse ^ education.num=11.0-13.0 ^ education=Bachelors ^ age=41.0-45.0 ^ hours.per.week=35.0-40.0] V\n",
      "[marital.status=Married-civ-spouse ^ education.num=11.0-13.0 ^ hours.per.week=40.0-50.0 ^ occupation=Craft-repair ^ age=41.0-45.0] V\n",
      "[marital.status=Married-civ-spouse ^ education.num=11.0-13.0 ^ hours.per.week=40.0-50.0 ^ workclass=Private ^ occupation=Sales ^ age=26.0-30.0 ^ fnlwgt=178623.0-196872.4] V\n",
      "[marital.status=Married-civ-spouse ^ education.num=11.0-13.0 ^ hours.per.week=40.0-50.0 ^ age=45.0-50.0 ^ fnlwgt=220019.0-259948.6] V\n",
      "[marital.status=Married-civ-spouse ^ occupation=Exec-managerial ^ workclass=Private ^ education=Assoc-voc ^ race=White ^ hours.per.week=40.0-50.0 ^ age=37.0-41.0] V\n",
      "[marital.status=Married-civ-spouse ^ education.num=11.0-13.0 ^ hours.per.week=40.0-50.0 ^ workclass=Private ^ occupation=Sales] V\n",
      "[marital.status=Married-civ-spouse ^ occupation=Exec-managerial ^ education.num=11.0-13.0 ^ age=50.0-58.0 ^ workclass=Self-emp-not-inc ^ education=Bachelors ^ hours.per.week=35.0-40.0] V\n",
      "[marital.status=Married-civ-spouse ^ occupation=Exec-managerial ^ workclass=Self-emp-inc ^ fnlwgt=131230.0-158825.6 ^ age=41.0-45.0] V\n",
      "[marital.status=Married-civ-spouse ^ occupation=Exec-managerial ^ workclass=Private ^ age=50.0-58.0 ^ education=Some-college ^ capital.loss=<435.6 ^ hours.per.week=40.0-50.0] V\n",
      "[marital.status=Married-civ-spouse ^ occupation=Exec-managerial ^ workclass=Self-emp-inc ^ fnlwgt=259948.6-327789.9] V\n",
      "[marital.status=Married-civ-spouse ^ occupation=Exec-managerial ^ workclass=Private ^ age=37.0-41.0 ^ fnlwgt=196872.4-220019.0] V\n",
      "[marital.status=Married-civ-spouse ^ education=Some-college ^ occupation=Exec-managerial ^ hours.per.week=40.0-50.0 ^ age=41.0-45.0] V\n",
      "[marital.status=Married-civ-spouse ^ education.num=>13.0 ^ relationship=Wife ^ occupation=Prof-specialty ^ age=45.0-50.0] V\n",
      "[marital.status=Married-civ-spouse ^ education=Some-college ^ age=50.0-58.0 ^ hours.per.week=35.0-40.0 ^ fnlwgt=158825.6-178623.0] V\n",
      "[marital.status=Married-civ-spouse ^ occupation=Exec-managerial ^ education.num=11.0-13.0 ^ fnlwgt=106764.2-131230.0] V\n",
      "[marital.status=Married-civ-spouse ^ education=Some-college ^ occupation=Sales ^ workclass=Self-emp-inc ^ hours.per.week=>55.0] V\n",
      "[marital.status=Married-civ-spouse ^ education=Some-college ^ occupation=Exec-managerial ^ age=50.0-58.0] V\n",
      "[marital.status=Married-civ-spouse ^ occupation=Prof-specialty ^ education=Masters ^ hours.per.week=35.0-40.0 ^ age=41.0-45.0] V\n",
      "[marital.status=Married-civ-spouse ^ education=Some-college ^ capital.loss=1742.4-2178.0 ^ age=41.0-45.0] V\n",
      "[marital.status=Married-civ-spouse ^ education=Some-college ^ hours.per.week=40.0-50.0 ^ age=45.0-50.0 ^ capital.loss=1742.4-2178.0] V\n",
      "[marital.status=Married-civ-spouse ^ hours.per.week=40.0-50.0 ^ occupation=Prof-specialty ^ fnlwgt=>327789.9] V\n",
      "[marital.status=Married-civ-spouse ^ education.num=11.0-13.0 ^ workclass=Local-gov ^ occupation=Protective-serv] V\n",
      "[marital.status=Married-civ-spouse ^ education.num=11.0-13.0 ^ occupation=Sales ^ workclass=Self-emp-inc ^ hours.per.week=40.0-50.0 ^ age=45.0-50.0] V\n",
      "[marital.status=Married-civ-spouse ^ education.num=11.0-13.0 ^ education=Bachelors ^ hours.per.week=35.0-40.0 ^ occupation=Sales ^ age=37.0-41.0] V\n",
      "[marital.status=Married-civ-spouse ^ education=Some-college ^ hours.per.week=40.0-50.0 ^ occupation=Exec-managerial ^ fnlwgt=106764.2-131230.0] V\n",
      "[marital.status=Married-civ-spouse ^ education=Some-college ^ age=45.0-50.0 ^ fnlwgt=>327789.9 ^ hours.per.week=35.0-40.0 ^ workclass=Private ^ occupation=Tech-support] V\n",
      "[marital.status=Married-civ-spouse ^ hours.per.week=40.0-50.0 ^ education=Some-college ^ occupation=Sales ^ workclass=Private ^ age=50.0-58.0]]\n",
      "\n",
      "optimization run 1 of 2\n"
     ]
    },
    {
     "name": "stdout",
     "output_type": "stream",
     "text": [
      "\n",
      "OPTIMIZED RULESET:\n",
      "[[marital.status=Married-civ-spouse ^ education.num=>13.0 ^ occupation=Exec-managerial ^ hours.per.week=40.0-50.0 ^ native.country=United-States] V\n",
      "[marital.status=Married-civ-spouse ^ education.num=11.0-13.0 ^ occupation=Exec-managerial ^ hours.per.week=40.0-50.0 ^ capital.gain=9999.9-19999.8] V\n",
      "[marital.status=Married-civ-spouse ^ education=Bachelors ^ occupation=Exec-managerial ^ hours.per.week=40.0-50.0 ^ workclass=Private ^ age=50.0-58.0] V\n",
      "[marital.status=Married-civ-spouse ^ education=Bachelors ^ occupation=Exec-managerial ^ age=45.0-50.0 ^ hours.per.week=35.0-40.0 ^ workclass=State-gov] V\n",
      "[marital.status=Married-civ-spouse ^ education=Bachelors ^ occupation=Exec-managerial ^ age=45.0-50.0] V\n",
      "[marital.status=Married-civ-spouse ^ education.num=>13.0 ^ occupation=Prof-specialty ^ education=Prof-school ^ workclass=Self-emp-inc ^ hours.per.week=>55.0] V\n",
      "[marital.status=Married-civ-spouse ^ education.num=>13.0 ^ occupation=Prof-specialty ^ capital.loss=1742.4-2178.0] V\n",
      "[marital.status=Married-civ-spouse ^ education.num=11.0-13.0 ^ hours.per.week=40.0-50.0 ^ age=37.0-41.0 ^ workclass=Private ^ education=Bachelors ^ race=White ^ occupation=Exec-managerial] V\n",
      "[marital.status=Married-civ-spouse ^ education.num=11.0-13.0 ^ occupation=Exec-managerial ^ capital.loss=1742.4-2178.0] V\n",
      "[marital.status=Married-civ-spouse ^ education.num=11.0-13.0 ^ occupation=Exec-managerial ^ hours.per.week=40.0-50.0 ^ fnlwgt=>327789.9 ^ age=30.0-33.0] V\n",
      "[marital.status=Married-civ-spouse ^ education.num=11.0-13.0 ^ education=Bachelors ^ hours.per.week=40.0-50.0 ^ workclass=Private ^ occupation=Prof-specialty ^ age=33.0-37.0] V\n",
      "[marital.status=Married-civ-spouse ^ education=Bachelors ^ occupation=Exec-managerial ^ workclass=Private] V\n",
      "[marital.status=Married-civ-spouse ^ education.num=>13.0 ^ capital.gain=9999.9-19999.8] V\n",
      "[marital.status=Married-civ-spouse ^ occupation=Prof-specialty ^ education.num=>13.0 ^ education=Prof-school ^ hours.per.week=40.0-50.0 ^ age=37.0-41.0] V\n",
      "[marital.status=Married-civ-spouse ^ education.num=>13.0 ^ occupation=Exec-managerial ^ hours.per.week=>55.0] V\n",
      "[marital.status=Married-civ-spouse ^ occupation=Prof-specialty ^ education.num=>13.0 ^ education=Prof-school ^ capital.gain=>89999.1] V\n",
      "[marital.status=Married-civ-spouse ^ education.num=11.0-13.0 ^ hours.per.week=40.0-50.0 ^ occupation=Exec-managerial] V\n",
      "[marital.status=Married-civ-spouse ^ occupation=Prof-specialty ^ education.num=>13.0 ^ fnlwgt=106764.2-131230.0 ^ native.country=United-States ^ education=Masters] V\n",
      "[marital.status=Married-civ-spouse ^ occupation=Prof-specialty ^ education.num=>13.0 ^ race=White ^ workclass=Private ^ hours.per.week=35.0-40.0 ^ age=50.0-58.0] V\n",
      "[marital.status=Married-civ-spouse ^ occupation=Prof-specialty ^ education.num=>13.0 ^ education=Prof-school] V\n",
      "[marital.status=Married-civ-spouse ^ education.num=11.0-13.0 ^ education=Bachelors ^ hours.per.week=40.0-50.0 ^ occupation=Sales ^ age=50.0-58.0] V\n",
      "[marital.status=Married-civ-spouse ^ education.num=11.0-13.0 ^ education=Bachelors ^ capital.loss=1742.4-2178.0 ^ race=White] V\n",
      "[marital.status=Married-civ-spouse ^ education.num=11.0-13.0 ^ capital.gain=9999.9-19999.8] V\n",
      "[marital.status=Married-civ-spouse ^ occupation=Prof-specialty ^ education.num=>13.0 ^ age=37.0-41.0 ^ hours.per.week=35.0-40.0 ^ native.country=United-States] V\n",
      "[marital.status=Married-civ-spouse ^ education=Bachelors ^ hours.per.week=40.0-50.0 ^ occupation=Prof-specialty ^ fnlwgt=196872.4-220019.0] V\n",
      "[marital.status=Married-civ-spouse ^ education.num=11.0-13.0 ^ education=Bachelors ^ hours.per.week=40.0-50.0 ^ age=37.0-41.0 ^ fnlwgt=220019.0-259948.6] V\n",
      "[marital.status=Married-civ-spouse ^ education.num=11.0-13.0 ^ education=Bachelors ^ occupation=Sales ^ workclass=Private ^ age=33.0-37.0] V\n",
      "[marital.status=Married-civ-spouse ^ education.num=11.0-13.0 ^ hours.per.week=40.0-50.0 ^ age=41.0-45.0 ^ fnlwgt=106764.2-131230.0] V\n",
      "[marital.status=Married-civ-spouse ^ occupation=Prof-specialty ^ education.num=>13.0 ^ education=Doctorate] V\n",
      "[marital.status=Married-civ-spouse ^ education.num=11.0-13.0 ^ education=Bachelors ^ occupation=Prof-specialty] V\n",
      "[marital.status=Married-civ-spouse ^ occupation=Exec-managerial ^ education.num=>13.0 ^ age=41.0-45.0] V\n",
      "[marital.status=Married-civ-spouse ^ occupation=Exec-managerial ^ capital.loss=1742.4-2178.0] V\n",
      "[marital.status=Married-civ-spouse ^ occupation=Exec-managerial ^ workclass=Self-emp-inc ^ age=45.0-50.0 ^ education=Some-college] V\n",
      "[marital.status=Married-civ-spouse ^ occupation=Exec-managerial ^ workclass=Self-emp-inc ^ age=33.0-37.0] V\n",
      "[marital.status=Married-civ-spouse ^ education.num=11.0-13.0 ^ education=Bachelors ^ native.country=United-States ^ hours.per.week=35.0-40.0 ^ occupation=Exec-managerial ^ relationship=Husband ^ workclass=Federal-gov] V\n",
      "[marital.status=Married-civ-spouse ^ occupation=Exec-managerial ^ workclass=Private ^ age=45.0-50.0] V\n",
      "[marital.status=Married-civ-spouse ^ education.num=11.0-13.0 ^ education=Bachelors ^ native.country=United-States ^ occupation=Tech-support] V\n",
      "[marital.status=Married-civ-spouse ^ education.num=>13.0 ^ native.country=United-States ^ age=50.0-58.0] V\n",
      "[marital.status=Married-civ-spouse ^ education.num=11.0-13.0 ^ occupation=Sales ^ workclass=Self-emp-inc ^ hours.per.week=>55.0] V\n",
      "[marital.status=Married-civ-spouse ^ education.num=11.0-13.0 ^ occupation=Sales ^ workclass=Private ^ fnlwgt=178623.0-196872.4 ^ hours.per.week=35.0-40.0] V\n",
      "[marital.status=Married-civ-spouse ^ education.num=11.0-13.0 ^ occupation=Sales ^ hours.per.week=40.0-50.0 ^ age=37.0-41.0 ^ workclass=Self-emp-not-inc] V\n",
      "[marital.status=Married-civ-spouse ^ education.num=11.0-13.0 ^ occupation=Sales ^ hours.per.week=40.0-50.0 ^ age=37.0-41.0 ^ fnlwgt=131230.0-158825.6] V\n",
      "[marital.status=Married-civ-spouse ^ education.num=11.0-13.0 ^ occupation=Sales ^ hours.per.week=40.0-50.0 ^ workclass=Self-emp-inc ^ race=White ^ age=33.0-37.0] V\n",
      "[marital.status=Married-civ-spouse ^ education.num=>13.0 ^ age=45.0-50.0 ^ hours.per.week=35.0-40.0] V\n",
      "[marital.status=Married-civ-spouse ^ education.num=11.0-13.0 ^ education=Bachelors ^ hours.per.week=40.0-50.0 ^ workclass=Private ^ fnlwgt=259948.6-327789.9 ^ age=37.0-41.0] V\n",
      "[marital.status=Married-civ-spouse ^ education.num=11.0-13.0 ^ education=Bachelors ^ age=41.0-45.0 ^ hours.per.week=35.0-40.0] V\n",
      "[marital.status=Married-civ-spouse ^ education.num=11.0-13.0 ^ hours.per.week=40.0-50.0 ^ occupation=Craft-repair ^ age=41.0-45.0] V\n",
      "[marital.status=Married-civ-spouse ^ education.num=11.0-13.0 ^ hours.per.week=40.0-50.0 ^ workclass=Private ^ occupation=Sales ^ age=26.0-30.0 ^ fnlwgt=178623.0-196872.4] V\n",
      "[marital.status=Married-civ-spouse ^ education.num=11.0-13.0 ^ hours.per.week=40.0-50.0 ^ age=45.0-50.0 ^ fnlwgt=220019.0-259948.6] V\n",
      "[marital.status=Married-civ-spouse ^ occupation=Exec-managerial ^ workclass=Private ^ education=Assoc-voc ^ race=White ^ hours.per.week=40.0-50.0 ^ age=37.0-41.0] V\n",
      "[marital.status=Married-civ-spouse ^ education.num=11.0-13.0 ^ hours.per.week=40.0-50.0 ^ workclass=Private ^ occupation=Sales] V\n",
      "[marital.status=Married-civ-spouse ^ occupation=Exec-managerial ^ education.num=11.0-13.0 ^ age=50.0-58.0 ^ workclass=Self-emp-not-inc ^ education=Bachelors ^ hours.per.week=35.0-40.0] V\n",
      "[marital.status=Married-civ-spouse ^ occupation=Exec-managerial ^ workclass=Self-emp-inc ^ fnlwgt=131230.0-158825.6 ^ age=41.0-45.0] V\n",
      "[marital.status=Married-civ-spouse ^ occupation=Exec-managerial ^ workclass=Private ^ age=50.0-58.0 ^ education=Some-college ^ capital.loss=<435.6 ^ hours.per.week=40.0-50.0] V\n",
      "[marital.status=Married-civ-spouse ^ occupation=Exec-managerial ^ workclass=Self-emp-inc ^ fnlwgt=259948.6-327789.9] V\n",
      "[marital.status=Married-civ-spouse ^ occupation=Exec-managerial ^ workclass=Private ^ age=37.0-41.0 ^ fnlwgt=196872.4-220019.0] V\n",
      "[marital.status=Married-civ-spouse ^ education=Some-college ^ occupation=Exec-managerial ^ hours.per.week=40.0-50.0 ^ age=41.0-45.0] V\n",
      "[marital.status=Married-civ-spouse ^ education.num=>13.0 ^ relationship=Wife ^ occupation=Prof-specialty ^ age=45.0-50.0] V\n",
      "[marital.status=Married-civ-spouse ^ education=Some-college ^ age=50.0-58.0 ^ hours.per.week=35.0-40.0 ^ fnlwgt=158825.6-178623.0] V\n",
      "[marital.status=Married-civ-spouse ^ occupation=Exec-managerial ^ education.num=11.0-13.0 ^ fnlwgt=106764.2-131230.0] V\n",
      "[marital.status=Married-civ-spouse ^ education=Some-college ^ occupation=Sales ^ workclass=Self-emp-inc ^ hours.per.week=>55.0] V\n",
      "[marital.status=Married-civ-spouse ^ education=Some-college ^ occupation=Exec-managerial ^ age=50.0-58.0] V\n",
      "[marital.status=Married-civ-spouse ^ occupation=Prof-specialty ^ education=Masters ^ hours.per.week=35.0-40.0 ^ age=41.0-45.0] V\n",
      "[marital.status=Married-civ-spouse ^ education=Some-college ^ capital.loss=1742.4-2178.0 ^ age=41.0-45.0] V\n",
      "[marital.status=Married-civ-spouse ^ education=Some-college ^ hours.per.week=40.0-50.0 ^ age=45.0-50.0 ^ capital.loss=1742.4-2178.0] V\n",
      "[marital.status=Married-civ-spouse ^ hours.per.week=40.0-50.0 ^ occupation=Prof-specialty ^ fnlwgt=>327789.9] V\n",
      "[marital.status=Married-civ-spouse ^ education.num=11.0-13.0 ^ workclass=Local-gov ^ occupation=Protective-serv] V\n",
      "[marital.status=Married-civ-spouse ^ education.num=11.0-13.0 ^ occupation=Sales ^ workclass=Self-emp-inc ^ hours.per.week=40.0-50.0 ^ age=45.0-50.0] V\n",
      "[marital.status=Married-civ-spouse ^ education.num=11.0-13.0 ^ education=Bachelors ^ hours.per.week=35.0-40.0 ^ occupation=Sales ^ age=37.0-41.0] V\n",
      "[marital.status=Married-civ-spouse ^ education=Some-college ^ hours.per.week=40.0-50.0 ^ occupation=Exec-managerial ^ fnlwgt=106764.2-131230.0] V\n",
      "[marital.status=Married-civ-spouse ^ education=Some-college ^ age=45.0-50.0 ^ fnlwgt=>327789.9 ^ hours.per.week=35.0-40.0 ^ workclass=Private ^ occupation=Tech-support] V\n",
      "[marital.status=Married-civ-spouse ^ hours.per.week=40.0-50.0 ^ education=Some-college ^ occupation=Sales ^ workclass=Private ^ age=50.0-58.0]]\n",
      "\n",
      "No changes were made. Halting optimization.\n"
     ]
    },
    {
     "name": "stdout",
     "output_type": "stream",
     "text": [
      "GREW FINAL RULES\n",
      "[[marital.status=Married-civ-spouse ^ education.num=>13.0 ^ occupation=Exec-managerial ^ hours.per.week=40.0-50.0 ^ native.country=United-States] V\n",
      "[marital.status=Married-civ-spouse ^ education.num=11.0-13.0 ^ occupation=Exec-managerial ^ hours.per.week=40.0-50.0 ^ capital.gain=9999.9-19999.8] V\n",
      "[marital.status=Married-civ-spouse ^ education=Bachelors ^ occupation=Exec-managerial ^ hours.per.week=40.0-50.0 ^ workclass=Private ^ age=50.0-58.0] V\n",
      "[marital.status=Married-civ-spouse ^ education=Bachelors ^ occupation=Exec-managerial ^ age=45.0-50.0 ^ hours.per.week=35.0-40.0 ^ workclass=State-gov] V\n",
      "[marital.status=Married-civ-spouse ^ education=Bachelors ^ occupation=Exec-managerial ^ age=45.0-50.0] V\n",
      "[marital.status=Married-civ-spouse ^ education.num=>13.0 ^ occupation=Prof-specialty ^ education=Prof-school ^ workclass=Self-emp-inc ^ hours.per.week=>55.0] V\n",
      "[marital.status=Married-civ-spouse ^ education.num=>13.0 ^ occupation=Prof-specialty ^ capital.loss=1742.4-2178.0] V\n",
      "[marital.status=Married-civ-spouse ^ education.num=11.0-13.0 ^ hours.per.week=40.0-50.0 ^ age=37.0-41.0 ^ workclass=Private ^ education=Bachelors ^ race=White ^ occupation=Exec-managerial] V\n",
      "[marital.status=Married-civ-spouse ^ education.num=11.0-13.0 ^ occupation=Exec-managerial ^ capital.loss=1742.4-2178.0] V\n",
      "[marital.status=Married-civ-spouse ^ education.num=11.0-13.0 ^ occupation=Exec-managerial ^ hours.per.week=40.0-50.0 ^ fnlwgt=>327789.9 ^ age=30.0-33.0] V\n",
      "[marital.status=Married-civ-spouse ^ education.num=11.0-13.0 ^ education=Bachelors ^ hours.per.week=40.0-50.0 ^ workclass=Private ^ occupation=Prof-specialty ^ age=33.0-37.0] V\n",
      "[marital.status=Married-civ-spouse ^ education=Bachelors ^ occupation=Exec-managerial ^ workclass=Private] V\n",
      "[marital.status=Married-civ-spouse ^ education.num=>13.0 ^ capital.gain=9999.9-19999.8] V\n",
      "[marital.status=Married-civ-spouse ^ occupation=Prof-specialty ^ education.num=>13.0 ^ education=Prof-school ^ hours.per.week=40.0-50.0 ^ age=37.0-41.0] V\n",
      "[marital.status=Married-civ-spouse ^ education.num=>13.0 ^ occupation=Exec-managerial ^ hours.per.week=>55.0] V\n",
      "[marital.status=Married-civ-spouse ^ occupation=Prof-specialty ^ education.num=>13.0 ^ education=Prof-school ^ capital.gain=>89999.1] V\n",
      "[marital.status=Married-civ-spouse ^ education.num=11.0-13.0 ^ hours.per.week=40.0-50.0 ^ occupation=Exec-managerial] V\n",
      "[marital.status=Married-civ-spouse ^ occupation=Prof-specialty ^ education.num=>13.0 ^ fnlwgt=106764.2-131230.0 ^ native.country=United-States ^ education=Masters] V\n",
      "[marital.status=Married-civ-spouse ^ occupation=Prof-specialty ^ education.num=>13.0 ^ race=White ^ workclass=Private ^ hours.per.week=35.0-40.0 ^ age=50.0-58.0] V\n",
      "[marital.status=Married-civ-spouse ^ occupation=Prof-specialty ^ education.num=>13.0 ^ education=Prof-school] V\n",
      "[marital.status=Married-civ-spouse ^ education.num=11.0-13.0 ^ education=Bachelors ^ hours.per.week=40.0-50.0 ^ occupation=Sales ^ age=50.0-58.0] V\n",
      "[marital.status=Married-civ-spouse ^ education.num=11.0-13.0 ^ education=Bachelors ^ capital.loss=1742.4-2178.0 ^ race=White] V\n",
      "[marital.status=Married-civ-spouse ^ education.num=11.0-13.0 ^ capital.gain=9999.9-19999.8] V\n",
      "[marital.status=Married-civ-spouse ^ occupation=Prof-specialty ^ education.num=>13.0 ^ age=37.0-41.0 ^ hours.per.week=35.0-40.0 ^ native.country=United-States] V\n",
      "[marital.status=Married-civ-spouse ^ education=Bachelors ^ hours.per.week=40.0-50.0 ^ occupation=Prof-specialty ^ fnlwgt=196872.4-220019.0] V\n",
      "[marital.status=Married-civ-spouse ^ education.num=11.0-13.0 ^ education=Bachelors ^ hours.per.week=40.0-50.0 ^ age=37.0-41.0 ^ fnlwgt=220019.0-259948.6] V\n",
      "[marital.status=Married-civ-spouse ^ education.num=11.0-13.0 ^ education=Bachelors ^ occupation=Sales ^ workclass=Private ^ age=33.0-37.0] V\n",
      "[marital.status=Married-civ-spouse ^ education.num=11.0-13.0 ^ hours.per.week=40.0-50.0 ^ age=41.0-45.0 ^ fnlwgt=106764.2-131230.0] V\n",
      "[marital.status=Married-civ-spouse ^ occupation=Prof-specialty ^ education.num=>13.0 ^ education=Doctorate] V\n",
      "[marital.status=Married-civ-spouse ^ education.num=11.0-13.0 ^ education=Bachelors ^ occupation=Prof-specialty] V\n",
      "[marital.status=Married-civ-spouse ^ occupation=Exec-managerial ^ education.num=>13.0 ^ age=41.0-45.0] V\n",
      "[marital.status=Married-civ-spouse ^ occupation=Exec-managerial ^ capital.loss=1742.4-2178.0] V\n",
      "[marital.status=Married-civ-spouse ^ occupation=Exec-managerial ^ workclass=Self-emp-inc ^ age=45.0-50.0 ^ education=Some-college] V\n",
      "[marital.status=Married-civ-spouse ^ occupation=Exec-managerial ^ workclass=Self-emp-inc ^ age=33.0-37.0] V\n",
      "[marital.status=Married-civ-spouse ^ education.num=11.0-13.0 ^ education=Bachelors ^ native.country=United-States ^ hours.per.week=35.0-40.0 ^ occupation=Exec-managerial ^ relationship=Husband ^ workclass=Federal-gov] V\n",
      "[marital.status=Married-civ-spouse ^ occupation=Exec-managerial ^ workclass=Private ^ age=45.0-50.0] V\n",
      "[marital.status=Married-civ-spouse ^ education.num=11.0-13.0 ^ education=Bachelors ^ native.country=United-States ^ occupation=Tech-support] V\n",
      "[marital.status=Married-civ-spouse ^ education.num=>13.0 ^ native.country=United-States ^ age=50.0-58.0] V\n",
      "[marital.status=Married-civ-spouse ^ education.num=11.0-13.0 ^ occupation=Sales ^ workclass=Self-emp-inc ^ hours.per.week=>55.0] V\n",
      "[marital.status=Married-civ-spouse ^ education.num=11.0-13.0 ^ occupation=Sales ^ workclass=Private ^ fnlwgt=178623.0-196872.4 ^ hours.per.week=35.0-40.0] V\n",
      "[marital.status=Married-civ-spouse ^ education.num=11.0-13.0 ^ occupation=Sales ^ hours.per.week=40.0-50.0 ^ age=37.0-41.0 ^ workclass=Self-emp-not-inc] V\n",
      "[marital.status=Married-civ-spouse ^ education.num=11.0-13.0 ^ occupation=Sales ^ hours.per.week=40.0-50.0 ^ age=37.0-41.0 ^ fnlwgt=131230.0-158825.6] V\n",
      "[marital.status=Married-civ-spouse ^ education.num=11.0-13.0 ^ occupation=Sales ^ hours.per.week=40.0-50.0 ^ workclass=Self-emp-inc ^ race=White ^ age=33.0-37.0] V\n",
      "[marital.status=Married-civ-spouse ^ education.num=>13.0 ^ age=45.0-50.0 ^ hours.per.week=35.0-40.0] V\n",
      "[marital.status=Married-civ-spouse ^ education.num=11.0-13.0 ^ education=Bachelors ^ hours.per.week=40.0-50.0 ^ workclass=Private ^ fnlwgt=259948.6-327789.9 ^ age=37.0-41.0] V\n",
      "[marital.status=Married-civ-spouse ^ education.num=11.0-13.0 ^ education=Bachelors ^ age=41.0-45.0 ^ hours.per.week=35.0-40.0] V\n",
      "[marital.status=Married-civ-spouse ^ education.num=11.0-13.0 ^ hours.per.week=40.0-50.0 ^ occupation=Craft-repair ^ age=41.0-45.0] V\n",
      "[marital.status=Married-civ-spouse ^ education.num=11.0-13.0 ^ hours.per.week=40.0-50.0 ^ workclass=Private ^ occupation=Sales ^ age=26.0-30.0 ^ fnlwgt=178623.0-196872.4] V\n",
      "[marital.status=Married-civ-spouse ^ education.num=11.0-13.0 ^ hours.per.week=40.0-50.0 ^ age=45.0-50.0 ^ fnlwgt=220019.0-259948.6] V\n",
      "[marital.status=Married-civ-spouse ^ occupation=Exec-managerial ^ workclass=Private ^ education=Assoc-voc ^ race=White ^ hours.per.week=40.0-50.0 ^ age=37.0-41.0] V\n",
      "[marital.status=Married-civ-spouse ^ education.num=11.0-13.0 ^ hours.per.week=40.0-50.0 ^ workclass=Private ^ occupation=Sales] V\n",
      "[marital.status=Married-civ-spouse ^ occupation=Exec-managerial ^ education.num=11.0-13.0 ^ age=50.0-58.0 ^ workclass=Self-emp-not-inc ^ education=Bachelors ^ hours.per.week=35.0-40.0] V\n",
      "[marital.status=Married-civ-spouse ^ occupation=Exec-managerial ^ workclass=Self-emp-inc ^ fnlwgt=131230.0-158825.6 ^ age=41.0-45.0] V\n",
      "[marital.status=Married-civ-spouse ^ occupation=Exec-managerial ^ workclass=Private ^ age=50.0-58.0 ^ education=Some-college ^ capital.loss=<435.6 ^ hours.per.week=40.0-50.0] V\n",
      "[marital.status=Married-civ-spouse ^ occupation=Exec-managerial ^ workclass=Self-emp-inc ^ fnlwgt=259948.6-327789.9] V\n",
      "[marital.status=Married-civ-spouse ^ occupation=Exec-managerial ^ workclass=Private ^ age=37.0-41.0 ^ fnlwgt=196872.4-220019.0] V\n",
      "[marital.status=Married-civ-spouse ^ education=Some-college ^ occupation=Exec-managerial ^ hours.per.week=40.0-50.0 ^ age=41.0-45.0] V\n",
      "[marital.status=Married-civ-spouse ^ education.num=>13.0 ^ relationship=Wife ^ occupation=Prof-specialty ^ age=45.0-50.0] V\n",
      "[marital.status=Married-civ-spouse ^ education=Some-college ^ age=50.0-58.0 ^ hours.per.week=35.0-40.0 ^ fnlwgt=158825.6-178623.0] V\n",
      "[marital.status=Married-civ-spouse ^ occupation=Exec-managerial ^ education.num=11.0-13.0 ^ fnlwgt=106764.2-131230.0] V\n",
      "[marital.status=Married-civ-spouse ^ education=Some-college ^ occupation=Sales ^ workclass=Self-emp-inc ^ hours.per.week=>55.0] V\n",
      "[marital.status=Married-civ-spouse ^ education=Some-college ^ occupation=Exec-managerial ^ age=50.0-58.0] V\n",
      "[marital.status=Married-civ-spouse ^ occupation=Prof-specialty ^ education=Masters ^ hours.per.week=35.0-40.0 ^ age=41.0-45.0] V\n",
      "[marital.status=Married-civ-spouse ^ education=Some-college ^ capital.loss=1742.4-2178.0 ^ age=41.0-45.0] V\n",
      "[marital.status=Married-civ-spouse ^ education=Some-college ^ hours.per.week=40.0-50.0 ^ age=45.0-50.0 ^ capital.loss=1742.4-2178.0] V\n",
      "[marital.status=Married-civ-spouse ^ hours.per.week=40.0-50.0 ^ occupation=Prof-specialty ^ fnlwgt=>327789.9] V\n",
      "[marital.status=Married-civ-spouse ^ education.num=11.0-13.0 ^ workclass=Local-gov ^ occupation=Protective-serv] V\n",
      "[marital.status=Married-civ-spouse ^ education.num=11.0-13.0 ^ occupation=Sales ^ workclass=Self-emp-inc ^ hours.per.week=40.0-50.0 ^ age=45.0-50.0] V\n",
      "[marital.status=Married-civ-spouse ^ education.num=11.0-13.0 ^ education=Bachelors ^ hours.per.week=35.0-40.0 ^ occupation=Sales ^ age=37.0-41.0] V\n",
      "[marital.status=Married-civ-spouse ^ education=Some-college ^ hours.per.week=40.0-50.0 ^ occupation=Exec-managerial ^ fnlwgt=106764.2-131230.0] V\n",
      "[marital.status=Married-civ-spouse ^ education=Some-college ^ age=45.0-50.0 ^ fnlwgt=>327789.9 ^ hours.per.week=35.0-40.0 ^ workclass=Private ^ occupation=Tech-support] V\n",
      "[marital.status=Married-civ-spouse ^ hours.per.week=40.0-50.0 ^ education=Some-college ^ occupation=Sales ^ workclass=Private ^ age=50.0-58.0] V\n",
      "[marital.status=Married-civ-spouse ^ education.num=>13.0 ^ occupation=Exec-managerial ^ hours.per.week=40.0-50.0 ^ native.country=United-States] V\n",
      "[marital.status=Married-civ-spouse ^ education.num=11.0-13.0 ^ occupation=Exec-managerial ^ hours.per.week=40.0-50.0 ^ capital.gain=9999.9-19999.8] V\n",
      "[marital.status=Married-civ-spouse ^ education=Bachelors ^ occupation=Exec-managerial ^ hours.per.week=40.0-50.0 ^ workclass=Private ^ age=50.0-58.0] V\n",
      "[marital.status=Married-civ-spouse ^ education=Bachelors ^ occupation=Exec-managerial ^ age=45.0-50.0 ^ hours.per.week=35.0-40.0 ^ workclass=State-gov] V\n",
      "[marital.status=Married-civ-spouse ^ education=Bachelors ^ occupation=Exec-managerial ^ age=45.0-50.0]]\n",
      "\n"
     ]
    },
    {
     "name": "stdout",
     "output_type": "stream",
     "text": [
      "FINAL RULESET:\n",
      "[[marital.status=Married-civ-spouse ^ education.num=>13.0 ^ occupation=Exec-managerial ^ hours.per.week=40.0-50.0 ^ native.country=United-States] V\n",
      "[marital.status=Married-civ-spouse ^ education.num=11.0-13.0 ^ occupation=Exec-managerial ^ hours.per.week=40.0-50.0 ^ capital.gain=9999.9-19999.8] V\n",
      "[marital.status=Married-civ-spouse ^ education=Bachelors ^ occupation=Exec-managerial ^ hours.per.week=40.0-50.0 ^ workclass=Private ^ age=50.0-58.0] V\n",
      "[marital.status=Married-civ-spouse ^ education=Bachelors ^ occupation=Exec-managerial ^ age=45.0-50.0] V\n",
      "[marital.status=Married-civ-spouse ^ education.num=>13.0 ^ occupation=Prof-specialty ^ education=Prof-school ^ workclass=Self-emp-inc ^ hours.per.week=>55.0] V\n",
      "[marital.status=Married-civ-spouse ^ education.num=>13.0 ^ occupation=Prof-specialty ^ capital.loss=1742.4-2178.0] V\n",
      "[marital.status=Married-civ-spouse ^ education.num=11.0-13.0 ^ hours.per.week=40.0-50.0 ^ age=37.0-41.0 ^ workclass=Private ^ education=Bachelors ^ race=White ^ occupation=Exec-managerial] V\n",
      "[marital.status=Married-civ-spouse ^ education.num=11.0-13.0 ^ occupation=Exec-managerial ^ capital.loss=1742.4-2178.0] V\n",
      "[marital.status=Married-civ-spouse ^ education.num=11.0-13.0 ^ education=Bachelors ^ hours.per.week=40.0-50.0 ^ workclass=Private ^ occupation=Prof-specialty ^ age=33.0-37.0] V\n",
      "[marital.status=Married-civ-spouse ^ education=Bachelors ^ occupation=Exec-managerial ^ workclass=Private] V\n",
      "[marital.status=Married-civ-spouse ^ education.num=>13.0 ^ capital.gain=9999.9-19999.8] V\n",
      "[marital.status=Married-civ-spouse ^ occupation=Prof-specialty ^ education.num=>13.0 ^ education=Prof-school ^ hours.per.week=40.0-50.0 ^ age=37.0-41.0] V\n",
      "[marital.status=Married-civ-spouse ^ education.num=>13.0 ^ occupation=Exec-managerial ^ hours.per.week=>55.0] V\n",
      "[marital.status=Married-civ-spouse ^ occupation=Prof-specialty ^ education.num=>13.0 ^ education=Prof-school ^ capital.gain=>89999.1] V\n",
      "[marital.status=Married-civ-spouse ^ education.num=11.0-13.0 ^ hours.per.week=40.0-50.0 ^ occupation=Exec-managerial] V\n",
      "[marital.status=Married-civ-spouse ^ occupation=Prof-specialty ^ education.num=>13.0 ^ fnlwgt=106764.2-131230.0 ^ native.country=United-States ^ education=Masters] V\n",
      "[marital.status=Married-civ-spouse ^ occupation=Prof-specialty ^ education.num=>13.0 ^ race=White ^ workclass=Private ^ hours.per.week=35.0-40.0 ^ age=50.0-58.0] V\n",
      "[marital.status=Married-civ-spouse ^ occupation=Prof-specialty ^ education.num=>13.0 ^ education=Prof-school] V\n",
      "[marital.status=Married-civ-spouse ^ education.num=11.0-13.0 ^ education=Bachelors ^ hours.per.week=40.0-50.0 ^ occupation=Sales ^ age=50.0-58.0] V\n",
      "[marital.status=Married-civ-spouse ^ education.num=11.0-13.0 ^ education=Bachelors ^ capital.loss=1742.4-2178.0 ^ race=White] V\n",
      "[marital.status=Married-civ-spouse ^ education.num=11.0-13.0 ^ capital.gain=9999.9-19999.8] V\n",
      "[marital.status=Married-civ-spouse ^ occupation=Prof-specialty ^ education.num=>13.0 ^ age=37.0-41.0 ^ hours.per.week=35.0-40.0 ^ native.country=United-States] V\n",
      "[marital.status=Married-civ-spouse ^ education=Bachelors ^ hours.per.week=40.0-50.0 ^ occupation=Prof-specialty ^ fnlwgt=196872.4-220019.0] V\n",
      "[marital.status=Married-civ-spouse ^ education.num=11.0-13.0 ^ education=Bachelors ^ occupation=Sales ^ workclass=Private ^ age=33.0-37.0] V\n",
      "[marital.status=Married-civ-spouse ^ occupation=Prof-specialty ^ education.num=>13.0 ^ education=Doctorate] V\n",
      "[marital.status=Married-civ-spouse ^ education.num=11.0-13.0 ^ education=Bachelors ^ occupation=Prof-specialty] V\n",
      "[marital.status=Married-civ-spouse ^ occupation=Exec-managerial ^ education.num=>13.0 ^ age=41.0-45.0] V\n",
      "[marital.status=Married-civ-spouse ^ occupation=Exec-managerial ^ capital.loss=1742.4-2178.0] V\n",
      "[marital.status=Married-civ-spouse ^ occupation=Exec-managerial ^ workclass=Self-emp-inc ^ age=33.0-37.0] V\n",
      "[marital.status=Married-civ-spouse ^ occupation=Exec-managerial ^ workclass=Private ^ age=45.0-50.0] V\n",
      "[marital.status=Married-civ-spouse ^ education.num=11.0-13.0 ^ education=Bachelors ^ native.country=United-States ^ occupation=Tech-support] V\n",
      "[marital.status=Married-civ-spouse ^ education.num=>13.0 ^ native.country=United-States ^ age=50.0-58.0] V\n",
      "[marital.status=Married-civ-spouse ^ education.num=11.0-13.0 ^ occupation=Sales ^ workclass=Self-emp-inc ^ hours.per.week=>55.0] V\n",
      "[marital.status=Married-civ-spouse ^ education.num=11.0-13.0 ^ occupation=Sales ^ workclass=Private ^ fnlwgt=178623.0-196872.4 ^ hours.per.week=35.0-40.0] V\n",
      "[marital.status=Married-civ-spouse ^ education.num=>13.0 ^ age=45.0-50.0 ^ hours.per.week=35.0-40.0] V\n",
      "[marital.status=Married-civ-spouse ^ education.num=11.0-13.0 ^ education=Bachelors ^ age=41.0-45.0 ^ hours.per.week=35.0-40.0] V\n",
      "[marital.status=Married-civ-spouse ^ education.num=11.0-13.0 ^ hours.per.week=40.0-50.0 ^ workclass=Private ^ occupation=Sales] V\n",
      "[marital.status=Married-civ-spouse ^ occupation=Exec-managerial ^ workclass=Private ^ age=37.0-41.0 ^ fnlwgt=196872.4-220019.0] V\n",
      "[marital.status=Married-civ-spouse ^ education=Some-college ^ age=50.0-58.0 ^ hours.per.week=35.0-40.0 ^ fnlwgt=158825.6-178623.0] V\n",
      "[marital.status=Married-civ-spouse ^ occupation=Exec-managerial ^ education.num=11.0-13.0 ^ fnlwgt=106764.2-131230.0] V\n",
      "[marital.status=Married-civ-spouse ^ education=Some-college ^ occupation=Sales ^ workclass=Self-emp-inc ^ hours.per.week=>55.0] V\n",
      "[marital.status=Married-civ-spouse ^ education=Some-college ^ occupation=Exec-managerial ^ age=50.0-58.0] V\n",
      "[marital.status=Married-civ-spouse ^ occupation=Prof-specialty ^ education=Masters ^ hours.per.week=35.0-40.0 ^ age=41.0-45.0] V\n",
      "[marital.status=Married-civ-spouse ^ education=Some-college ^ capital.loss=1742.4-2178.0 ^ age=41.0-45.0] V\n",
      "[marital.status=Married-civ-spouse ^ hours.per.week=40.0-50.0 ^ occupation=Prof-specialty ^ fnlwgt=>327789.9] V\n",
      "[marital.status=Married-civ-spouse ^ education.num=11.0-13.0 ^ workclass=Local-gov ^ occupation=Protective-serv] V\n",
      "[marital.status=Married-civ-spouse ^ education.num=11.0-13.0 ^ education=Bachelors ^ hours.per.week=35.0-40.0 ^ occupation=Sales ^ age=37.0-41.0]]\n",
      "\n",
      "Index(['age', 'workclass', 'fnlwgt', 'education', 'education.num',\n",
      "       'marital.status', 'occupation', 'relationship', 'race', 'sex',\n",
      "       'capital.gain', 'capital.loss', 'hours.per.week', 'native.country',\n",
      "       'income'],\n",
      "      dtype='object')\n"
     ]
    },
    {
     "name": "stderr",
     "output_type": "stream",
     "text": [
      "/Users/ilanmoscovitz/Documents/Projects/local_lw/wittgenstein_project/wittgenstein/base.py:127: FutureWarning: The frame.append method is deprecated and will be removed from pandas in a future version. Use pandas.concat instead.\n",
      "  covered = covered.append(rule.covers(df))\n",
      "/Users/ilanmoscovitz/Documents/Projects/local_lw/wittgenstein_project/wittgenstein/base.py:127: FutureWarning: The frame.append method is deprecated and will be removed from pandas in a future version. Use pandas.concat instead.\n",
      "  covered = covered.append(rule.covers(df))\n",
      "/Users/ilanmoscovitz/Documents/Projects/local_lw/wittgenstein_project/wittgenstein/base.py:127: FutureWarning: The frame.append method is deprecated and will be removed from pandas in a future version. Use pandas.concat instead.\n",
      "  covered = covered.append(rule.covers(df))\n",
      "/Users/ilanmoscovitz/Documents/Projects/local_lw/wittgenstein_project/wittgenstein/base.py:127: FutureWarning: The frame.append method is deprecated and will be removed from pandas in a future version. Use pandas.concat instead.\n",
      "  covered = covered.append(rule.covers(df))\n",
      "/Users/ilanmoscovitz/Documents/Projects/local_lw/wittgenstein_project/wittgenstein/base.py:127: FutureWarning: The frame.append method is deprecated and will be removed from pandas in a future version. Use pandas.concat instead.\n",
      "  covered = covered.append(rule.covers(df))\n",
      "/Users/ilanmoscovitz/Documents/Projects/local_lw/wittgenstein_project/wittgenstein/base.py:127: FutureWarning: The frame.append method is deprecated and will be removed from pandas in a future version. Use pandas.concat instead.\n",
      "  covered = covered.append(rule.covers(df))\n",
      "/Users/ilanmoscovitz/Documents/Projects/local_lw/wittgenstein_project/wittgenstein/base.py:127: FutureWarning: The frame.append method is deprecated and will be removed from pandas in a future version. Use pandas.concat instead.\n",
      "  covered = covered.append(rule.covers(df))\n",
      "/Users/ilanmoscovitz/Documents/Projects/local_lw/wittgenstein_project/wittgenstein/base.py:127: FutureWarning: The frame.append method is deprecated and will be removed from pandas in a future version. Use pandas.concat instead.\n",
      "  covered = covered.append(rule.covers(df))\n",
      "/Users/ilanmoscovitz/Documents/Projects/local_lw/wittgenstein_project/wittgenstein/base.py:127: FutureWarning: The frame.append method is deprecated and will be removed from pandas in a future version. Use pandas.concat instead.\n",
      "  covered = covered.append(rule.covers(df))\n",
      "/Users/ilanmoscovitz/Documents/Projects/local_lw/wittgenstein_project/wittgenstein/base.py:127: FutureWarning: The frame.append method is deprecated and will be removed from pandas in a future version. Use pandas.concat instead.\n",
      "  covered = covered.append(rule.covers(df))\n",
      "/Users/ilanmoscovitz/Documents/Projects/local_lw/wittgenstein_project/wittgenstein/base.py:127: FutureWarning: The frame.append method is deprecated and will be removed from pandas in a future version. Use pandas.concat instead.\n",
      "  covered = covered.append(rule.covers(df))\n",
      "/Users/ilanmoscovitz/Documents/Projects/local_lw/wittgenstein_project/wittgenstein/base.py:127: FutureWarning: The frame.append method is deprecated and will be removed from pandas in a future version. Use pandas.concat instead.\n",
      "  covered = covered.append(rule.covers(df))\n",
      "/Users/ilanmoscovitz/Documents/Projects/local_lw/wittgenstein_project/wittgenstein/base.py:127: FutureWarning: The frame.append method is deprecated and will be removed from pandas in a future version. Use pandas.concat instead.\n",
      "  covered = covered.append(rule.covers(df))\n",
      "/Users/ilanmoscovitz/Documents/Projects/local_lw/wittgenstein_project/wittgenstein/base.py:127: FutureWarning: The frame.append method is deprecated and will be removed from pandas in a future version. Use pandas.concat instead.\n",
      "  covered = covered.append(rule.covers(df))\n",
      "/Users/ilanmoscovitz/Documents/Projects/local_lw/wittgenstein_project/wittgenstein/base.py:127: FutureWarning: The frame.append method is deprecated and will be removed from pandas in a future version. Use pandas.concat instead.\n",
      "  covered = covered.append(rule.covers(df))\n",
      "/Users/ilanmoscovitz/Documents/Projects/local_lw/wittgenstein_project/wittgenstein/base.py:127: FutureWarning: The frame.append method is deprecated and will be removed from pandas in a future version. Use pandas.concat instead.\n",
      "  covered = covered.append(rule.covers(df))\n",
      "/Users/ilanmoscovitz/Documents/Projects/local_lw/wittgenstein_project/wittgenstein/base.py:127: FutureWarning: The frame.append method is deprecated and will be removed from pandas in a future version. Use pandas.concat instead.\n",
      "  covered = covered.append(rule.covers(df))\n",
      "/Users/ilanmoscovitz/Documents/Projects/local_lw/wittgenstein_project/wittgenstein/base.py:127: FutureWarning: The frame.append method is deprecated and will be removed from pandas in a future version. Use pandas.concat instead.\n",
      "  covered = covered.append(rule.covers(df))\n",
      "/Users/ilanmoscovitz/Documents/Projects/local_lw/wittgenstein_project/wittgenstein/base.py:127: FutureWarning: The frame.append method is deprecated and will be removed from pandas in a future version. Use pandas.concat instead.\n",
      "  covered = covered.append(rule.covers(df))\n",
      "/Users/ilanmoscovitz/Documents/Projects/local_lw/wittgenstein_project/wittgenstein/base.py:127: FutureWarning: The frame.append method is deprecated and will be removed from pandas in a future version. Use pandas.concat instead.\n",
      "  covered = covered.append(rule.covers(df))\n",
      "/Users/ilanmoscovitz/Documents/Projects/local_lw/wittgenstein_project/wittgenstein/base.py:127: FutureWarning: The frame.append method is deprecated and will be removed from pandas in a future version. Use pandas.concat instead.\n",
      "  covered = covered.append(rule.covers(df))\n",
      "/Users/ilanmoscovitz/Documents/Projects/local_lw/wittgenstein_project/wittgenstein/base.py:127: FutureWarning: The frame.append method is deprecated and will be removed from pandas in a future version. Use pandas.concat instead.\n",
      "  covered = covered.append(rule.covers(df))\n",
      "/Users/ilanmoscovitz/Documents/Projects/local_lw/wittgenstein_project/wittgenstein/base.py:127: FutureWarning: The frame.append method is deprecated and will be removed from pandas in a future version. Use pandas.concat instead.\n",
      "  covered = covered.append(rule.covers(df))\n",
      "/Users/ilanmoscovitz/Documents/Projects/local_lw/wittgenstein_project/wittgenstein/base.py:127: FutureWarning: The frame.append method is deprecated and will be removed from pandas in a future version. Use pandas.concat instead.\n",
      "  covered = covered.append(rule.covers(df))\n",
      "/Users/ilanmoscovitz/Documents/Projects/local_lw/wittgenstein_project/wittgenstein/base.py:127: FutureWarning: The frame.append method is deprecated and will be removed from pandas in a future version. Use pandas.concat instead.\n",
      "  covered = covered.append(rule.covers(df))\n",
      "/Users/ilanmoscovitz/Documents/Projects/local_lw/wittgenstein_project/wittgenstein/base.py:127: FutureWarning: The frame.append method is deprecated and will be removed from pandas in a future version. Use pandas.concat instead.\n",
      "  covered = covered.append(rule.covers(df))\n",
      "/Users/ilanmoscovitz/Documents/Projects/local_lw/wittgenstein_project/wittgenstein/base.py:127: FutureWarning: The frame.append method is deprecated and will be removed from pandas in a future version. Use pandas.concat instead.\n",
      "  covered = covered.append(rule.covers(df))\n",
      "/Users/ilanmoscovitz/Documents/Projects/local_lw/wittgenstein_project/wittgenstein/base.py:127: FutureWarning: The frame.append method is deprecated and will be removed from pandas in a future version. Use pandas.concat instead.\n",
      "  covered = covered.append(rule.covers(df))\n",
      "/Users/ilanmoscovitz/Documents/Projects/local_lw/wittgenstein_project/wittgenstein/base.py:127: FutureWarning: The frame.append method is deprecated and will be removed from pandas in a future version. Use pandas.concat instead.\n",
      "  covered = covered.append(rule.covers(df))\n",
      "/Users/ilanmoscovitz/Documents/Projects/local_lw/wittgenstein_project/wittgenstein/base.py:127: FutureWarning: The frame.append method is deprecated and will be removed from pandas in a future version. Use pandas.concat instead.\n",
      "  covered = covered.append(rule.covers(df))\n",
      "/Users/ilanmoscovitz/Documents/Projects/local_lw/wittgenstein_project/wittgenstein/base.py:127: FutureWarning: The frame.append method is deprecated and will be removed from pandas in a future version. Use pandas.concat instead.\n",
      "  covered = covered.append(rule.covers(df))\n"
     ]
    },
    {
     "name": "stderr",
     "output_type": "stream",
     "text": [
      "/Users/ilanmoscovitz/Documents/Projects/local_lw/wittgenstein_project/wittgenstein/base.py:127: FutureWarning: The frame.append method is deprecated and will be removed from pandas in a future version. Use pandas.concat instead.\n",
      "  covered = covered.append(rule.covers(df))\n",
      "/Users/ilanmoscovitz/Documents/Projects/local_lw/wittgenstein_project/wittgenstein/base.py:127: FutureWarning: The frame.append method is deprecated and will be removed from pandas in a future version. Use pandas.concat instead.\n",
      "  covered = covered.append(rule.covers(df))\n",
      "/Users/ilanmoscovitz/Documents/Projects/local_lw/wittgenstein_project/wittgenstein/base.py:127: FutureWarning: The frame.append method is deprecated and will be removed from pandas in a future version. Use pandas.concat instead.\n",
      "  covered = covered.append(rule.covers(df))\n",
      "/Users/ilanmoscovitz/Documents/Projects/local_lw/wittgenstein_project/wittgenstein/base.py:127: FutureWarning: The frame.append method is deprecated and will be removed from pandas in a future version. Use pandas.concat instead.\n",
      "  covered = covered.append(rule.covers(df))\n",
      "/Users/ilanmoscovitz/Documents/Projects/local_lw/wittgenstein_project/wittgenstein/base.py:127: FutureWarning: The frame.append method is deprecated and will be removed from pandas in a future version. Use pandas.concat instead.\n",
      "  covered = covered.append(rule.covers(df))\n",
      "/Users/ilanmoscovitz/Documents/Projects/local_lw/wittgenstein_project/wittgenstein/base.py:127: FutureWarning: The frame.append method is deprecated and will be removed from pandas in a future version. Use pandas.concat instead.\n",
      "  covered = covered.append(rule.covers(df))\n",
      "/Users/ilanmoscovitz/Documents/Projects/local_lw/wittgenstein_project/wittgenstein/base.py:127: FutureWarning: The frame.append method is deprecated and will be removed from pandas in a future version. Use pandas.concat instead.\n",
      "  covered = covered.append(rule.covers(df))\n",
      "/Users/ilanmoscovitz/Documents/Projects/local_lw/wittgenstein_project/wittgenstein/base.py:127: FutureWarning: The frame.append method is deprecated and will be removed from pandas in a future version. Use pandas.concat instead.\n",
      "  covered = covered.append(rule.covers(df))\n",
      "/Users/ilanmoscovitz/Documents/Projects/local_lw/wittgenstein_project/wittgenstein/base.py:127: FutureWarning: The frame.append method is deprecated and will be removed from pandas in a future version. Use pandas.concat instead.\n",
      "  covered = covered.append(rule.covers(df))\n",
      "/Users/ilanmoscovitz/Documents/Projects/local_lw/wittgenstein_project/wittgenstein/base.py:127: FutureWarning: The frame.append method is deprecated and will be removed from pandas in a future version. Use pandas.concat instead.\n",
      "  covered = covered.append(rule.covers(df))\n",
      "/Users/ilanmoscovitz/Documents/Projects/local_lw/wittgenstein_project/wittgenstein/base.py:127: FutureWarning: The frame.append method is deprecated and will be removed from pandas in a future version. Use pandas.concat instead.\n",
      "  covered = covered.append(rule.covers(df))\n",
      "/Users/ilanmoscovitz/Documents/Projects/local_lw/wittgenstein_project/wittgenstein/base.py:127: FutureWarning: The frame.append method is deprecated and will be removed from pandas in a future version. Use pandas.concat instead.\n",
      "  covered = covered.append(rule.covers(df))\n",
      "/Users/ilanmoscovitz/Documents/Projects/local_lw/wittgenstein_project/wittgenstein/base.py:127: FutureWarning: The frame.append method is deprecated and will be removed from pandas in a future version. Use pandas.concat instead.\n",
      "  covered = covered.append(rule.covers(df))\n",
      "/Users/ilanmoscovitz/Documents/Projects/local_lw/wittgenstein_project/wittgenstein/base.py:127: FutureWarning: The frame.append method is deprecated and will be removed from pandas in a future version. Use pandas.concat instead.\n",
      "  covered = covered.append(rule.covers(df))\n",
      "/Users/ilanmoscovitz/Documents/Projects/local_lw/wittgenstein_project/wittgenstein/base.py:127: FutureWarning: The frame.append method is deprecated and will be removed from pandas in a future version. Use pandas.concat instead.\n",
      "  covered = covered.append(rule.covers(df))\n"
     ]
    },
    {
     "data": {
      "text/plain": [
       "<Ruleset [[marital.status=Married-civ-spouse^education.num=>13.0^occupation=Exec-managerial^hours.per.week=40.0-50.0^native.country=United-States] V [marital.status=Married-civ-spouse^education.num=11.0-13.0^occupation=Exec-managerial^hours.per.week=40.0-50.0^capital.gain=9999.9-19999.8] V [marital.status=Married-civ-spouse^education=Bachelors^occupation=Exec-managerial^hours.per.week=40.0-50.0^workclass=Private^age=50.0-58.0] V [marital.status=Married-civ-spouse^education=Bachelors^occupation=Exec-managerial^age=45.0-50.0] V [marital.status=Married-civ-spouse^education.num=>13.0^occupation=Prof-specialty^education=Prof-school^workclass=Self-emp-inc^hours.per.week=>55.0] V [marital.status=Married-civ-spouse^education.num=>13.0^occupation=Prof-specialty^capital.loss=1742.4-2178.0] V [marital.status=Married-civ-spouse^education.num=11.0-13.0^hours.per.week=40.0-50.0^age=37.0-41.0^workclass=Private^education=Bachelors^race=White^occupation=Exec-managerial] V [marital.status=Married-civ-spouse^education.num=11.0-13.0^occupation=Exec-managerial^capital.loss=1742.4-2178.0] V [marital.status=Married-civ-spouse^education.num=11.0-13.0^education=Bachelors^hours.per.week=40.0-50.0^workclass=Private^occupation=Prof-specialty^age=33.0-37.0] V [marital.status=Married-civ-spouse^education=Bachelors^occupation=Exec-managerial^workclass=Private] V [marital.status=Married-civ-spouse^education.num=>13.0^capital.gain=9999.9-19999.8] V [marital.status=Married-civ-spouse^occupation=Prof-specialty^education.num=>13.0^education=Prof-school^hours.per.week=40.0-50.0^age=37.0-41.0] V [marital.status=Married-civ-spouse^education.num=>13.0^occupation=Exec-managerial^hours.per.week=>55.0] V [marital.status=Married-civ-spouse^occupation=Prof-specialty^education.num=>13.0^education=Prof-school^capital.gain=>89999.1] V [marital.status=Married-civ-spouse^education.num=11.0-13.0^hours.per.week=40.0-50.0^occupation=Exec-managerial] V [marital.status=Married-civ-spouse^occupation=Prof-specialty^education.num=>13.0^fnlwgt=106764.2-131230.0^native.country=United-States^education=Masters] V [marital.status=Married-civ-spouse^occupation=Prof-specialty^education.num=>13.0^race=White^workclass=Private^hours.per.week=35.0-40.0^age=50.0-58.0] V [marital.status=Married-civ-spouse^occupation=Prof-specialty^education.num=>13.0^education=Prof-school] V [marital.status=Married-civ-spouse^education.num=11.0-13.0^education=Bachelors^hours.per.week=40.0-50.0^occupation=Sales^age=50.0-58.0] V [marital.status=Married-civ-spouse^education.num=11.0-13.0^education=Bachelors^capital.loss=1742.4-2178.0^race=White] V [marital.status=Married-civ-spouse^education.num=11.0-13.0^capital.gain=9999.9-19999.8] V [marital.status=Married-civ-spouse^occupation=Prof-specialty^education.num=>13.0^age=37.0-41.0^hours.per.week=35.0-40.0^native.country=United-States] V [marital.status=Married-civ-spouse^education=Bachelors^hours.per.week=40.0-50.0^occupation=Prof-specialty^fnlwgt=196872.4-220019.0] V [marital.status=Married-civ-spouse^education.num=11.0-13.0^education=Bachelors^occupation=Sales^workclass=Private^age=33.0-37.0] V [marital.status=Married-civ-spouse^occupation=Prof-specialty^education.num=>13.0^education=Doctorate] V [marital.status=Married-civ-spouse^education.num=11.0-13.0^education=Bachelors^occupation=Prof-specialty] V [marital.status=Married-civ-spouse^occupation=Exec-managerial^education.num=>13.0^age=41.0-45.0] V [marital.status=Married-civ-spouse^occupation=Exec-managerial^capital.loss=1742.4-2178.0] V [marital.status=Married-civ-spouse^occupation=Exec-managerial^workclass=Self-emp-inc^age=33.0-37.0] V [marital.status=Married-civ-spouse^occupation=Exec-managerial^workclass=Private^age=45.0-50.0] V [marital.status=Married-civ-spouse^education.num=11.0-13.0^education=Bachelors^native.country=United-States^occupation=Tech-support] V [marital.status=Married-civ-spouse^education.num=>13.0^native.country=United-States^age=50.0-58.0] V [marital.status=Married-civ-spouse^education.num=11.0-13.0^occupation=Sales^workclass=Self-emp-inc^hours.per.week=>55.0] V [marital.status=Married-civ-spouse^education.num=11.0-13.0^occupation=Sales^workclass=Private^fnlwgt=178623.0-196872.4^hours.per.week=35.0-40.0] V [marital.status=Married-civ-spouse^education.num=>13.0^age=45.0-50.0^hours.per.week=35.0-40.0] V [marital.status=Married-civ-spouse^education.num=11.0-13.0^education=Bachelors^age=41.0-45.0^hours.per.week=35.0-40.0] V [marital.status=Married-civ-spouse^education.num=11.0-13.0^hours.per.week=40.0-50.0^workclass=Private^occupation=Sales] V [marital.status=Married-civ-spouse^occupation=Exec-managerial^workclass=Private^age=37.0-41.0^fnlwgt=196872.4-220019.0] V [marital.status=Married-civ-spouse^education=Some-college^age=50.0-58.0^hours.per.week=35.0-40.0^fnlwgt=158825.6-178623.0] V [marital.status=Married-civ-spouse^occupation=Exec-managerial^education.num=11.0-13.0^fnlwgt=106764.2-131230.0] V [marital.status=Married-civ-spouse^education=Some-college^occupation=Sales^workclass=Self-emp-inc^hours.per.week=>55.0] V [marital.status=Married-civ-spouse^education=Some-college^occupation=Exec-managerial^age=50.0-58.0] V [marital.status=Married-civ-spouse^occupation=Prof-specialty^education=Masters^hours.per.week=35.0-40.0^age=41.0-45.0] V [marital.status=Married-civ-spouse^education=Some-college^capital.loss=1742.4-2178.0^age=41.0-45.0] V [marital.status=Married-civ-spouse^hours.per.week=40.0-50.0^occupation=Prof-specialty^fnlwgt=>327789.9] V [marital.status=Married-civ-spouse^education.num=11.0-13.0^workclass=Local-gov^occupation=Protective-serv] V [marital.status=Married-civ-spouse^education.num=11.0-13.0^education=Bachelors^hours.per.week=35.0-40.0^occupation=Sales^age=37.0-41.0]]>"
      ]
     },
     "execution_count": 5,
     "metadata": {},
     "output_type": "execute_result"
    }
   ],
   "source": [
    "clf.fit(train, class_feat='income', pos_class='>50K')\n",
    "clf.ruleset_ # Access underlying model"
   ]
  },
  {
   "cell_type": "code",
   "execution_count": 6,
   "metadata": {},
   "outputs": [
    {
     "ename": "NameError",
     "evalue": "name 'end' is not defined",
     "output_type": "error",
     "traceback": [
      "\u001b[0;31m---------------------------------------------------------------------------\u001b[0m",
      "\u001b[0;31mNameError\u001b[0m                                 Traceback (most recent call last)",
      "Input \u001b[0;32mIn [6]\u001b[0m, in \u001b[0;36m<cell line: 1>\u001b[0;34m()\u001b[0m\n\u001b[0;32m----> 1\u001b[0m \u001b[43mend\u001b[49m\n",
      "\u001b[0;31mNameError\u001b[0m: name 'end' is not defined"
     ]
    }
   ],
   "source": [
    "end"
   ]
  },
  {
   "cell_type": "markdown",
   "metadata": {},
   "source": [
    "The fit method is flexible and can be called in various ways, including with X_train and y_train, or with numpy arrays.  \n",
    "\n",
    "Unlike dataframes, arrays don't have feature names..."
   ]
  },
  {
   "cell_type": "code",
   "execution_count": null,
   "metadata": {},
   "outputs": [],
   "source": [
    "arr = train.values\n",
    "X_arr, y_arr = arr[:,:-1], arr[:,-1]\n",
    "\n",
    "clf = lw.RIPPER(random_state=42)\n",
    "clf.fit(X_arr, y_arr, pos_class='>=50K', class_feat='Class')\n",
    "clf.ruleset_"
   ]
  },
  {
   "cell_type": "markdown",
   "metadata": {},
   "source": [
    "But we can pass them in:"
   ]
  },
  {
   "cell_type": "code",
   "execution_count": null,
   "metadata": {},
   "outputs": [],
   "source": [
    "clf.fit(X_arr, y_arr, pos_class='>=50K')\n",
    "\n",
    "X_array, y_arry = train.drop('Party', axis=1).values, train['Party'].values\n",
    "ripper_clf.fit(X_array, y_arry, \n",
    "               pos_class='democrat', class_feat='Party', \n",
    "               feature_names=df.columns[1:])\n",
    "ripper_clf.ruleset_"
   ]
  },
  {
   "cell_type": "markdown",
   "metadata": {},
   "source": [
    "We can force a simpler ruleset using max_rules, max_total_conds, or max_rule_conds."
   ]
  },
  {
   "cell_type": "code",
   "execution_count": null,
   "metadata": {},
   "outputs": [],
   "source": [
    "ripper_clf = lw.RIPPER(max_rules=2, random_state=1)\n",
    "ripper_clf.fit(train, class_feat='Party', pos_class='democrat')\n",
    "ripper_clf.ruleset_ "
   ]
  },
  {
   "cell_type": "markdown",
   "metadata": {},
   "source": [
    "Verbosity allows us to view training steps..."
   ]
  },
  {
   "cell_type": "code",
   "execution_count": null,
   "metadata": {},
   "outputs": [],
   "source": [
    "ripper_clf = lw.RIPPER(random_state=42, verbosity=1) # Scale of 0-5\n",
    "ripper_clf.fit(train, class_feat='Party', pos_class='democrat')\n",
    "ripper_clf.ruleset_"
   ]
  },
  {
   "cell_type": "markdown",
   "metadata": {},
   "source": [
    "#### Model selection"
   ]
  },
  {
   "cell_type": "markdown",
   "metadata": {},
   "source": [
    "Some sklearn methods are supported. Cross-validation:"
   ]
  },
  {
   "cell_type": "code",
   "execution_count": null,
   "metadata": {},
   "outputs": [],
   "source": [
    "from sklearn.model_selection import cross_val_score\n",
    "\n",
    "# Dummify our data to make sklearn happy\n",
    "X_train = pd.get_dummies(X_train, columns=X_train.select_dtypes('object').columns)\n",
    "y_train = y_train.map(lambda x: 1 if x=='democrat' else 0)\n",
    "\n",
    "ripper_clf = lw.RIPPER(random_state=42)\n",
    "cross_val_score(ripper_clf, X_train, y_train)\n"
   ]
  },
  {
   "cell_type": "markdown",
   "metadata": {},
   "source": [
    "Grid-search:"
   ]
  },
  {
   "cell_type": "code",
   "execution_count": null,
   "metadata": {},
   "outputs": [],
   "source": [
    "from sklearn.model_selection import GridSearchCV\n",
    "param_grid = {\"prune_size\": [0.1, 0.25, 0.33, 0.5], \"k\": [1, 2]}\n",
    "grid = GridSearchCV(estimator=ripper_clf, param_grid=param_grid)\n",
    "grid.fit(X_train, y_train)\n",
    "grid.best_params_"
   ]
  },
  {
   "cell_type": "markdown",
   "metadata": {},
   "source": [
    "Ensemble:"
   ]
  },
  {
   "cell_type": "code",
   "execution_count": null,
   "metadata": {},
   "outputs": [],
   "source": [
    "from sklearn.ensemble import StackingClassifier\n",
    "from sklearn.linear_model import LogisticRegression\n",
    "from sklearn.naive_bayes import GaussianNB\n",
    "from sklearn.tree import DecisionTreeClassifier\n",
    "\n",
    "nb = GaussianNB()\n",
    "tree = DecisionTreeClassifier(random_state=42)\n",
    "estimators = [(\"rip\", ripper_clf), (\"tree\", tree), (\"nb\", nb)]\n",
    "ensemble_clf = StackingClassifier(\n",
    "  estimators=estimators, final_estimator=LogisticRegression()\n",
    ")\n"
   ]
  },
  {
   "cell_type": "markdown",
   "metadata": {},
   "source": [
    "#### Testing"
   ]
  },
  {
   "cell_type": "markdown",
   "metadata": {},
   "source": [
    "How good is our model?"
   ]
  },
  {
   "cell_type": "code",
   "execution_count": null,
   "metadata": {},
   "outputs": [],
   "source": [
    "X_test = test.drop('Party', axis=1)\n",
    "y_test = test['Party']\n",
    "ripper_clf = lw.RIPPER(random_state=42)\n",
    "ripper_clf.fit(train, class_feat='Party', pos_class='democrat')\n",
    "ripper_clf.score(X_test, y_test) # Default metric is accuracy"
   ]
  },
  {
   "cell_type": "markdown",
   "metadata": {},
   "source": [
    "We can also score it on custom metrics, including sklearn's:"
   ]
  },
  {
   "cell_type": "code",
   "execution_count": null,
   "metadata": {},
   "outputs": [],
   "source": [
    "from sklearn.metrics import precision_score, recall_score\n",
    "precision = ripper_clf.score(X_test, y_test, precision_score)\n",
    "recall = ripper_clf.score(X_test, y_test, recall_score)\n",
    "print(f'precision: {precision}')\n",
    "print(f'recall: {recall}')"
   ]
  },
  {
   "cell_type": "markdown",
   "metadata": {},
   "source": [
    "#### Prediction"
   ]
  },
  {
   "cell_type": "markdown",
   "metadata": {},
   "source": [
    "To make predictions, use the predict method."
   ]
  },
  {
   "cell_type": "code",
   "execution_count": null,
   "metadata": {},
   "outputs": [],
   "source": [
    "ripper_clf.predict(X_test.tail(10))"
   ]
  },
  {
   "cell_type": "markdown",
   "metadata": {},
   "source": [
    "For predicted probabilities, use predict_proba."
   ]
  },
  {
   "cell_type": "code",
   "execution_count": null,
   "metadata": {},
   "outputs": [],
   "source": [
    "ripper_clf.predict_proba(X_test.tail(10))"
   ]
  },
  {
   "cell_type": "markdown",
   "metadata": {},
   "source": [
    "We can also ask our model to give us the reasons for its predictions."
   ]
  },
  {
   "cell_type": "code",
   "execution_count": null,
   "metadata": {},
   "outputs": [],
   "source": [
    "ripper_clf.predict(X_test.tail(), give_reasons=True)"
   ]
  },
  {
   "cell_type": "code",
   "execution_count": null,
   "metadata": {},
   "outputs": [],
   "source": []
  }
 ],
 "metadata": {
  "kernelspec": {
   "display_name": "Python 3 (ipykernel)",
   "language": "python",
   "name": "python3"
  },
  "language_info": {
   "codemirror_mode": {
    "name": "ipython",
    "version": 3
   },
   "file_extension": ".py",
   "mimetype": "text/x-python",
   "name": "python",
   "nbconvert_exporter": "python",
   "pygments_lexer": "ipython3",
   "version": "3.9.10"
  }
 },
 "nbformat": 4,
 "nbformat_minor": 2
}
