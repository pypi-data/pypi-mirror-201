{
 "cells": [
  {
   "cell_type": "code",
   "execution_count": null,
   "outputs": [],
   "source": [
    "# NB: Unfinished prototype"
   ],
   "metadata": {
    "collapsed": false
   }
  },
  {
   "cell_type": "code",
   "execution_count": null,
   "metadata": {
    "collapsed": true
   },
   "outputs": [],
   "source": [
    "from google.cloud import bigquery\n",
    "\n",
    "# noinspection PyTypeChecker\n",
    "client = bigquery.Client(project=\"jupyter-local-project\")"
   ]
  },
  {
   "cell_type": "code",
   "execution_count": null,
   "outputs": [],
   "source": [
    "table_id = \"the-psf.pypi.distribution_metadata\"\n",
    "table = client.get_table(table_id)\n",
    "table.schema"
   ],
   "metadata": {
    "collapsed": false
   }
  },
  {
   "cell_type": "code",
   "execution_count": null,
   "outputs": [],
   "source": [
    "from pathlib import Path\n",
    "from tqdm import tqdm\n",
    "\n",
    "from datetime import datetime\n",
    "import json\n",
    "\n",
    "\n",
    "class DateTimeEncoder(json.JSONEncoder):\n",
    "    def default(self, o):\n",
    "        if isinstance(o, datetime):\n",
    "            return o.isoformat()\n",
    "\n",
    "        return json.JSONEncoder.default(self, o)\n",
    "\n",
    "\n",
    "# Save a lot of disk space\n",
    "selected_fields = [field for field in table.schema if field.name != \"description\"]\n",
    "\n",
    "table_id = \"the-psf.pypi.distribution_metadata\"\n",
    "table = client.get_table(table_id)\n",
    "with Path(\"pypi_all.ndjson\").open(\"w\") as fp:\n",
    "    rows_iter = client.list_rows(table_id, selected_fields=selected_fields)\n",
    "    for row in tqdm(rows_iter, total=table.num_rows):\n",
    "        fp.write(json.dumps(dict(row), cls=DateTimeEncoder))\n",
    "        fp.write(\"\\n\")"
   ],
   "metadata": {
    "collapsed": false
   }
  },
  {
   "cell_type": "code",
   "execution_count": null,
   "outputs": [],
   "source": [],
   "metadata": {
    "collapsed": false
   }
  }
 ],
 "metadata": {
  "kernelspec": {
   "display_name": "Python 3",
   "language": "python",
   "name": "python3"
  },
  "language_info": {
   "codemirror_mode": {
    "name": "ipython",
    "version": 2
   },
   "file_extension": ".py",
   "mimetype": "text/x-python",
   "name": "python",
   "nbconvert_exporter": "python",
   "pygments_lexer": "ipython2",
   "version": "2.7.6"
  }
 },
 "nbformat": 4,
 "nbformat_minor": 0
}
