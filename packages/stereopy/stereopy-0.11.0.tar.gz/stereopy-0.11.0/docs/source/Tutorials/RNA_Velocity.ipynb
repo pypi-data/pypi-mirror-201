{
 "cells": [
  {
   "attachments": {},
   "cell_type": "markdown",
   "id": "3e61af45",
   "metadata": {},
   "source": [
    "# RNA Velocity\n",
    "\n",
    "As a powerful assessment of cell status, RNA velocity analyses expression dynamics based on scRNA-seq data, which generates the spliced and unspliced matrices in loom file, also called RNA abundance."
   ]
  },
  {
   "attachments": {},
   "cell_type": "markdown",
   "id": "b02e781d",
   "metadata": {},
   "source": [
    "For example, we use exon information of GEM/GEF file to generate the spliced and unspliced matrices in the loom file. Therefore, it is necessary to ensure that GEM/GEF file is obtained from `spatial_RNA_visualization_v5` in SAP or SAW (version >= 5.1.3). \n",
    "\n",
    "The annotation logic in SAW is calculating overlap area with exon. If the overlap area with exon information is greater than 50%, it is considered that the transcript belongs to exon."
   ]
  },
  {
   "attachments": {},
   "cell_type": "markdown",
   "id": "9fa5fcef",
   "metadata": {},
   "source": [
    "## Loom File"
   ]
  },
  {
   "attachments": {},
   "cell_type": "markdown",
   "id": "f08a8fa5",
   "metadata": {},
   "source": [
    "Import the module to generate loom file, please download our [example data]((https://pan.genomics.cn/ucdisk/s/BvIrye)) previously."
   ]
  },
  {
   "cell_type": "code",
   "execution_count": null,
   "id": "e0ab130e",
   "metadata": {},
   "outputs": [],
   "source": [
    "from stereo.tools import generate_loom\n",
    "\n",
    "bgef_file = './SS200000135TL_D1.tissue.gef'\n",
    "gtf_file = './genes.gtf'\n",
    "out_dir = './SS200000135TL_D1_bgef'\n",
    "\n",
    "# generate loom file\n",
    "loom_data = generate_loom(\n",
    "                gef_path=bgef_file, \n",
    "                gtf_path=gtf_file, \n",
    "                bin_type='bins', \n",
    "                bin_size=100, \n",
    "                out_dir=out_dir\n",
    "                )"
   ]
  },
  {
   "attachments": {},
   "cell_type": "markdown",
   "id": "ccfaa6ec",
   "metadata": {},
   "source": [
    "<div class=\"alert alert-info\">\n",
    "\n",
    "**Note**\n",
    "\n",
    "If you want to generate loom file through GEM file, use the parameter `gem_path`. Pay attention to the parameter `bin_type` which must be set to `'cell_bins'` when use files of `.cellbin.gef` or `.cellbin.gem`.\n",
    "\n",
    "</div>"
   ]
  },
  {
   "attachments": {},
   "cell_type": "markdown",
   "id": "3aae01bf",
   "metadata": {},
   "source": [
    "## Analysis on Dynamo"
   ]
  },
  {
   "attachments": {},
   "cell_type": "markdown",
   "id": "3434289e",
   "metadata": {},
   "source": [
    "We recommend Dynamo to subsequent analysis of RNA velocity. Now that Dynamo has been released to PyPI, learn about the usage on its [document](https://dynamo-release.readthedocs.io/en/latest/ten_minutes_to_dynamo.html). Dynamo now has been released to PyPI, you can install the PyPI version via: `pip install dynamo-release` and `pip install cdlib`."
   ]
  },
  {
   "cell_type": "code",
   "execution_count": null,
   "id": "306d9d5b",
   "metadata": {},
   "outputs": [],
   "source": [
    "#pip install dynamo-release\n",
    "#pip install cdlib\n",
    "import dynamo as dyn\n",
    "\n",
    "# set visualization mode\n",
    "dyn.configuration.set_figure_params('dynamo', background='white')\n",
    "\n",
    "# read data\n",
    "data = dyn.read_loom(loom_data)\n",
    "dyn.pp.recipe_monocle(\n",
    "            data,\n",
    "            num_dim=30,\n",
    "            keep_filtered_genes = True\n",
    "            )\n",
    "\n",
    "dyn.tl.dynamics(data, model='stochastic', cores=60)\n",
    "dyn.tl.moments(data)\n",
    "dyn.tl.reduceDimension(data)"
   ]
  },
  {
   "attachments": {},
   "cell_type": "markdown",
   "id": "b3c6af7d",
   "metadata": {},
   "source": [
    "The spatial coordinates of each cell are stored in the index of `adata.obs.index` which consists of coordinate x and coordiante y."
   ]
  },
  {
   "cell_type": "code",
   "execution_count": null,
   "id": "b6374390",
   "metadata": {},
   "outputs": [],
   "source": [
    "# generate lists for coordinates of x, y \n",
    "data.obs['x'] = list(map(lambda x: float(x.split(\"_\")[0]) ,list(data.obs.index)))\n",
    "data.obs['y'] = list(map(lambda x: float(x.split(\"_\")[1]) ,list(data.obs.index)))\n",
    "\n",
    "data.obsm['spatial'] = data.obs[['x', 'y']].values.astype(float)\n",
    "data.obsm['X_spatial'] = data.obs[['x', 'y']].values.astype(float)"
   ]
  },
  {
   "cell_type": "markdown",
   "id": "59f44cf4",
   "metadata": {},
   "source": [
    "Leiden clustering after RNA velovity."
   ]
  },
  {
   "cell_type": "code",
   "execution_count": null,
   "id": "c351ff26",
   "metadata": {},
   "outputs": [],
   "source": [
    "\n",
    "dyn.tl.cell_velocities(\n",
    "            data, \n",
    "            method='fp', \n",
    "            basis='X_spatial', \n",
    "            enforce=True,  \n",
    "            transition_genes = list(data.var_names[data.var.use_for_pca])\n",
    "            )\n",
    "\n",
    "dyn.tl.cell_wise_confidence(data)\n",
    "dyn.tl.leiden(data, result_key='spatial_leiden_res')"
   ]
  },
  {
   "cell_type": "markdown",
   "id": "7a964243",
   "metadata": {},
   "source": [
    "Display the streamline plot of RNA velocity."
   ]
  },
  {
   "cell_type": "code",
   "execution_count": null,
   "id": "2a41397f",
   "metadata": {},
   "outputs": [],
   "source": [
    "\n",
    "dyn.pl.streamline_plot(\n",
    "            data, \n",
    "            color = 'spatial_leiden_res', \n",
    "            basis='X_spatial',\n",
    "            quiver_length=6, \n",
    "            quiver_size=6,  \n",
    "            show_arrowed_spines=True,\n",
    "            figsize=(6, 6)\n",
    "            )"
   ]
  }
 ],
 "metadata": {
  "kernelspec": {
   "display_name": "Python 3.6.2 64-bit",
   "language": "python",
   "name": "python3"
  },
  "language_info": {
   "codemirror_mode": {
    "name": "ipython",
    "version": 3
   },
   "file_extension": ".py",
   "mimetype": "text/x-python",
   "name": "python",
   "nbconvert_exporter": "python",
   "pygments_lexer": "ipython3",
   "version": "3.6.2"
  },
  "toc": {
   "base_numbering": 1,
   "nav_menu": {},
   "number_sections": true,
   "sideBar": true,
   "skip_h1_title": false,
   "title_cell": "Table of Contents",
   "title_sidebar": "Contents",
   "toc_cell": false,
   "toc_position": {},
   "toc_section_display": true,
   "toc_window_display": false
  },
  "varInspector": {
   "cols": {
    "lenName": 16,
    "lenType": 16,
    "lenVar": 40
   },
   "kernels_config": {
    "python": {
     "delete_cmd_postfix": "",
     "delete_cmd_prefix": "del ",
     "library": "var_list.py",
     "varRefreshCmd": "print(var_dic_list())"
    },
    "r": {
     "delete_cmd_postfix": ") ",
     "delete_cmd_prefix": "rm(",
     "library": "var_list.r",
     "varRefreshCmd": "cat(var_dic_list()) "
    }
   },
   "types_to_exclude": [
    "module",
    "function",
    "builtin_function_or_method",
    "instance",
    "_Feature"
   ],
   "window_display": false
  },
  "vscode": {
   "interpreter": {
    "hash": "70dbeb2a90198859cd91b6ea0f3adc73d66939fe301617b631d99dfc954c0323"
   }
  }
 },
 "nbformat": 4,
 "nbformat_minor": 5
}
