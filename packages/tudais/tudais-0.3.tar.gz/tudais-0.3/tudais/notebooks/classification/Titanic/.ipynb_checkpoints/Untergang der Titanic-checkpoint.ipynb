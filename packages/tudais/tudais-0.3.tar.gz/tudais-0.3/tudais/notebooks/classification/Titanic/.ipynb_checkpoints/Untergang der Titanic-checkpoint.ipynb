{
 "cells": [
  {
   "cell_type": "markdown",
   "metadata": {
    "editable": false
   },
   "source": [
    "<img src=\"Images/IMG-Titanic-Banner.gif\">"
   ]
  },
  {
   "cell_type": "markdown",
   "metadata": {
    "editable": false
   },
   "source": [
    "Mittwoch, 10. April 1912, Southhampton in England. Ein großer Tag für die <a href=\"https://de.wikipedia.org/wiki/White_Star_Line\">White Star Line</a>, denn heute tritt ihr prestigeträchtigstes Schiff ihre Jungfernfahrt an. An Bord freuen sich über 1300 Fahrgäste auf eine luxuriöse Fahrt nach New York City. Mehr als 900 Besatzungsmitglieder stehen bereit, auf dem kolossalen Dampfer auf der Atlantiküberquerung zu Diensten zu stehen. Der Name des Schiffs: <a href=\"https://de.wikipedia.org/wiki/RMS_Titanic\">RMS Titanic</a>.\n",
    "\n",
    "In vorangegangenen Notebooks haben wir Methoden zur Datenvorverarbeitung und zur Klassifikation kennengelernt. Jetzt ist es an der Zeit, diese an einem Datensatz mal (fast) ganz ohne Anleitung auszuprobieren!\n",
    "Die Aufgabe besteht darin, anhand der (authentischen) Daten von über 800 Passagieren das Überleben eines Passagiers vorherzusagen.\n",
    "\n",
    "Halten Sie sich am besten (zumindest grob) an die vorgegebene Struktur dieses Notebooks, um ein optimales Ergebnis zu erreichen. \n",
    "Ihre endgültigen Vorhersagen können Sie als CSV-Datei an <a href=\"mailto:simon.stone@tu-dresden.de?Subject=Vorhersagen%20zu%20Jupyter%20Notebook%20Titanic\" target=\"_top\">Simon Stone</a> schicken und so an einem internen Ranking teilnehmen, das wir am Ende der Vorlesungszeit im Kurs bekanntmachen werden.\n",
    "\n",
    "**Wichtig:** Wenn Sie dieses Notebook als Teilleistung des Praktikums AIS bearbeiten, dann schicken Sie es bitte gemeinsam mit dem Notebook zur Regression in einem ZIP-Archiv an Ihren Betreuer (siehe Folien zur Einführung ins Praktikum).\n",
    "\n",
    "<img style=\"float: right; margin:5px 0px 0px 10px\" src=\"Images/IMG-White-Star-Line.jpg\" alt=\"White-Star-Line-Poster\" width=\"256\">\n",
    "\n",
    "## Inhalt\n",
    "<table style=\"width:256; border: 1px solid black; display: inline-block\">\n",
    "  <tr>\n",
    "    <td  style=\"text-align:right\" width=64px><img src=\"Images/IMG-csv-in.png\" style=\"float:left\"></td>\n",
    "      <td style=\"text-align:left\" width=128px>\n",
    "          <a style=\"color:black; font-size:14px; font-weight:bold; text-decoration:none\" href='#import_data'>Daten importieren</a>\n",
    "      </td>\n",
    "  </tr>\n",
    "  <tr>\n",
    "    <td style=\"text-align:right\"><img src=\"Images/IMG-magnifying-glass.png\" style=\"float:left\"></td>\n",
    "    <td style=\"text-align:left\" width=128px><a style=\"color:black; font-size:14px; font-weight:bold; text-decoration:none\" href='#analyze_data'>Daten analysieren</a>\n",
    "      </td>\n",
    "  </tr>\n",
    "    <tr>\n",
    "    <td style=\"text-align:right\"><img src=\"Images/IMG-broom.png\" style=\"float:left\"></td>\n",
    "    <td style=\"text-align:left\" width=128px><a style=\"color:black; font-size:14px; font-weight:bold; text-decoration:none\" href='#clean_data'>Daten säubern</a>\n",
    "        </td>\n",
    "    </tr>\n",
    "    <tr>\n",
    "    <td style=\"text-align:right\"><img src=\"Images/IMG-gears.png\" style=\"float:left\"></td>\n",
    "    <td style=\"text-align:left\" width=128px><a style=\"color:black; font-size:14px; font-weight:bold; text-decoration:none\" href='#build_model'>Modellauswahl</a>\n",
    "        </td>\n",
    "  </tr>\n",
    "        <tr>\n",
    "    <td style=\"text-align:right\"><img src=\"Images/IMG-alert.png\" style=\"float:left\"></td>\n",
    "    <td style=\"text-align:left\" width=128px><a style=\"color:black; font-size:14px; font-weight:bold; text-decoration:none\" href='#make_predictions'>Vorhersagen treffen</a>\n",
    "        </td>\n",
    "  </tr>\n",
    "        <tr>\n",
    "    <td style=\"text-align:right\"><img src=\"Images/IMG-csv-out.png\" style=\"float:left\"></td>\n",
    "    <td style=\"text-align:left\" width=128px><a style=\"color:black; font-size:14px; font-weight:bold; text-decoration:none\" href='#save_predictions'>Vorhersagen speichern</a>\n",
    "        </td>\n",
    "  </tr>\n",
    "</table>\n",
    "\n"
   ]
  },
  {
   "cell_type": "markdown",
   "metadata": {
    "editable": false
   },
   "source": [
    "<a id='import_data'></a><div><img src=\"Images/IMG-csv-in.png\" style=\"float:left\"> <h2 style=\"position: relative; top: 6px; left:10px\">1. Daten importieren</h2>\n",
    "<p style=\"position: relative; top: 10px\">\n",
    "Lesen Sie die Passagierdaten für das Training des Klassifikators aus der Datei \"titanic.csv\" im Ordner \"Data\" ein. Die Spaltennamen haben die folgenden Bedeutungen:\n",
    "</p>\n",
    "<table style=\"width:256; border: 1px solid black; display: inline-block\">\n",
    "    <tr>\n",
    "        <td style=\"text-align:left\"><p style=\"color:black; font-size:14px; font-weight:bold\">Survived:</p>\n",
    "        </td>\n",
    "        <td style=\"text-align:left\"><p style=\"color:black; font-size:14px\">Zu vorhersagende Größe. 1: Passagier hat überlebt. 0: Passagier hat nicht überlebt.</p>\n",
    "        </td>\n",
    "    </tr>\n",
    "    <tr>\n",
    "        <td style=\"text-align:left\"><p style=\"color:black; font-size:14px; font-weight:bold\">Pclass:</p>\n",
    "        </td>\n",
    "        <td style=\"text-align:left\"><p style=\"color:black; font-size:14px\">Reiseklasse</p>\n",
    "        </td>\n",
    "    </tr>\n",
    "    <tr>\n",
    "        <td style=\"text-align:left\"><p style=\"color:black; font-size:14px; font-weight:bold\">Name:</p>\n",
    "        </td>\n",
    "        <td style=\"text-align:left\"><p style=\"color:black; font-size:14px\">Titel und Name. Bei Ehefrauen steht zuerste der Name des Ehemannes, dann der eigene Name in Klammern. 🙄</p>\n",
    "        </td>\n",
    "    </tr>\n",
    "    <tr>\n",
    "        <td style=\"text-align:left\"><p style=\"color:black; font-size:14px; font-weight:bold\">Sex:</p>\n",
    "        </td>\n",
    "        <td style=\"text-align:left\"><p style=\"color:black; font-size:14px\">Geschlecht</p>\n",
    "        </td>\n",
    "    </tr>\n",
    "    <tr>\n",
    "        <td style=\"text-align:left\"><p style=\"color:black; font-size:14px; font-weight:bold\">Age:</p>\n",
    "        </td>\n",
    "        <td style=\"text-align:left\"><p style=\"color:black; font-size:14px\">Alter</p>\n",
    "        </td>\n",
    "    </tr>\n",
    "    <tr>\n",
    "        <td style=\"text-align:left\"><p style=\"color:black; font-size:14px; font-weight:bold\">Siblings_SpousesAboard:</p>\n",
    "        </td>\n",
    "        <td style=\"text-align:left\"><p style=\"color:black; font-size:14px\">Anzahl der mitreisenden Geschwister und Ehepartner</p>\n",
    "        </td>\n",
    "    </tr>\n",
    "    <tr>\n",
    "        <td style=\"text-align:left\"><p style=\"color:black; font-size:14px; font-weight:bold\">Parents_ChildrenAboard:</p>\n",
    "        </td>\n",
    "        <td style=\"text-align:left\"><p style=\"color:black; font-size:14px\">Anzahl der mitreisenden Eltern und Kinder</p>\n",
    "        </td>\n",
    "    </tr>\n",
    "    <tr>\n",
    "        <td style=\"text-align:left\"><p style=\"color:black; font-size:14px; font-weight:bold\">Fare:</p>\n",
    "        </td>\n",
    "        <td style=\"text-align:left\"><p style=\"color:black; font-size:14px\">Bezahlter Fahrscheinpreis in Pound sterling</p>\n",
    "        </td>\n",
    "    </tr>\n",
    "    </table>\n",
    "    \n",
    "Lesen Sie anschließend die Testdaten aus \"titanic_test.csv\" im Ordner \"Data\" ein. Die Daten haben das gleiche Format, allerdings fehlt die Spalte \"Survived\", da diese ja vorhergesagt werden soll. "
   ]
  },
  {
   "cell_type": "code",
   "execution_count": null,
   "metadata": {},
   "outputs": [],
   "source": [
    "import pandas as pd\n",
    "\n",
    "\n",
    "# Daten importieren\n"
   ]
  },
  {
   "cell_type": "markdown",
   "metadata": {
    "editable": false
   },
   "source": [
    "<a id='analyze_data'></a><div><img src=\"Images/IMG-magnifying-glass.png\" style=\"float:left\"> <h2 style=\"position: relative; top: 6px; left: 10px\">2. Daten analysieren</h2>\n",
    "<p style=\"position: relative; top: 10px\">\n",
    "Durchstöbern Sie die Daten. Welche Spalten sind numerisch? Wie ist die Werteverteilung in den einzelnen Spalten? Wo fehlen Werte?\n",
    "</p>"
   ]
  },
  {
   "cell_type": "code",
   "execution_count": null,
   "metadata": {},
   "outputs": [],
   "source": [
    "# Daten explorieren"
   ]
  },
  {
   "cell_type": "markdown",
   "metadata": {
    "editable": false
   },
   "source": [
    "<a id='clean_data'></a><div><img src=\"Images/IMG-broom.png\" style=\"float:left\"> <h2 style=\"position: relative; top: 6px; left:10px\">3. Daten säubern</h2>\n",
    "<p style=\"position: relative; top: 10px\">\n",
    "Konvertieren Sie alle nicht-numerischen Daten. Füllen Sie fehlende Werte auf. Sie wissen ja inzwischen, wie das geht. \n",
    "\n",
    "Sie müssen auch nicht alle Merkmale oder Beobachtungen behalten. Oder vielleicht kann man ja auch ganz neue Merkmale aus den vorhandenen ableiten? Welche hinter den Merkmalen liegenden Zusammenhänge könnten vielleicht einen Einfluss auf die Überlebenschance haben? Seien Sie ruhig kreativ!   \n",
    "</p>"
   ]
  },
  {
   "cell_type": "code",
   "execution_count": null,
   "metadata": {},
   "outputs": [],
   "source": [
    "# Daten säubern"
   ]
  },
  {
   "cell_type": "markdown",
   "metadata": {
    "editable": false
   },
   "source": [
    "<a id='build_model'></a><div><img src=\"Images/IMG-gears.png\" style=\"float:left\"> <h2 style=\"position: relative; top: 6px; left:10px\">4. Modellauswahl</h2>\n",
    "<p style=\"position: relative; top: 10px\">\n",
    "Trainieren Sie einen Klassifikator zur Vorhersage des Überlebens eines Passagiers! Denken Sie unabhängig von der Art des gewählten Modells daran, alle Hyperparameter zu optimieren. \n",
    "</p>"
   ]
  },
  {
   "cell_type": "code",
   "execution_count": null,
   "metadata": {},
   "outputs": [],
   "source": [
    "# Modell trainieren\n",
    "\n",
    "# Kreuzvalidierung zur Optimierung der Hyperparameter nicht vergessen!\n",
    "\n",
    "# Am Ende Modell mit optimalen Hyperparametern auf allen gelabelte Daten trainieren!"
   ]
  },
  {
   "cell_type": "markdown",
   "metadata": {
    "editable": false
   },
   "source": [
    "<a id='make_predictions'></a><div><img src=\"Images/IMG-alert.png\" style=\"float:left\"> <h2 style=\"position: relative; top: 6px; left:10px\">5. Vorhersagen treffen</h2>\n",
    "<p style=\"position: relative; top: 10px\">\n",
    "Verwenden Sie Ihr trainiertes Modell, um für alle ungelabelten Beobachtungen aus \"titanic_test.csv\" eine Vorhersage des Überlebens zu treffen!\n",
    "\n",
    "Denken Sie daran, die Daten vorher auf die <strong>exakt gleiche Weise</strong> aufzubereiten, wie Sie es mit den Trainingsdaten getan haben.\n",
    "</p>"
   ]
  },
  {
   "cell_type": "code",
   "execution_count": null,
   "metadata": {},
   "outputs": [],
   "source": [
    "# Vorverabeitung der Testdaten (exakt wie Vorverarbeitung von Trainingsdaten!)\n",
    "\n",
    "# Vorhersagen treffen"
   ]
  },
  {
   "cell_type": "markdown",
   "metadata": {
    "editable": false
   },
   "source": [
    "<a id='save_predictions'></a><div><img src=\"Images/IMG-csv-out.png\" style=\"float:left\"> <h2 style=\"position: relative; top: 6px; left:10px\">6. Vorhersagen speichern</h2>\n",
    "<p style=\"position: relative; top: 10px\">\n",
    "Speichern Sie die Vorhersagen in einer CSV-Datei ab. Die Datei soll nur eine Spalte haben. In jeder Zeile soll genau eine Zahl stehen: Eine 0 steht für \"Passagier hat nicht überlebt\" und eine 1 steht für \"Passagier hat überlebt\". Die Reihenfolge der Vorhersagen muss der Reihenfolge der Beobachtungen in \"titanic_test.csv\" entsprechen.\n",
    "</p>"
   ]
  },
  {
   "cell_type": "code",
   "execution_count": null,
   "metadata": {},
   "outputs": [],
   "source": [
    "# Vorhersagen speichern"
   ]
  },
  {
   "cell_type": "markdown",
   "metadata": {
    "editable": false
   },
   "source": [
    "Mit Ihrer Vorhersagen können Sie an einem kleinen Wettbewerb teilnehmen: Wir berechnen die Klassifikationsgenauigkeit Ihres Modells auf den ungesehenen Daten und stellen so ein Kurs-internes Ranking auf, das wir am Ende der Vorlesungszeit im Kurs bekannt geben werden. Optional können Sie uns auch ein Pseudonym mitteilen, unter dem Sie auf der Liste geführt werden, wenn Sie nicht namentlich dort erscheinen wollen. Viel Erfolg!"
   ]
  },
  {
   "cell_type": "markdown",
   "metadata": {
    "editable": false
   },
   "source": [
    "<img src=\"Images/IMG-Titanic-Footer.jpg\">"
   ]
  },
  {
   "cell_type": "markdown",
   "metadata": {
    "editable": false
   },
   "source": [
    "---\n",
    "<div>Passenger data from <a href=\"https://www.encyclopedia-titanica.org/\">Encyclopedia Titanica</a></div>\n",
    "<div>Header background swiped from <a href=\"https://titanicsound.wordpress.com/\">Titanic Movie blog</a></div>\n",
    "<div>Icons made by <a href=\"https://www.flaticon.com/authors/swifticons\" title=\"Swifticons\">Swifticons</a> from <a href=\"https://www.flaticon.com/\" title=\"Flaticon\">www.flaticon.com</a></div>\n",
    "<div>Footer image by Karl Beutel, licensed under <a href=\"https://creativecommons.org/licenses/by-sa/3.0/deed.en\">Creative Commons Attribution-Share Alike 3.0 Unported</a></div>\n",
    "<div>Notebook erstellt von Simon Stone</div>"
   ]
  }
 ],
 "metadata": {
  "celltoolbar": "Edit Metadata",
  "kernelspec": {
   "display_name": "Python 3 (ipykernel)",
   "language": "python",
   "name": "python3"
  },
  "language_info": {
   "codemirror_mode": {
    "name": "ipython",
    "version": 3
   },
   "file_extension": ".py",
   "mimetype": "text/x-python",
   "name": "python",
   "nbconvert_exporter": "python",
   "pygments_lexer": "ipython3",
   "version": "3.10.4"
  }
 },
 "nbformat": 4,
 "nbformat_minor": 2
}
