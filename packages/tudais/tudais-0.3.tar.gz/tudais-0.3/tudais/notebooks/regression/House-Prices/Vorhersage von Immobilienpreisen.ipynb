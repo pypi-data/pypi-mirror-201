{
 "cells": [
  {
   "cell_type": "markdown",
   "metadata": {
    "editable": false
   },
   "source": [
    "<img src=\"Images/IMG-Regression.png\">"
   ]
  },
  {
   "cell_type": "markdown",
   "metadata": {
    "editable": false
   },
   "source": [
    "In diesem Notebook sollen Sie anhand diverser Merkmale den Wert von Immobilien vorhersagen. \n",
    "<img style=\"float: right; margin:5px 0px 0px 10px\" src=\"Images/IMG-houses.png\" alt=\"Some buildings\" width=\"400\">\n",
    "Sie erhalten einen vollständig gelabelten Datensatz und einen Datensatz, in dem der vorherzusagende Wert fehlt. Auf diesem Testdatensatz können Sie mit dem besten von Ihnen gefundenen Modell eine Vorhersage wagen und die Ergebnisse an uns schicken. Wir berechnen dann die mittlere Abweichung von den uns bekannten tatsächlichen Preisen und so entsteht eine Kurs-interne Rangliste, die wir am Ende der Vorlesungszeit im Kurs bekanntgeben werden. \n",
    "\n",
    "**Wichtig:** Wenn Sie dieses Notebook als Teilleistung des Praktikums AIS bearbeiten, dann schicken Sie es bitte gemeinsam mit dem Notebook zur Klassifikation in einem ZIP-Archiv an Ihren Betreuer (siehe Folien zur Einführung ins Praktikum).\n",
    "\n",
    "\n",
    "## Inhalt\n",
    "Am besten folgen Sie bei Ihrer Arbeit der vorgegebenen Struktur dieses Notebooks. Viel Erfolg!\n",
    "<img style=\"float: right; margin:5px 0px 0px 10px\" src=\"Images/IMG-Go.png\" alt=\"Go\" width=\"300\">\n",
    "<table style=\"float:left; width:256; border: 1px solid black; display: inline-block\">\n",
    "  <tr>\n",
    "    <td  style=\"text-align:right\" width=64px><img src=\"Images/IMG-csv-in.png\" style=\"float:left\"></td>\n",
    "      <td style=\"text-align:left\" width=128px>\n",
    "          <a style=\"color:black; font-size:14px; font-weight:bold; text-decoration:none\" href='#import_data'>Daten importieren</a>\n",
    "      </td>\n",
    "  </tr>\n",
    "  <tr>\n",
    "    <td style=\"text-align:right\"><img src=\"Images/IMG-magnifying-glass.png\" style=\"float:left\"></td>\n",
    "    <td style=\"text-align:left\" width=128px><a style=\"color:black; font-size:14px; font-weight:bold; text-decoration:none\" href='#analyze_data'>Daten analysieren</a>\n",
    "      </td>\n",
    "  </tr>\n",
    "    <tr>\n",
    "    <td style=\"text-align:right\"><img src=\"Images/IMG-broom.png\" style=\"float:left\"></td>\n",
    "    <td style=\"text-align:left\" width=128px><a style=\"color:black; font-size:14px; font-weight:bold; text-decoration:none\" href='#clean_data'>Daten säubern</a>\n",
    "        </td>\n",
    "    </tr>\n",
    "    <tr>\n",
    "    <td style=\"text-align:right\"><img src=\"Images/IMG-diagram.png\" style=\"float:left\"></td>\n",
    "    <td style=\"text-align:left\" width=128px><a style=\"color:black; font-size:14px; font-weight:bold; text-decoration:none\" href='#build_model'>Modellauswahl</a>\n",
    "        </td>\n",
    "  </tr>\n",
    "        <tr>\n",
    "    <td style=\"text-align:right\"><img src=\"Images/IMG-euro.png\" style=\"float:left\"></td>\n",
    "    <td style=\"text-align:left\" width=128px><a style=\"color:black; font-size:14px; font-weight:bold; text-decoration:none\" href='#make_predictions'>Vorhersagen treffen</a>\n",
    "        </td>\n",
    "  </tr>\n",
    "        <tr>\n",
    "    <td style=\"text-align:right\"><img src=\"Images/IMG-csv-out.png\" style=\"float:left\"></td>\n",
    "    <td style=\"text-align:left\" width=128px><a style=\"color:black; font-size:14px; font-weight:bold; text-decoration:none\" href='#save_predictions'>Vorhersagen speichern</a>\n",
    "        </td>\n",
    "  </tr>\n",
    "</table>"
   ]
  },
  {
   "cell_type": "markdown",
   "metadata": {
    "editable": false
   },
   "source": [
    "<a id='import_data'></a><div><img src=\"Images/IMG-csv-in.png\" style=\"float:left\"> <h2 style=\"position: relative; top: 6px; left:10px\">1. Daten importieren</h2>\n",
    "<p style=\"position: relative; top: 10px\">\n",
    "Lesen Sie die Daten der Immobilien für das Training des Regressionsmodells aus der Datei \"houses.csv\" im Ordner \"Data\" ein. Die enthaltenen Merkmale sind in der folgenden Tabelle kurz erklärt:\n",
    "</p>\n",
    "<table style=\"width:256; border: 1px solid black; display: inline-block\">\n",
    "    <tr>\n",
    "        <td style=\"text-align:left\"><p style=\"color:black; font-size:14px; font-weight:bold\">index</p>\n",
    "        </td>\n",
    "        <td style=\"text-align:left\"><p style=\"color:black; font-size:14px\">Index der Immobilie</p>\n",
    "        </td>\n",
    "    </tr>\n",
    "    <tr>\n",
    "        <td style=\"text-align:left\"><p style=\"color:black; font-size:14px; font-weight:bold\">crime</p>\n",
    "        </td>\n",
    "        <td style=\"text-align:left\"><p style=\"color:black; font-size:14px\">Kriminalitätsrate pro Kopf in der Umgebung</p>\n",
    "        </td>\n",
    "    </tr>\n",
    "    <tr>\n",
    "        <td style=\"text-align:left\"><p style=\"color:black; font-size:14px; font-weight:bold\">zoned</p>\n",
    "        </td>\n",
    "        <td style=\"text-align:left\"><p style=\"color:black; font-size:14px\">Anteil von großflächigen Wohnparzellen in Umgebung</p>\n",
    "        </td>\n",
    "    </tr>\n",
    "    <tr>\n",
    "        <td style=\"text-align:left\"><p style=\"color:black; font-size:14px; font-weight:bold\">industrial</p>\n",
    "        </td>\n",
    "        <td style=\"text-align:left\"><p style=\"color:black; font-size:14px\">Anteil von Industrie in Umgebung</p>\n",
    "        </td>\n",
    "    </tr>\n",
    "    <tr>\n",
    "        <td style=\"text-align:left\"><p style=\"color:black; font-size:14px; font-weight:bold\">river</p>\n",
    "        </td>\n",
    "        <td style=\"text-align:left\"><p style=\"color:black; font-size:14px\">Angrenzend an Fluss</p>\n",
    "        </td>\n",
    "    </tr>\n",
    "    <tr>\n",
    "        <td style=\"text-align:left\"><p style=\"color:black; font-size:14px; font-weight:bold\">nox</p>\n",
    "        </td>\n",
    "        <td style=\"text-align:left\"><p style=\"color:black; font-size:14px\">Stickoxidbelastung (parts per 10 million)</p>\n",
    "        </td>\n",
    "    </tr>\n",
    "    <tr>\n",
    "        <td style=\"text-align:left\"><p style=\"color:black; font-size:14px; font-weight:bold\">rooms</p>\n",
    "        </td>\n",
    "        <td style=\"text-align:left\"><p style=\"color:black; font-size:14px\">Anzahl der Zimmer</p>\n",
    "        </td>\n",
    "    </tr>\n",
    "    <tr>\n",
    "        <td style=\"text-align:left\"><p style=\"color:black; font-size:14px; font-weight:bold\">age</p>\n",
    "        </td>\n",
    "        <td style=\"text-align:left\"><p style=\"color:black; font-size:14px\">Anteil von Vorkriegsbauten in Umgebung</p>\n",
    "        </td>\n",
    "    </tr>\n",
    "    <tr>\n",
    "        <td style=\"text-align:left\"><p style=\"color:black; font-size:14px; font-weight:bold\">distances</p>\n",
    "        </td>\n",
    "        <td style=\"text-align:left\"><p style=\"color:black; font-size:14px\">Gewichtete Distanz zu fünf großen Arbeitgebern in Umgebung</p>\n",
    "        </td>\n",
    "    </tr>\n",
    "    <tr>\n",
    "        <td style=\"text-align:left\"><p style=\"color:black; font-size:14px; font-weight:bold\">highway</p>\n",
    "        </td>\n",
    "        <td style=\"text-align:left\"><p style=\"color:black; font-size:14px\">Bewertung des Autobahnzugangs</p>\n",
    "        </td>\n",
    "    </tr>\n",
    "    <tr>\n",
    "        <td style=\"text-align:left\"><p style=\"color:black; font-size:14px; font-weight:bold\">tax</p>\n",
    "        </td>\n",
    "        <td style=\"text-align:left\"><p style=\"color:black; font-size:14px\">Eigentumssteuer in 10000 Dollar</p>\n",
    "        </td>\n",
    "    </tr>\n",
    "    <tr>\n",
    "        <td style=\"text-align:left\"><p style=\"color:black; font-size:14px; font-weight:bold\">p_t_ratio</p>\n",
    "        </td>\n",
    "        <td style=\"text-align:left\"><p style=\"color:black; font-size:14px\">Verhältnis von Schülern zu Lehrern in Umgebung</p>\n",
    "        </td>\n",
    "    </tr>\n",
    "    <tr>\n",
    "        <td style=\"text-align:left\"><p style=\"color:black; font-size:14px; font-weight:bold\">lower_status</p>\n",
    "        </td>\n",
    "        <td style=\"text-align:left\"><p style=\"color:black; font-size:14px\">Anteil von Menschen niedrigen sozioökonomischen Status in Umgebung</p>\n",
    "        </td>\n",
    "    </tr>\n",
    "    <tr>\n",
    "        <td style=\"text-align:left\"><p style=\"color:black; font-size:14px; font-weight:bold\">value</p>\n",
    "        </td>\n",
    "        <td style=\"text-align:left\"><p style=\"color:black; font-size:14px\">Wert der Immobilie in 1000 Dollar (vorherzusagende Größe)</p>\n",
    "        </td>\n",
    "    </tr>\n",
    "    </table>"
   ]
  },
  {
   "cell_type": "code",
   "execution_count": 5,
   "metadata": {
    "scrolled": true
   },
   "outputs": [],
   "source": [
    "import pandas as pd\n",
    "# Daten  importieren"
   ]
  },
  {
   "cell_type": "markdown",
   "metadata": {
    "editable": false
   },
   "source": [
    "<a id='analyze_data'></a><div><img src=\"Images/IMG-magnifying-glass.png\" style=\"float:left\"> <h2 style=\"position: relative; top: 6px; left: 10px\">2. Daten analysieren</h2>\n",
    "<p style=\"position: relative; top: 10px\">\n",
    "Durchstöbern Sie die Daten. Welche Spalten sind numerisch? Wie ist die Werteverteilung in den einzelnen Spalten? Fehlen Werte?\n",
    "</p>"
   ]
  },
  {
   "cell_type": "code",
   "execution_count": null,
   "metadata": {},
   "outputs": [],
   "source": [
    "# Daten explorieren"
   ]
  },
  {
   "cell_type": "markdown",
   "metadata": {
    "editable": false
   },
   "source": [
    "<a id='clean_data'></a><div><img src=\"Images/IMG-broom.png\" style=\"float:left\"> <h2 style=\"position: relative; top: 6px; left:10px\">3. Daten säubern</h2>"
   ]
  },
  {
   "cell_type": "code",
   "execution_count": null,
   "metadata": {},
   "outputs": [],
   "source": [
    "# Daten säubern"
   ]
  },
  {
   "cell_type": "markdown",
   "metadata": {
    "editable": false
   },
   "source": [
    "<a id='build_model'></a><div><img src=\"Images/IMG-diagram.png\" style=\"float:left\"> <h2 style=\"position: relative; top: 6px; left:10px\">4. Modellauswahl</h2>\n",
    "<p style=\"position: relative; top: 10px\">\n",
    "Trainieren Sie ein Regressionsmodell zur Vorhersage des Werts einer Immobilie. Denken Sie unabhängig von der Art des gewählten Modells daran, alle Hyperparameter zu optimieren. \n",
    "</p>"
   ]
  },
  {
   "cell_type": "code",
   "execution_count": null,
   "metadata": {},
   "outputs": [],
   "source": [
    "# Modell trainieren\n",
    "\n",
    "# Kreuzvalidierung zur Optimierung der Hyperparameter nicht vergessen!\n",
    "\n",
    "# Am Ende Modell mit optimalen Hyperparametern auf allen gelabelte Daten trainieren!"
   ]
  },
  {
   "cell_type": "markdown",
   "metadata": {
    "editable": false
   },
   "source": [
    "<a id='make_predictions'></a><div><img src=\"Images/IMG-euro.png\" style=\"float:left\"> <h2 style=\"position: relative; top: 6px; left:10px\">5. Vorhersagen treffen</h2>\n",
    "<p style=\"position: relative; top: 10px\">\n",
    "Verwenden Sie Ihr trainiertes Modell, um für alle ungelabelten Beobachtungen aus \"houses_test.csv\" eine Vorhersage des Wertes zu treffen!\n",
    "\n",
    "Denken Sie daran, die Daten vorher auf die <strong>exakt gleiche Weise</strong> aufzubereiten, wie Sie es mit den Trainingsdaten getan haben.\n",
    "</p>"
   ]
  },
  {
   "cell_type": "code",
   "execution_count": null,
   "metadata": {},
   "outputs": [],
   "source": [
    "# Vorverabeitung der Testdaten (exakt wie Vorverarbeitung von Trainingsdaten!)\n",
    "\n",
    "# Vorhersagen treffen"
   ]
  },
  {
   "cell_type": "markdown",
   "metadata": {
    "editable": false
   },
   "source": [
    "<a id='save_predictions'></a><div><img src=\"Images/IMG-csv-out.png\" style=\"float:left\"> <h2 style=\"position: relative; top: 6px; left:10px\">6. Vorhersagen speichern</h2>\n",
    "<p style=\"position: relative; top: 10px\">\n",
    "Speichern Sie die Vorhersagen in einer CSV-Datei ab. Die Datei soll nur eine Spalte haben. In jeder Zeile soll genau eine Zahl stehen, die dem vorhergesagten Wert entspricht. Die Reihenfolge der Vorhersagen muss der Reihenfolge der Beobachtungen in \"houses_test.csv\" entsprechen.\n",
    "</p>"
   ]
  },
  {
   "cell_type": "code",
   "execution_count": null,
   "metadata": {},
   "outputs": [],
   "source": [
    "# Vorhersagen speichern"
   ]
  },
  {
   "cell_type": "markdown",
   "metadata": {
    "editable": false
   },
   "source": [
    "Mit Ihrer Vorhersagen können Sie an einem kleinen Wettbewerb teilnehmen: Wir berechnen die mittlere Abweichung der Vorhersagen Ihres Modells auf den ungesehenen Daten und stellen so ein Kurs-internes Ranking auf, das wir am Ende der Vorlesungszeit im Kurs bekannt geben werden. Optional können Sie dem widersprechen, oder uns auch ein Pseudonym mitteilen, unter dem Sie auf der Liste geführt werden, wenn Sie nicht namentlich dort erscheinen wollen. Viel Erfolg!"
   ]
  },
  {
   "cell_type": "markdown",
   "metadata": {
    "editable": false
   },
   "source": [
    "<img src=\"Images/IMG-Monopoly-Tokens.jpg\">"
   ]
  },
  {
   "cell_type": "markdown",
   "metadata": {
    "editable": false
   },
   "source": [
    "---\n",
    "<div>Housing data in the public domain. Source: Harrison, D. and Rubinfeld, D.L. \"Hedonic prices and the demand for clean air\", J. Environ. Economics & Management, vol.5, 81-102, 1978.</div>\n",
    "<div>Icons made by <a href=\"https://www.flaticon.com/authors/swifticons\" title=\"Swifticons\">Swifticons</a> from <a href=\"https://www.flaticon.com/\" title=\"Flaticon\">www.flaticon.com</a></div>\n",
    "<div>Monopoly tokens image based on <a href=\"https://monopoly.fandom.com/wiki/Tokens?file=Monopoly_1946-tokens.jpg\">Monopoly Wiki</a></div>\n",
    "<div>Notebook erstellt von Simon Stone</div>"
   ]
  }
 ],
 "metadata": {
  "celltoolbar": "Edit Metadata",
  "kernelspec": {
   "display_name": "Python 3 (ipykernel)",
   "language": "python",
   "name": "python3"
  },
  "language_info": {
   "codemirror_mode": {
    "name": "ipython",
    "version": 3
   },
   "file_extension": ".py",
   "mimetype": "text/x-python",
   "name": "python",
   "nbconvert_exporter": "python",
   "pygments_lexer": "ipython3",
   "version": "3.10.4"
  }
 },
 "nbformat": 4,
 "nbformat_minor": 2
}
