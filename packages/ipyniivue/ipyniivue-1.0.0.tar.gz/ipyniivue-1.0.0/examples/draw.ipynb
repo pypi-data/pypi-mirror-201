{
 "cells": [
  {
   "cell_type": "code",
   "execution_count": 1,
   "id": "c513ae7d-8b2c-4a47-abf3-157c116767ac",
   "metadata": {},
   "outputs": [],
   "source": [
    "from ipyniivue import Niivue\n",
    "import ipywidgets as widgets"
   ]
  },
  {
   "cell_type": "code",
   "execution_count": 2,
   "id": "0beaad12-ce8b-47b4-8bf6-fe2e13d80e1e",
   "metadata": {},
   "outputs": [],
   "source": [
    "nv = Niivue(back_color = [1,1,1,1], multiplanar_force_render = True)"
   ]
  },
  {
   "cell_type": "code",
   "execution_count": 3,
   "id": "df7ef898-0df2-4c95-a63e-a77b6011d245",
   "metadata": {},
   "outputs": [
    {
     "data": {
      "application/vnd.jupyter.widget-view+json": {
       "model_id": "c3dbec08141b430288b5ad5e1ecf863c",
       "version_major": 2,
       "version_minor": 0
      },
      "text/plain": [
       "Niivue(back_color=[1.0, 1.0, 1.0, 1.0], clip_plane_color=[1.0, 1.0, 1.0, 0.5], crosshair_color=[1.0, 0.0, 0.0,…"
      ]
     },
     "execution_count": 3,
     "metadata": {},
     "output_type": "execute_result"
    }
   ],
   "source": [
    "nv.add_volume(\"https://niivue.github.io/niivue/images/FLAIR.nii.gz\")\n",
    "nv.set_radiological_convention(False)\n",
    "nv.set_slice_type(nv.slice_type.multiplanar)\n",
    "nv"
   ]
  },
  {
   "cell_type": "code",
   "execution_count": 4,
   "id": "c8635409-1b81-4c21-b8ce-da0b4b4e072e",
   "metadata": {},
   "outputs": [],
   "source": [
    "nv.load_drawing_from_url(\"https://niivue.github.io/niivue/images/lesion.nii.gz\")"
   ]
  },
  {
   "cell_type": "code",
   "execution_count": 5,
   "id": "9bebb28b-c190-4000-a3b5-081e4e28bcd6",
   "metadata": {},
   "outputs": [
    {
     "data": {
      "application/vnd.jupyter.widget-view+json": {
       "model_id": "ce2e4f8a323a49e294cb75c4eace4cab",
       "version_major": 2,
       "version_minor": 0
      },
      "text/plain": [
       "Dropdown(description='Draw color:', options=(('Off', -1), ('Erase', 0), ('Red', 1), ('Green', 2), ('Blue', 3),…"
      ]
     },
     "metadata": {},
     "output_type": "display_data"
    }
   ],
   "source": [
    "dropvals = widgets.Dropdown(\n",
    "    options=[\n",
    "        ('Off', -1), \n",
    "        ('Erase', 0), \n",
    "        ('Red', 1),\n",
    "        ('Green', 2),\n",
    "        ('Blue', 3),\n",
    "        ('Filled Erase', 8),\n",
    "        ('Filled Red', 9),\n",
    "        ('Filled Green', 10),\n",
    "        ('Filled Blue', 11),\n",
    "        ('Erase Selected Cluster', 12)\n",
    "    ],\n",
    "    value=-1,\n",
    "    description='Draw color:',\n",
    ")\n",
    "\n",
    "def on_change(change):\n",
    "    if change['type'] == 'change' and change['name'] == 'value':\n",
    "        mode = change['new']\n",
    "        nv.set_drawing_enabled(mode >= 0)\n",
    "        if (mode >= 0):\n",
    "            nv.set_pen_value( mode & 7, mode > 7)\n",
    "        if (mode == 12): #erase selected cluster\n",
    "            nv.setPenValue(-0)\n",
    "\n",
    "dropvals.observe(on_change)\n",
    "\n",
    "display(dropvals)"
   ]
  },
  {
   "cell_type": "code",
   "execution_count": null,
   "id": "0519bc2e-5a05-43c6-b5b0-c40b06e63fdf",
   "metadata": {},
   "outputs": [],
   "source": []
  }
 ],
 "metadata": {
  "kernelspec": {
   "display_name": "Python 3 (ipykernel)",
   "language": "python",
   "name": "python3"
  },
  "language_info": {
   "codemirror_mode": {
    "name": "ipython",
    "version": 3
   },
   "file_extension": ".py",
   "mimetype": "text/x-python",
   "name": "python",
   "nbconvert_exporter": "python",
   "pygments_lexer": "ipython3",
   "version": "3.11.2"
  }
 },
 "nbformat": 4,
 "nbformat_minor": 5
}
