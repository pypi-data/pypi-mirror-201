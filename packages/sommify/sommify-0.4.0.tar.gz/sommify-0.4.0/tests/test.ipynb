{
 "cells": [
  {
   "cell_type": "code",
   "execution_count": 6,
   "metadata": {},
   "outputs": [
    {
     "data": {
      "text/plain": [
       "(50000, 'g')"
      ]
     },
     "execution_count": 6,
     "metadata": {},
     "output_type": "execute_result"
    }
   ],
   "source": [
    "# from sommify.data.constants import u_weight_conversions, u_volume_conversions, u_conversions\n",
    "\n",
    "\n",
    "# def Q_U_unify(quantity, unit):\n",
    "#     unit_fixed = (\n",
    "#         \"g\"\n",
    "#         if unit in u_weight_conversions\n",
    "#         else \"ml\"\n",
    "#         if unit in u_volume_conversions\n",
    "#         else \"other\"\n",
    "#     )\n",
    "#     if unit_fixed == \"other\":\n",
    "#         return quantity, unit\n",
    "\n",
    "#     conversion_rate = u_conversions[unit]\n",
    "#     return (quantity * conversion_rate, unit_fixed)"
   ]
  }
 ],
 "metadata": {
  "kernelspec": {
   "display_name": "ds",
   "language": "python",
   "name": "python3"
  },
  "language_info": {
   "codemirror_mode": {
    "name": "ipython",
    "version": 3
   },
   "file_extension": ".py",
   "mimetype": "text/x-python",
   "name": "python",
   "nbconvert_exporter": "python",
   "pygments_lexer": "ipython3",
   "version": "3.8.13 | packaged by conda-forge | (default, Mar 25 2022, 06:05:16) \n[Clang 12.0.1 ]"
  },
  "orig_nbformat": 4,
  "vscode": {
   "interpreter": {
    "hash": "f2ebc3eb0caf13f5877df07c9728572533ff950a60e7548d90f6d8d6f0ae7f3c"
   }
  }
 },
 "nbformat": 4,
 "nbformat_minor": 2
}
