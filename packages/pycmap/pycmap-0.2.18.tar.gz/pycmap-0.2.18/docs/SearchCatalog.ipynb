{
 "cells": [
  {
   "cell_type": "markdown",
   "metadata": {},
   "source": [
    "<!--NAVIGATION-->\n",
    "< [Catalog](Catalog.ipynb) | [Index](Index.ipynb) | [Datasets](Datasets.ipynb) >\n",
    "\n",
    "<a href=\"https://colab.research.google.com/github/simonscmap/pycmap/blob/master/docs/SearchCatalog.ipynb\"><img align=\"left\" src=\"https://colab.research.google.com/assets/colab-badge.svg\" alt=\"Open in Colab\" title=\"Open and Execute in Google Colaboratory\"></a>\n",
    "\n",
    "<a href=\"https://mybinder.org/v2/gh/simonscmap/pycmap/master?filepath=docs%2FSearchCatalog.ipynb\"><img align=\"right\" src=\"https://mybinder.org/badge_logo.svg\" alt=\"Open in Colab\" title=\"Open and Execute in Binder\"></a>"
   ]
  },
  {
   "cell_type": "markdown",
   "metadata": {},
   "source": [
    "## *search_catalog(keywords)*\n",
    "\n",
    "\n",
    "Returns a dataframe containing a subset of Simons CMAP catalog of variables. \n",
    "\n",
    "All variables at Simons CMAP catalog are annotated with a collection of semantically related keywords. This method takes the passed keywords and returns all of the variables annotated with similar keywords. The passed keywords should be separated by blank space. The search result is not sensitive to the order of keywords and is not case sensitive. The passed keywords can provide any 'hint' associated with the target variables. Below are a few examples: \n",
    "\n",
    "* the exact variable name (e.g. NO3), or its linguistic term (Nitrate) \n",
    "* methodology (model, satellite ...), instrument (CTD, seaflow), or disciplines (physics, biology ...) \n",
    "* the cruise official name (e.g. KOK1606), or unofficial cruise name (Falkor) \n",
    "* the name of data producer (e.g Penny Chisholm) or institution name (MIT) \n",
    "\n",
    "<br />If you searched for a variable with semantically-related-keywords and did not get the correct results, please let us know. We can update the keywords at any point.\n",
    "\n",
    "\n"
   ]
  },
  {
   "cell_type": "markdown",
   "metadata": {},
   "source": [
    "> **Parameters:** \n",
    ">> **keywords: string**\n",
    ">>  <br />Search keywords separated by a blank space. The search result is not sensitive to the order of keywords and is not case sensitive. \n",
    "\n",
    "\n",
    ">**Returns:** \n",
    ">>  Pandas dataframe."
   ]
  },
  {
   "cell_type": "markdown",
   "metadata": {},
   "source": [
    "### Example 1\n",
    "List of all measurements by University of Hawaii hosted by Simons CMAP."
   ]
  },
  {
   "cell_type": "code",
   "execution_count": null,
   "metadata": {},
   "outputs": [],
   "source": [
    "#!pip install pycmap -q     #uncomment to install pycmap, if necessary\n",
    "\n",
    "import pycmap\n",
    "\n",
    "api = pycmap.API(token='<YOUR_API_KEY>')\n",
    "api.search_catalog('University of Hawaii')"
   ]
  },
  {
   "cell_type": "markdown",
   "metadata": {},
   "source": [
    "### Example 2\n",
    "Returns a list of Nitrite measurements during the Falkor cruise, if exists."
   ]
  },
  {
   "cell_type": "code",
   "execution_count": null,
   "metadata": {},
   "outputs": [],
   "source": [
    "#!pip install pycmap -q     #uncomment to install pycmap, if necessary\n",
    "\n",
    "import pycmap\n",
    "\n",
    "api = pycmap.API(token='<YOUR_API_KEY>')\n",
    "api.search_catalog('nitrite falkor')"
   ]
  },
  {
   "cell_type": "markdown",
   "metadata": {},
   "source": [
    "### Example 3\n",
    "Returns a list of optical measurements during the Gradients 1 cruise (KOK1606), if exists."
   ]
  },
  {
   "cell_type": "code",
   "execution_count": null,
   "metadata": {},
   "outputs": [],
   "source": [
    "#!pip install pycmap -q     #uncomment to install pycmap, if necessary\n",
    "\n",
    "import pycmap\n",
    "\n",
    "api = pycmap.API(token='<YOUR_API_KEY>')\n",
    "api.search_catalog('optics KOK1606')"
   ]
  },
  {
   "cell_type": "markdown",
   "metadata": {},
   "source": [
    "<img src=\"figures/sql.png\" alt=\"SQL\" align=\"left\" width=\"40\"/> \n",
    "<br/>\n",
    "### SQL Statement\n",
    "Here is how to achieve the same results using a direct SQL statement. Please refere to [Query](Query.ipynb) for more information."
   ]
  },
  {
   "cell_type": "markdown",
   "metadata": {},
   "source": [
    "<code>EXEC uspSearchCatalog 'space-separated keywords'</code><br/><br/>\n",
    "**Example:**<br/> \n",
    "List of satellite Chlorophyll products:<br/><br/>\n",
    "<code>EXEC uspSearchCatalog 'chl satellite'</code><br/>"
   ]
  }
 ],
 "metadata": {
  "kernelspec": {
   "display_name": "Python 3",
   "language": "python",
   "name": "python3"
  },
  "language_info": {
   "codemirror_mode": {
    "name": "ipython",
    "version": 3
   },
   "file_extension": ".py",
   "mimetype": "text/x-python",
   "name": "python",
   "nbconvert_exporter": "python",
   "pygments_lexer": "ipython3",
   "version": "3.8.3"
  }
 },
 "nbformat": 4,
 "nbformat_minor": 4
}
