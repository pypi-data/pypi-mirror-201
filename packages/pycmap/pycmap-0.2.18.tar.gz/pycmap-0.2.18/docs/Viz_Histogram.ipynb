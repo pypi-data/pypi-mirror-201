{
 "cells": [
  {
   "cell_type": "markdown",
   "metadata": {},
   "source": [
    "<!--NAVIGATION-->\n",
    "< [Data Visualization](Viz.ipynb) | [Index](Index.ipynb) | [TimeSeries Plot](Viz_TimeSeries.ipynb)>\n",
    "\n",
    "<a href=\"https://colab.research.google.com/github/simonscmap/pycmap/blob/master/docs/Viz_Histogram.ipynb\"><img align=\"left\" src=\"https://colab.research.google.com/assets/colab-badge.svg\" alt=\"Open in Colab\" title=\"Open and Execute in Google Colaboratory\"></a>\n",
    "\n",
    "<a href=\"https://mybinder.org/v2/gh/simonscmap/pycmap/master?filepath=docs%2FViz_Histogram.ipynb\"><img align=\"right\" src=\"https://mybinder.org/badge_logo.svg\" alt=\"Open in Colab\" title=\"Open and Execute in Binder\"></a>"
   ]
  },
  {
   "cell_type": "markdown",
   "metadata": {},
   "source": [
    "## *plot_hist(tables, variables, dt1, dt2, lat1, lat2, lon1, lon2, depth1, depth2, exportDataFlag=False, show=True)*\n",
    "\n",
    "Creates a histogram graph for each variable according to the specified space-time constraints (dt1, dt2, lat1, lat2, lon1, lon2, depth1, depth2). Change the [API's **vizEngine**](API.ipynb) parameter if you wish to use a different visualization library.\n",
    "<br />Returns the generated graph objects in form of a python list. One may use the returned objects to modify the graph properties. \n",
    "\n",
    "<br />**Note:**\n",
    "<br />This method requires a valid [API key](API.ipynb). It is not necessary to set the API key every time because the API properties are stored locally after being called the first time."
   ]
  },
  {
   "cell_type": "markdown",
   "metadata": {},
   "source": [
    "> **Parameters:** \n",
    ">> **tables: list of string**\n",
    ">>  <br />Table names (each dataset is stored in a table). A full list of table names can be found in [catalog](Catalog.ipynb).\n",
    ">> <br />\n",
    ">> <br />**variable: list of string**\n",
    ">>  <br />Variable short name which directly corresponds to a field name in the table. A full list of variable short names can be found in [catalog](Catalog.ipynb).\n",
    ">> <br />\n",
    ">> <br />**dt1: string**\n",
    ">>  <br />Start date or datetime. This parameter sets the lower bound of the temporal cut. <br />Example values: '2016-05-25' or '2017-12-10 17:25:00'\n",
    ">> <br />\n",
    ">> <br />**dt2: string**\n",
    ">>  <br />End date or datetime. This parameter sets the upper bound of the temporal cut. \n",
    ">> <br />\n",
    ">> <br />**lat1: float**\n",
    ">>  <br />Start latitude [degree N]. This parameter sets the lower bound of the meridional cut. Note latitude ranges from -90&deg; to 90&deg;.\n",
    ">> <br />\n",
    ">> <br />**lat2: float**\n",
    ">>  <br />End latitude [degree N]. This parameter sets the upper bound of the meridional cut. Note latitude ranges from -90&deg; to 90&deg;.\n",
    ">> <br />\n",
    ">> <br />**lon1: float**\n",
    ">>  <br />Start longitude [degree E]. This parameter sets the lower bound of the zonal cut. Note latitude ranges from -180&deg; to 180&deg;.\n",
    ">> <br />\n",
    ">> <br />**lon2: float**\n",
    ">>  <br />End longitude [degree E]. This parameter sets the upper bound of the zonal cut. Note latitude ranges from -180&deg; to 180&deg;.\n",
    ">> <br />\n",
    ">> <br />**depth1: float**\n",
    ">>  <br />Start depth [m]. This parameter sets the lower bound of the vertical cut. Note depth is a positive number (it is 0 at surface and grows towards ocean floor).\n",
    ">> <br />\n",
    ">> <br />**depth2: float**\n",
    ">>  <br />End depth [m]. This parameter sets the upper bound of the vertical cut. Note depth is a positive number (it is 0 at surface and grows towards ocean floor).\n",
    ">> <br />\n",
    ">> <br />**exportDataFlag: boolean, default: False**\n",
    ">>  <br />If True, the graph data points are stored on the local machine. The export path and file format are set by the [API's parameters](API.ipynb). \n",
    ">> <br />\n",
    ">> <br />**show: boolean, default: True**\n",
    ">>  <br />If True, the graph object is returned and is displayed. The graph file is saved on the local machine at the [**figureDir**](API.ipynb) directory. \n",
    "<br />If False, the graph object is returned but not displayed. \n",
    "\n",
    "\n",
    ">**Returns: list of graph objects** \n",
    ">>  A list of graph objects. Below are the graph's properties and methods.\n",
    ">>> **Properties:**\n",
    ">>>> **data: dataframe**\n",
    ">>>>  <br />Graph data points to be visualized. \n",
    ">>>> <br />\n",
    ">>>> <br />**bins: int, default: 50**\n",
    ">>>>  <br />Number of histogram bins.\n",
    ">>>> <br />\n",
    ">>>> <br />**pdf: boolean, default: False**\n",
    ">>>>  <br />If True the histogram shows a probability density function, otherwise absolute counts are displayed.\n",
    ">>>> <br />\n",
    ">>>> <br />**height: int**\n",
    ">>>>  <br />Graph's height in pixels.\n",
    ">>>> <br />\n",
    ">>>> <br />**width: int**\n",
    ">>>>  <br />Graph's width in pixels.\n",
    ">>>> <br />\n",
    ">>>> <br />**xlabel: str**\n",
    ">>>>  <br />The graphs's x-axis label.\n",
    ">>>> <br />\n",
    ">>>> <br />**ylabel: str**\n",
    ">>>>  <br />The graphs's y-axis label.\n",
    ">>>> <br />\n",
    ">>>> <br />**title: str**\n",
    ">>>>  <br />The graphs's title.\n",
    "\n",
    ">>> **Methods:**\n",
    ">>>> **render()**\n",
    ">>>>  <br />Displayes the plot according to the set properties. "
   ]
  },
  {
   "cell_type": "markdown",
   "metadata": {},
   "source": [
    "### Example 1\n",
    "\n",
    "This example creates three histogram graphs comparing dissolved oxygen measured during the Falkor_2018 cruise, estimated by [Darwin climatology model](https://cmap.readthedocs.io/en/latest/catalog/datasets/Darwin_clim.html#darwin-clim), and [World Ocean Atlas](https://cmap.readthedocs.io/en/latest/catalog/datasets/WOA_climatology.html#woa-clim). \n",
    "<br />The graphs are made using the default visualization library (plotly) which may be changed by:\n",
    "`pycmap.API(vizEngine='bokeh')`"
   ]
  },
  {
   "cell_type": "code",
   "execution_count": null,
   "metadata": {},
   "outputs": [],
   "source": [
    "#!pip install pycmap -q     #uncomment to install pycmap, if necessary\n",
    "# uncomment the lines below if the API key has not been registered on your machine, previously.\n",
    "# import pycmap\n",
    "# pycmap.API(token='<YOUR_API_KEY>')     \n",
    "\n",
    "\n",
    "from pycmap.viz import plot_hist\n",
    "\n",
    "go = plot_hist(\n",
    "              tables=['tblFalkor_2018', 'tblDarwin_Nutrient_Climatology', 'tblWOA_Climatology'], \n",
    "              variables=['CTD_Oxygen', 'O2_darwin_clim', 'oxygen_WOA_clim'], \n",
    "              dt1='2018-03-01', \n",
    "              dt2='2018-04-30', \n",
    "              lat1=21, \n",
    "              lat2=25, \n",
    "              lon1=-161, \n",
    "              lon2=155, \n",
    "              depth1=0, \n",
    "              depth2=100, \n",
    "              exportDataFlag=False,\n",
    "              show=True  \n",
    "              )"
   ]
  },
  {
   "cell_type": "code",
   "execution_count": null,
   "metadata": {},
   "outputs": [],
   "source": [
    "# here is how to modify a graph:\n",
    "\n",
    "go[0].pdf = False\n",
    "go[0].bins = 20\n",
    "go[0].xlabel = \"new xlable\"\n",
    "go[0].title= \"graph's title\"\n",
    "go[0].width = 600\n",
    "go[0].height = 600\n",
    "go[0].render()"
   ]
  }
 ],
 "metadata": {
  "kernelspec": {
   "display_name": "Python 3",
   "language": "python",
   "name": "python3"
  },
  "language_info": {
   "codemirror_mode": {
    "name": "ipython",
    "version": 3
   },
   "file_extension": ".py",
   "mimetype": "text/x-python",
   "name": "python",
   "nbconvert_exporter": "python",
   "pygments_lexer": "ipython3",
   "version": "3.7.4"
  }
 },
 "nbformat": 4,
 "nbformat_minor": 4
}
