{
 "cells": [
  {
   "cell_type": "markdown",
   "metadata": {},
   "source": [
    "<!--NAVIGATION-->\n",
    "< [Cruise Trajectory](CruiseTrajectory.ipynb) | [Index](Index.ipynb) | [Retrieve Dataset](RetrieveDataset.ipynb) >\n",
    "\n",
    "<a href=\"https://colab.research.google.com/github/simonscmap/pycmap/blob/master/docs/CruiseVariables.ipynb\"><img align=\"left\" src=\"https://colab.research.google.com/assets/colab-badge.svg\" alt=\"Open in Colab\" title=\"Open and Execute in Google Colaboratory\"></a>\n",
    "\n",
    "<a href=\"https://mybinder.org/v2/gh/simonscmap/pycmap/master?filepath=docs%2FCruiseVariables.ipynb\"><img align=\"right\" src=\"https://mybinder.org/badge_logo.svg\" alt=\"Open in Colab\" title=\"Open and Execute in Binder\"></a>"
   ]
  },
  {
   "cell_type": "markdown",
   "metadata": {},
   "source": [
    "## *cruise_variables(cruiseName)*\n",
    "\n",
    "Returns a dataframe containing all registered variables (at Simons CMAP) during the specified cruise."
   ]
  },
  {
   "cell_type": "markdown",
   "metadata": {},
   "source": [
    "> **Parameters:** \n",
    ">> **cruiseName: string**\n",
    ">>  <br />The official cruise name. If applicable, you may also use cruise \"nickname\" ('Diel', 'Gradients_1' ...). <br />A full list of cruise names can be retrieved using [cruise](Cruises.ipynb) method.\n",
    "\n",
    "\n",
    ">**Returns:** \n",
    ">>  Pandas dataframe."
   ]
  },
  {
   "cell_type": "markdown",
   "metadata": {},
   "source": [
    "### Example"
   ]
  },
  {
   "cell_type": "code",
   "execution_count": null,
   "metadata": {},
   "outputs": [],
   "source": [
    "#!pip install pycmap -q     #uncomment to install pycmap, if necessary\n",
    "\n",
    "import pycmap\n",
    "\n",
    "api = pycmap.API(token='<YOUR_API_KEY>')\n",
    "api.cruise_variables('SCOPE_Falkor1')   "
   ]
  },
  {
   "cell_type": "markdown",
   "metadata": {},
   "source": [
    "<img src=\"figures/sql.png\" alt=\"SQL\" align=\"left\" width=\"40\"/> \n",
    "<br/>\n",
    "### SQL Statement\n",
    "Here is how to achieve the same results using a direct SQL statement. Please refere to [Query](Query.ipynb) for more information."
   ]
  },
  {
   "cell_type": "markdown",
   "metadata": {},
   "source": [
    "<code>EXEC uspCruiseVariablesByName 'Cruise Official Name'</code>\n",
    "\n",
    "\n",
    "**Example:**<br/>\n",
    "<code>EXEC uspCruiseVariablesByName 'FK180310-1'</code>"
   ]
  }
 ],
 "metadata": {
  "kernelspec": {
   "display_name": "Python 3",
   "language": "python",
   "name": "python3"
  },
  "language_info": {
   "codemirror_mode": {
    "name": "ipython",
    "version": 3
   },
   "file_extension": ".py",
   "mimetype": "text/x-python",
   "name": "python",
   "nbconvert_exporter": "python",
   "pygments_lexer": "ipython3",
   "version": "3.7.1"
  }
 },
 "nbformat": 4,
 "nbformat_minor": 2
}
