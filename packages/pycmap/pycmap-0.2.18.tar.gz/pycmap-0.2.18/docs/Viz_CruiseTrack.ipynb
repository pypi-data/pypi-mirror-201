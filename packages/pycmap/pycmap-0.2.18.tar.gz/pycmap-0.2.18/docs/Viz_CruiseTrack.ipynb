{
 "cells": [
  {
   "cell_type": "markdown",
   "metadata": {},
   "source": [
    "<!--NAVIGATION-->\n",
    "< [Depth Profile](Viz_DepthProfile.ipynb) | [Index](Index.ipynb) | [Correlation Matrix](Viz_CorrelationMatrix.ipynb)>\n",
    "\n",
    "<a href=\"https://colab.research.google.com/github/simonscmap/pycmap/blob/master/docs/Viz_CruiseTrack\"><img align=\"left\" src=\"https://colab.research.google.com/assets/colab-badge.svg\" alt=\"Open in Colab\" title=\"Open and Execute in Google Colaboratory\"></a>\n",
    "\n",
    "<a href=\"https://mybinder.org/v2/gh/simonscmap/pycmap/master?filepath=docs%2FViz_CruiseTrack.ipynb\"><img align=\"right\" src=\"https://mybinder.org/badge_logo.svg\" alt=\"Open in Colab\" title=\"Open and Execute in Binder\"></a>"
   ]
  },
  {
   "cell_type": "markdown",
   "metadata": {},
   "source": [
    "## *plot_cruise_track(cruise))*\n",
    "\n",
    "Plots cruise trajectory on a geosplatial map.\n",
    "\n",
    "<br />**Note:**\n",
    "<br />This method requires a valid [API key](API.ipynb). It is not necessary to set the API key every time because the API properties are stored locally after being called the first time."
   ]
  },
  {
   "cell_type": "markdown",
   "metadata": {},
   "source": [
    "> **Parameters:** \n",
    ">> **cruise: list of string**\n",
    ">>  <br />A list of cruise official names. If applicable, you may also use cruise \"nickname\" ('Diel', 'Gradients_1' ...). <br />A full list of cruise names can be retrieved using [cruise](Cruises.ipynb) method.\n",
    "\n",
    "\n",
    "\n",
    ">**Returns: void** \n",
    ">>  This method has no retuns.\n"
   ]
  },
  {
   "cell_type": "markdown",
   "metadata": {},
   "source": [
    "### Example"
   ]
  },
  {
   "cell_type": "code",
   "execution_count": null,
   "metadata": {},
   "outputs": [],
   "source": [
    "#!pip install pycmap -q     #uncomment to install pycmap, if necessary\n",
    "# uncomment the lines below if the API key has not been registered on your machine, previously.\n",
    "# import pycmap\n",
    "# pycmap.API(token='<YOUR_API_KEY>')    \n",
    "\n",
    "\n",
    "from pycmap.viz import plot_cruise_track\n",
    "plot_cruise_track(['KM1712', 'gradients_1'])"
   ]
  }
 ],
 "metadata": {
  "kernelspec": {
   "display_name": "Python 3",
   "language": "python",
   "name": "python3"
  },
  "language_info": {
   "codemirror_mode": {
    "name": "ipython",
    "version": 3
   },
   "file_extension": ".py",
   "mimetype": "text/x-python",
   "name": "python",
   "nbconvert_exporter": "python",
   "pygments_lexer": "ipython3",
   "version": "3.7.1"
  }
 },
 "nbformat": 4,
 "nbformat_minor": 2
}
