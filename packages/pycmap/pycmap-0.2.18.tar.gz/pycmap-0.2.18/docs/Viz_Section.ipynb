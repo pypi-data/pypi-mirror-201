{
 "cells": [
  {
   "cell_type": "markdown",
   "metadata": {},
   "source": [
    "<!--NAVIGATION-->\n",
    "< [Regional Map, Contour Plot, 3D Surface Plot](Viz_RegionalMap.ipynb) | [Index](Index.ipynb) | [Depth Profile](Viz_DepthProfile.ipynb)>\n",
    "\n",
    "<a href=\"https://colab.research.google.com/github/simonscmap/pycmap/blob/master/docs/Viz_Section.ipynb\"><img align=\"left\" src=\"https://colab.research.google.com/assets/colab-badge.svg\" alt=\"Open in Colab\" title=\"Open and Execute in Google Colaboratory\"></a>\n",
    "\n",
    "<a href=\"https://mybinder.org/v2/gh/simonscmap/pycmap/master?filepath=docs%2FViz_Section.ipynb\"><img align=\"right\" src=\"https://mybinder.org/badge_logo.svg\" alt=\"Open in Colab\" title=\"Open and Execute in Binder\"></a>"
   ]
  },
  {
   "cell_type": "markdown",
   "metadata": {},
   "source": [
    "## *plot_section(tables, variables, dt1, dt2, lat1, lat2, lon1, lon2, depth1, depth2, exportDataFlag=False, show=True, levels=0)*\n",
    "\n",
    "Creates section maps for each variable according to the specified space-time constraints (dt1, dt2, lat1, lat2, lon1, lon2, depth1, depth2). If the specified space-time domain involves multiple dates, individual maps are made per date. \n",
    "Prior to creating the section graph, the retrieved data is averaged along the meridional direction if longitude range is larger than latitude range ( (lon2-lon1) > (lat2-lat1) ); otherwise data is averaged along the zonal axis. To create contour plots, set the contour **levels** parameter to a positive integer number. Note that contour plot is only supported by plotly visualization library. Also, `plot_section()` function only applies to gridded datasets with depth component (e.g. model outputs) and does not apply to sparse datasets.\n",
    "\n",
    "<br />Change the [API's **vizEngine**](API.ipynb) parameter if you wish to use a different visualization library.\n",
    "<br />Returns the generated graph objects in form of a python list. One may use the returned objects to modify the graph properties. \n",
    "\n",
    "<br />**Note:**\n",
    "<br />This method requires a valid [API key](API.ipynb). It is not necessary to set the API key every time because the API properties are stored locally after being called the first time."
   ]
  },
  {
   "cell_type": "markdown",
   "metadata": {},
   "source": [
    "> **Parameters:** \n",
    ">> **tables: list of string**\n",
    ">>  <br />Table names (each dataset is stored in a table). A full list of table names can be found in [catalog](Catalog.ipynb).\n",
    ">> <br />\n",
    ">> <br />**variable: list of string**\n",
    ">>  <br />Variable short name which directly corresponds to a field name in the table. A full list of variable short names can be found in [catalog](Catalog.ipynb).\n",
    ">> <br />\n",
    ">> <br />**dt1: string**\n",
    ">>  <br />Start date or datetime. This parameter sets the lower bound of the temporal cut. <br />Example values: '2016-05-25' or '2017-12-10 17:25:00'\n",
    ">> <br />\n",
    ">> <br />**dt2: string**\n",
    ">>  <br />End date or datetime. This parameter sets the upper bound of the temporal cut. \n",
    ">> <br />\n",
    ">> <br />**lat1: float**\n",
    ">>  <br />Start latitude [degree N]. This parameter sets the lower bound of the meridional cut. Note latitude ranges from -90&deg; to 90&deg;.\n",
    ">> <br />\n",
    ">> <br />**lat2: float**\n",
    ">>  <br />End latitude [degree N]. This parameter sets the upper bound of the meridional cut. Note latitude ranges from -90&deg; to 90&deg;.\n",
    ">> <br />\n",
    ">> <br />**lon1: float**\n",
    ">>  <br />Start longitude [degree E]. This parameter sets the lower bound of the zonal cut. Note latitude ranges from -180&deg; to 180&deg;.\n",
    ">> <br />\n",
    ">> <br />**lon2: float**\n",
    ">>  <br />End longitude [degree E]. This parameter sets the upper bound of the zonal cut. Note latitude ranges from -180&deg; to 180&deg;.\n",
    ">> <br />\n",
    ">> <br />**depth1: float**\n",
    ">>  <br />Start depth [m]. This parameter sets the lower bound of the vertical cut. Note depth is a positive number (it is 0 at surface and grows towards ocean floor).\n",
    ">> <br />\n",
    ">> <br />**depth2: float**\n",
    ">>  <br />End depth [m]. This parameter sets the upper bound of the vertical cut. Note depth is a positive number (it is 0 at surface and grows towards ocean floor).\n",
    ">> <br />\n",
    ">> <br />**exportDataFlag: boolean, default: False**\n",
    ">>  <br />If True, the graph data points are stored on the local machine. The export path and file format are set by the [API's parameters](API.ipynb). \n",
    ">> <br />\n",
    ">> <br />**show: boolean, default: True**\n",
    ">>  <br />If True, the graph object is returned and is displayed. The graph file is saved on the local machine at the [**figureDir**](API.ipynb) directory. \n",
    "<br />If False, the graph object is returned but not displayed. \n",
    ">> <br />\n",
    ">> <br />**levels: int, default: 0**\n",
    ">>  <br />Number of contour levels. If 0, regional maps are generated (no contour lines). Currently, contour plots are only supported by plotly visualization library.\n",
    "\n",
    "\n",
    ">**Returns: list of graph objects** \n",
    ">>  A list of graph objects. Below are the graph's properties and methods.\n",
    ">>> **Properties:**\n",
    ">>>> **data: dataframe**\n",
    ">>>>  <br />Graph data points to be visualized. \n",
    ">>>> <br />\n",
    ">>>> <br />**level: int, default: 0**\n",
    ">>>>  <br />Number of contour levels. Only applicable to plotly.\n",
    ">>>> <br />\n",
    ">>>> <br />**cmap: str or cmocean colormap**\n",
    ">>>>  <br />Colormap name. Any matplotlib (e.g. 'viridis', ..) or cmocean (e.g. cmocean.cm.thermal, ..) colormaps can be passed to this property. A full list of matplotlib and cmocean color palettes can be found at the following links:\n",
    ">>>>  <br />https://matplotlib.org/3.1.0/tutorials/colors/colormaps.html\n",
    ">>>>  <br />https://matplotlib.org/cmocean/\n",
    ">>>> <br />\n",
    ">>>> <br />**vmin: float**\n",
    ">>>>  <br />This parameter defines the lower bound of the colorbar.\n",
    ">>>> <br />\n",
    ">>>> <br />**vmax: float**\n",
    ">>>>  <br />This parameter defines the upper bound of the colorbar.\n",
    ">>>> <br />\n",
    ">>>> <br />**height: int**\n",
    ">>>>  <br />Graph's height in pixels.\n",
    ">>>> <br />\n",
    ">>>> <br />**width: int**\n",
    ">>>>  <br />Graph's width in pixels.\n",
    ">>>> <br />\n",
    ">>>> <br />**xlabel: str**\n",
    ">>>>  <br />The graphs's x-axis label.\n",
    ">>>> <br />\n",
    ">>>> <br />**ylabel: str**\n",
    ">>>>  <br />The graphs's y-axis label.\n",
    ">>>> <br />\n",
    ">>>> <br />**title: str**\n",
    ">>>>  <br />The graphs's title.\n",
    "\n",
    ">>> **Methods:**\n",
    ">>>> **render()**\n",
    ">>>>  <br />Displayes the plot according to the set properties. "
   ]
  },
  {
   "cell_type": "markdown",
   "metadata": {},
   "source": [
    "### Example 1: Section Map\n",
    "\n",
    "This example makes a meridional section map showing the [dissolved nitrate](https://cmap.readthedocs.io/en/latest/catalog/datasets/Pisces.html#pisces). The retrieved data is averaged along the zonal direction because the selected region is elongated along the meridional direction: (lat2-lat1) > (lon2-lon1). \n",
    "<br />The graphs are made using the default visualization library (plotly) which may be changed by:\n",
    "`pycmap.API(vizEngine='bokeh')`"
   ]
  },
  {
   "cell_type": "code",
   "execution_count": null,
   "metadata": {
    "scrolled": false
   },
   "outputs": [],
   "source": [
    "#!pip install pycmap -q     #uncomment to install pycmap, if necessary\n",
    "# uncomment the lines below if the API key has not been registered on your machine, previously.\n",
    "# import pycmap\n",
    "# pycmap.API(token='<YOUR_API_KEY>')     \n",
    "\n",
    "from pycmap.viz import plot_section\n",
    "\n",
    "go = plot_section(\n",
    "                 tables=['tblPisces_NRT'], \n",
    "                 variables=['NO3'], \n",
    "                 dt1='2016-04-30', \n",
    "                 dt2='2016-04-30', \n",
    "                 lat1=10, \n",
    "                 lat2=60, \n",
    "                 lon1=-160, \n",
    "                 lon2=-158, \n",
    "                 depth1=0, \n",
    "                 depth2=5000, \n",
    "                 exportDataFlag=False, \n",
    "                 show=True\n",
    "                 )"
   ]
  },
  {
   "cell_type": "code",
   "execution_count": null,
   "metadata": {},
   "outputs": [],
   "source": [
    "# here is how to modify a graph:\n",
    "\n",
    "import cmocean\n",
    "\n",
    "go[0].cmap = cmocean.cm.balance\n",
    "go[0].vmin = 0\n",
    "go[0].vmax = 60\n",
    "go[0].width = 700\n",
    "go[0].height = 800\n",
    "go[0].render()"
   ]
  },
  {
   "cell_type": "markdown",
   "metadata": {},
   "source": [
    "### Example 2: Section Contour\n",
    "\n",
    "This example makes a cross-basins section map showing estimates of [SIO2 concentration](https://cmap.readthedocs.io/en/latest/catalog/datasets/Darwin_3day.html#darwin-3day) calculated by Darwin model."
   ]
  },
  {
   "cell_type": "code",
   "execution_count": null,
   "metadata": {},
   "outputs": [],
   "source": [
    "#!pip install pycmap -q     #uncomment to install pycmap, if necessary\n",
    "# uncomment the lines below if the API key has not been registered on your machine, previously.\n",
    "# import pycmap\n",
    "# pycmap.API(token='<YOUR_API_KEY>')     \n",
    "\n",
    "from pycmap.viz import plot_section\n",
    "\n",
    "plot_section(\n",
    "            tables=['tblDarwin_Nutrient'], \n",
    "            variables=['SIO2'], \n",
    "            dt1='2008-01-05', \n",
    "            dt2='2008-01-05', \n",
    "            lat1=-50, \n",
    "            lat2=-46, \n",
    "            lon1=-180, \n",
    "            lon2=180, \n",
    "            depth1=0, \n",
    "            depth2=2000, \n",
    "            exportDataFlag=False,\n",
    "            show=True,\n",
    "            levels=10\n",
    "            )"
   ]
  }
 ],
 "metadata": {
  "kernelspec": {
   "display_name": "Python 3",
   "language": "python",
   "name": "python3"
  },
  "language_info": {
   "codemirror_mode": {
    "name": "ipython",
    "version": 3
   },
   "file_extension": ".py",
   "mimetype": "text/x-python",
   "name": "python",
   "nbconvert_exporter": "python",
   "pygments_lexer": "ipython3",
   "version": "3.7.1"
  }
 },
 "nbformat": 4,
 "nbformat_minor": 2
}
