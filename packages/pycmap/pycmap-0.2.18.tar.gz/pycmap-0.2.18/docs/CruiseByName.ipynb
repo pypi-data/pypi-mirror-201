{
 "cells": [
  {
   "cell_type": "markdown",
   "metadata": {},
   "source": [
    "<!--NAVIGATION-->\n",
    "< [List of Cruises](Cruises.ipynb) | [Index](Index.ipynb) | [Cruise Spatio-Temporal Bounds](CruiseBounds.ipynb) >\n",
    "\n",
    "<a href=\"https://colab.research.google.com/github/simonscmap/pycmap/blob/master/docs/CruiseByName.ipynb\"><img align=\"left\" src=\"https://colab.research.google.com/assets/colab-badge.svg\" alt=\"Open in Colab\" title=\"Open and Execute in Google Colaboratory\"></a>\n",
    "\n",
    "<a href=\"https://mybinder.org/v2/gh/simonscmap/pycmap/master?filepath=docs%2FCruiseByName.ipynb\"><img align=\"right\" src=\"https://mybinder.org/badge_logo.svg\" alt=\"Open in Colab\" title=\"Open and Execute in Binder\"></a>"
   ]
  },
  {
   "cell_type": "markdown",
   "metadata": {},
   "source": [
    "## *cruise_by_name(cruiseName)*\n",
    "\n",
    "Returns a dataframe containing some details about the specified cruise. \n",
    "<br />The details include cruise official name, nickname, ship name, start/end time/location, etc ..."
   ]
  },
  {
   "cell_type": "markdown",
   "metadata": {},
   "source": [
    "> **Parameters:** \n",
    ">> **cruiseName: string**\n",
    ">>  <br />The official cruise name. If applicable, you may also use cruise \"nickname\" ('Diel', 'Gradients_1' ...). <br />A full list of cruise names can be retrieved using [cruise](Cruises.ipynb) method.\n",
    "\n",
    "\n",
    ">**Returns:** \n",
    ">>  Pandas dataframe."
   ]
  },
  {
   "cell_type": "markdown",
   "metadata": {},
   "source": [
    "### Example"
   ]
  },
  {
   "cell_type": "code",
   "execution_count": 6,
   "metadata": {},
   "outputs": [],
   "source": [
    "#!pip install pycmap -q     #uncomment to install pycmap, if necessary\n",
    "\n",
    "import pycmap\n",
    "\n",
    "api = pycmap.API(token='<YOUR_API_KEY>')\n",
    "api.cruise_by_name('KOK1606')\n",
    "\n",
    "# alternatively, you may pass cruise nickname, if exists.\n",
    "# below, \"meso_scope\" is a nickname, the official name is \"KM1709\"\n",
    "# api.cruise_by_name('meso_scope')      "
   ]
  },
  {
   "cell_type": "markdown",
   "metadata": {},
   "source": [
    "<img src=\"figures/sql.png\" alt=\"SQL\" align=\"left\" width=\"40\"/> \n",
    "<br/>\n",
    "### SQL Statement\n",
    "Here is how to achieve the same results using a direct SQL statement. Please refere to [Query](Query.ipynb) for more information."
   ]
  },
  {
   "cell_type": "markdown",
   "metadata": {},
   "source": [
    "<code>EXEC uspCruiseByName 'KOK1606'<code/>"
   ]
  }
 ],
 "metadata": {
  "kernelspec": {
   "display_name": "Python 3",
   "language": "python",
   "name": "python3"
  },
  "language_info": {
   "codemirror_mode": {
    "name": "ipython",
    "version": 3
   },
   "file_extension": ".py",
   "mimetype": "text/x-python",
   "name": "python",
   "nbconvert_exporter": "python",
   "pygments_lexer": "ipython3",
   "version": "3.7.1"
  }
 },
 "nbformat": 4,
 "nbformat_minor": 2
}
