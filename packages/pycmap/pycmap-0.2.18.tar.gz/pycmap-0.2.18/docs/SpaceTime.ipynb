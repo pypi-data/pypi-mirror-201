{
 "cells": [
  {
   "cell_type": "markdown",
   "metadata": {},
   "source": [
    "<!--NAVIGATION-->\n",
    "< [Retrieve Dataset](RetrieveDataset.ipynb) | [Index](Index.ipynb) | [Data Subset: TimeSeries](TimeSeries.ipynb)>\n",
    "\n",
    "<a href=\"https://colab.research.google.com/github/simonscmap/pycmap/blob/master/docs/SpaceTime.ipynb\"><img align=\"left\" src=\"https://colab.research.google.com/assets/colab-badge.svg\" alt=\"Open in Colab\" title=\"Open and Execute in Google Colaboratory\"></a>\n",
    "\n",
    "<a href=\"https://mybinder.org/v2/gh/simonscmap/pycmap/master?filepath=docs%2FSpaceTime.ipynb\"><img align=\"right\" src=\"https://mybinder.org/badge_logo.svg\" alt=\"Open in Colab\" title=\"Open and Execute in Binder\"></a>"
   ]
  },
  {
   "cell_type": "markdown",
   "metadata": {},
   "source": [
    "## *space_time(table, variable, dt1, dt2, lat1, lat2, lon1, lon2, depth1, depth2)*\n",
    "\n",
    "Returns a subset of data according to the specified space-time constraints (dt1, dt2, lat1, lat2, lon1, lon2, depth1, depth2).\n",
    "<br />The results are ordered by time, lat, lon, and depth (if exists), respectively."
   ]
  },
  {
   "cell_type": "markdown",
   "metadata": {},
   "source": [
    "> **Parameters:** \n",
    ">> **table: string**\n",
    ">>  <br />Table name (each dataset is stored in a table). A full list of table names can be found in [catalog](Catalog.ipynb).\n",
    ">> <br />\n",
    ">> <br />**variable: string**\n",
    ">>  <br />Variable short name which directly corresponds to a field name in the table. A subset of this variable is returned by this method according to the spatio-temporal cut parameters (below). Pass **'\\*'** wild card to retrieve all fields in a table. A full list of variable short names can be found in [catalog](Catalog.ipynb).\n",
    ">> <br />\n",
    ">> <br />**dt1: string**\n",
    ">>  <br />Start date or datetime. This parameter sets the lower bound of the temporal cut. <br />Example values: '2016-05-25' or '2017-12-10 17:25:00'\n",
    ">> <br />\n",
    ">> <br />**dt2: string**\n",
    ">>  <br />End date or datetime. This parameter sets the upper bound of the temporal cut. \n",
    ">> <br />\n",
    ">> <br />**lat1: float**\n",
    ">>  <br />Start latitude [degree N]. This parameter sets the lower bound of the meridional cut. Note latitude ranges from -90&deg; to 90&deg;.\n",
    ">> <br />\n",
    ">> <br />**lat2: float**\n",
    ">>  <br />End latitude [degree N]. This parameter sets the upper bound of the meridional cut. Note latitude ranges from -90&deg; to 90&deg;.\n",
    ">> <br />\n",
    ">> <br />**lon1: float**\n",
    ">>  <br />Start longitude [degree E]. This parameter sets the lower bound of the zonal cut. Note longitue ranges from -180&deg; to 180&deg;.\n",
    ">> <br />\n",
    ">> <br />**lon2: float**\n",
    ">>  <br />End longitude [degree E]. This parameter sets the upper bound of the zonal cut. Note longitue ranges from -180&deg; to 180&deg;.\n",
    ">> <br />\n",
    ">> <br />**depth1: float**\n",
    ">>  <br />Start depth [m]. This parameter sets the lower bound of the vertical cut. Note depth is a positive number (it is 0 at surface and grows towards ocean floor).\n",
    ">> <br />\n",
    ">> <br />**depth2: float**\n",
    ">>  <br />End depth [m]. This parameter sets the upper bound of the vertical cut. Note depth is a positive number (it is 0 at surface and grows towards ocean floor).\n",
    "\n",
    "\n",
    ">**Returns:** \n",
    ">>  Pandas dataframe.\n"
   ]
  },
  {
   "cell_type": "markdown",
   "metadata": {},
   "source": [
    "### Example 1\n",
    "\n",
    "This example retrieves a subset of in-situ salinity measurements by [Argo floats](https://cmap.readthedocs.io/en/latest/catalog/datasets/Argo.html#argo)."
   ]
  },
  {
   "cell_type": "code",
   "execution_count": null,
   "metadata": {},
   "outputs": [],
   "source": [
    "#!pip install pycmap -q     #uncomment to install pycmap, if necessary\n",
    "\n",
    "import pycmap\n",
    "\n",
    "api = pycmap.API(token='<YOUR_API_KEY>')\n",
    "api.space_time(\n",
    "              table='tblArgoMerge_REP', \n",
    "              variable='argo_merge_salinity_adj', \n",
    "              dt1='2015-05-01', \n",
    "              dt2='2015-05-30', \n",
    "              lat1=28, \n",
    "              lat2=38, \n",
    "              lon1=-71, \n",
    "              lon2=-50, \n",
    "              depth1=0, \n",
    "              depth2=100\n",
    "              ) \n"
   ]
  },
  {
   "cell_type": "markdown",
   "metadata": {},
   "source": [
    "### Example 2\n",
    "\n",
    "Query all variables within the global Mesoscale Eddy dataset (see the wild card at line 10).\n",
    "<br />The last few lines of code (lines 21-27) makes a couple of simple visualizations showing the eddy radius distribution."
   ]
  },
  {
   "cell_type": "code",
   "execution_count": null,
   "metadata": {},
   "outputs": [],
   "source": [
    "#!pip install pycmap -q     #uncomment to install pycmap, if necessary\n",
    "\n",
    "%matplotlib inline\n",
    "import matplotlib.pyplot as plt\n",
    "import pycmap\n",
    "\n",
    "api = pycmap.API(token='YOUR_API_KEY>')\n",
    "df = api.space_time(\n",
    "              table='tblMesoscale_Eddy', \n",
    "              variable='*', \n",
    "              dt1='2018-01-01', \n",
    "              dt2='2018-01-01', \n",
    "              lat1=-90, \n",
    "              lat2=90, \n",
    "              lon1=-180, \n",
    "              lon2=180,\n",
    "              depth1=0, \n",
    "              depth2=0\n",
    "              ) \n",
    "\n",
    "fig, axes = plt.subplots(nrows=1, ncols=2)\n",
    "ax1 = df['eddy_radius'].plot.hist(ax=axes[0], bins=50)\n",
    "_ = ax1.set_xlabel('Eddy Radius (km)')\n",
    "ax2 = df.plot(kind='scatter', x='lat', y='eddy_radius', ax=axes[1], alpha=0.3)\n",
    "ax2.yaxis.tick_right()\n",
    "ax2.yaxis.set_label_position('right')\n",
    "_ = ax2.set_ylabel('Eddy Radius (km)')"
   ]
  },
  {
   "cell_type": "markdown",
   "metadata": {},
   "source": [
    "### Example 3\n",
    "\n",
    "This example retrieves a subset of sea surface temperature measured by satellite. \n",
    "<br />Notice, depth1 and depth2 values are automatically ignored because this is a surface dataset. \n",
    "<br />A simple plot is made to visualize the retrieved data."
   ]
  },
  {
   "cell_type": "code",
   "execution_count": null,
   "metadata": {},
   "outputs": [],
   "source": [
    "#!pip install pycmap -q     #uncomment to install pycmap, if necessary\n",
    "\n",
    "%matplotlib inline\n",
    "import matplotlib.pyplot as plt\n",
    "import numpy as np\n",
    "import pycmap\n",
    "\n",
    "\n",
    "\n",
    "def plot(df):\n",
    "    lat = df.lat.unique()\n",
    "    lon = df.lon.unique()\n",
    "    shape = (len(lat), len(lon))\n",
    "    data = df.sst.values.reshape(shape)\n",
    "    plt.imshow(data, extent=[np.min(lon), np.max(lon), np.min(lat), np.max(lat)], cmap='coolwarm', origin='bottom', vmin=0, vmax=30)\n",
    "    plt.title('Sea Surface Temperature')\n",
    "    plt.colorbar()\n",
    "    plt.xlabel('Longitude')\n",
    "    plt.ylabel('Latitude')\n",
    "    plt.show()\n",
    "    \n",
    "\n",
    "api = pycmap.API(token='<YOUR_API_KEY>')\n",
    "df = api.space_time(\n",
    "                   table='tblsst_AVHRR_OI_NRT', \n",
    "                   variable='sst', \n",
    "                   dt1='2016-04-30', \n",
    "                   dt2='2016-04-30', \n",
    "                   lat1=10, \n",
    "                   lat2=70, \n",
    "                   lon1=-180, \n",
    "                   lon2=-80, \n",
    "                   depth1=0, \n",
    "                   depth2=0\n",
    "                   ) \n",
    "plot(df)"
   ]
  },
  {
   "cell_type": "markdown",
   "metadata": {},
   "source": [
    "<img src=\"figures/sql.png\" alt=\"SQL\" align=\"left\" width=\"40\"/> \n",
    "<br/>\n",
    "### SQL Statement\n",
    "Here is how to achieve the same results using a direct SQL statement. Please refere to [Query](Query.ipynb) for more information."
   ]
  },
  {
   "cell_type": "markdown",
   "metadata": {},
   "source": [
    "<code>EXEC uspSpaceTime 'tableName', 'variable', 'dt1', 'dt2', 'lat1', 'lat2', 'lon1', 'lon2', 'depth1', 'depth2'</code>\n",
    "\n",
    "\n",
    "**Example:**<br/>\n",
    "<code>EXEC uspSpaceTime 'tblsst_AVHRR_OI_NRT', 'sst', '2016-04-30', '2016-04-30', '10', '70', '-180', '80', '0', '0'</code>"
   ]
  }
 ],
 "metadata": {
  "kernelspec": {
   "display_name": "Python 3",
   "language": "python",
   "name": "python3"
  },
  "language_info": {
   "codemirror_mode": {
    "name": "ipython",
    "version": 3
   },
   "file_extension": ".py",
   "mimetype": "text/x-python",
   "name": "python",
   "nbconvert_exporter": "python",
   "pygments_lexer": "ipython3",
   "version": "3.8.3"
  }
 },
 "nbformat": 4,
 "nbformat_minor": 4
}
