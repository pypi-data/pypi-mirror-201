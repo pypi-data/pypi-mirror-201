{
 "cells": [
  {
   "cell_type": "markdown",
   "metadata": {},
   "source": [
    "<!--NAVIGATION-->\n",
    "< [API: Data Retrieval (API)](API.ipynb) | [Index](Index.ipynb) | [Catalog](Catalog.ipynb) >\n",
    "\n",
    "<a href=\"https://colab.research.google.com/github/mdashkezari/pycmapDoc/blob/master/notebooks/Query.ipynb\"><img align=\"left\" src=\"https://colab.research.google.com/assets/colab-badge.svg\" alt=\"Open in Colab\" title=\"Open and Execute in Google Colaboratory\"></a>\n",
    "\n",
    "<a href=\"https://mybinder.org/v2/gh/simonscmap/pycmap/master?filepath=docs%2FQuery.ipynb\"><img align=\"right\" src=\"https://mybinder.org/badge_logo.svg\" alt=\"Open in Colab\" title=\"Open and Execute in Binder\"></a>"
   ]
  },
  {
   "cell_type": "markdown",
   "metadata": {},
   "source": [
    "## *query(query)*\n",
    "\n",
    "`This is an 'optional' page. If you are not planning and/or not interested in SQL coding, simply ignore this page!`\n",
    "\n",
    "<br />Simons CMAP datasets are hosted in a SQL database and pycmap package provides the user with a number of pre-developed methods to extract and retrieve subsets of the data. The rest of this documentation is dedicated to explore and explain these methods. In addition to the pre-developed methods, we intend to leave the database open to custom scan queries for interested users. This method takes a custom SQL query statement and returns the results in form of a Pandas dataframe. The full list of table names and variable names (fields) can be obtained using the [get_catalog()](Catalog.ipynb) method. In fact, one may use this very method to retrieve the table and field names: `query('EXEC uspCatalog')`. A Dataset is stored in a table and each table field represents a variable. All data tables have the following fields:\n",
    "\n",
    "* [time] [date or datetime] NOT NULL,\n",
    "* [lat] [float] NOT NULL,\n",
    "* [lon] [float] NOT NULL,\n",
    "* [depth] [float] NOT NULL,\n",
    "\n",
    "### Note:\n",
    "Tables which represent a climatological dataset, such as 'tblDarwin_Nutrient_Climatology', will not have a 'time' field. Also, if a table represents a surface dataset, such as satellite products, there would be no 'depth' field. 'depth' is a positive number in meters unit; it is zero at the surface growing towards the ocean's floor. 'lat' and 'lon' are in degrees units, ranging from -90&deg; to 90&deg; and -180&deg; to 180&deg;, respectively.\n",
    "\n",
    "<br />Please keep in mind that some of the datasets are massive in size (10s of TB), avoid queries without WHERE clause (`SELECT * FROM TABLENAME`). Always try to add some constraints on time, lat, lon, and depth fields (see the basic examples below). \n",
    "\n",
    "<br/>Moreover, the database hosts a wide range of predefined stored procedures and functions to streamline nearly all CMAP data services. For instance retrieving the catalog information is achieved using a single call of this procedure: *uspCatalog*. These predefined procedures can be called using the pycmap package (see **Example 3**). Alternatively, one may use any SQL client to execute these procedures to retrieve and visualize data (examples: [Azure Data Studio](https://docs.microsoft.com/en-us/sql/azure-data-studio/download?view=sql-server-ver15), or [Plotly Falcon](https://plot.ly/free-sql-client-download/)). Using the predefined procedures all CMAP data services are centralized at the database layer which dramatically facilitates the process of developing apps with different programming languages (pycmap, web app, cmap4r, ...). Please note that you can improve the current procedures or add new procedures by contributing at the [CMAP database repository](https://github.com/simonscmap/DB). \n",
    "Below is a selected list of stored procedures and functions, their arguments will be described in more details subsequently:\n",
    "\n",
    "\n",
    "\n",
    "* uspCatalog\n",
    "* uspDatasets\n",
    "* uspDatasetsWithAncillary\n",
    "* uspSpaceTime\n",
    "* uspTimeSeries\n",
    "* uspDepthProfile\n",
    "* uspSectionMap\n",
    "* uspCruises\n",
    "* uspCruiseByName\n",
    "* uspCruiseBounds\n",
    "* uspWeekly\n",
    "* uspMonthly\n",
    "* uspQuarterly\n",
    "* uspAnnual\n",
    "* uspMatch\n",
    "* udfDatasetReferences\n",
    "* udfMetaData_NoRef\n",
    "\n",
    "\n",
    "\n",
    "\n",
    "\n",
    "<br />Happy SQL Injection!"
   ]
  },
  {
   "cell_type": "markdown",
   "metadata": {},
   "source": [
    "> **Parameters:** \n",
    ">> **query: string**\n",
    ">>  <br />Generic scan SQL statement.<br /> A full list of table names and field names can be found in the [catalog](Catalog.ipynb).\n",
    "\n",
    ">**Returns:** \n",
    ">>  Pandas dataframe."
   ]
  },
  {
   "cell_type": "markdown",
   "metadata": {},
   "source": [
    "### Example 1\n",
    "A generic query returning dissolved iron (Fe) from Pisces model dataset. "
   ]
  },
  {
   "cell_type": "code",
   "execution_count": null,
   "metadata": {},
   "outputs": [],
   "source": [
    "# !pip install pycmap -q     #uncomment to install pycmap, if necessary\n",
    "\n",
    "import pycmap\n",
    "    \n",
    "api = pycmap.API(token='<YOUR_API_KEY>')\n",
    "api.query(\n",
    "         '''\n",
    "         SELECT [time], lat, lon, depth, Fe FROM tblPisces_NRT \n",
    "         WHERE \n",
    "         [time] BETWEEN '2017-06-03' AND '2017-06-03' AND \n",
    "         lat BETWEEN 10 AND 55 AND \n",
    "         lon BETWEEN -180 AND 100 AND \n",
    "         depth BETWEEN 0 AND 0.5 \n",
    "         ORDER BY [time], lat, lon, depth \n",
    "         '''\n",
    "         ) "
   ]
  },
  {
   "cell_type": "markdown",
   "metadata": {},
   "source": [
    "### Example 2\n",
    "A sample query returning the timeseries of sea surface temperature (sst). "
   ]
  },
  {
   "cell_type": "code",
   "execution_count": null,
   "metadata": {},
   "outputs": [],
   "source": [
    "# !pip install pycmap -q     #uncomment to install pycmap, if necessary\n",
    "\n",
    "import pycmap\n",
    "    \n",
    "api = pycmap.API(token='<YOUR_API_KEY>')\n",
    "api.query(\n",
    "         '''\n",
    "         SELECT [time], AVG(lat) AS lat, AVG(lon) AS lon, AVG(sst) AS sst FROM tblsst_AVHRR_OI_NRT  \n",
    "         WHERE \n",
    "         [time] BETWEEN '2016-06-01' AND '2016-10-01' AND \n",
    "         lat BETWEEN 23 AND 24 AND \n",
    "         lon BETWEEN -160 AND -158  \n",
    "         GROUP BY [time] \n",
    "         ORDER BY [time] \n",
    "         '''\n",
    "         ) \n"
   ]
  },
  {
   "cell_type": "markdown",
   "metadata": {},
   "source": [
    "### Example 3\n",
    "A sample query calling a predefined stored procedure. "
   ]
  },
  {
   "cell_type": "code",
   "execution_count": null,
   "metadata": {},
   "outputs": [],
   "source": [
    "# !pip install pycmap -q     #uncomment to install pycmap, if necessary\n",
    "\n",
    "import pycmap\n",
    "    \n",
    "api = pycmap.API(token='<YOUR_API_KEY>')\n",
    "api.query('EXEC uspCatalog')"
   ]
  }
 ],
 "metadata": {
  "kernelspec": {
   "display_name": "Python 3",
   "language": "python",
   "name": "python3"
  },
  "language_info": {
   "codemirror_mode": {
    "name": "ipython",
    "version": 3
   },
   "file_extension": ".py",
   "mimetype": "text/x-python",
   "name": "python",
   "nbconvert_exporter": "python",
   "pygments_lexer": "ipython3",
   "version": "3.8.3"
  }
 },
 "nbformat": 4,
 "nbformat_minor": 4
}
