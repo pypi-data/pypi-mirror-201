{
 "cells": [
  {
   "cell_type": "markdown",
   "metadata": {},
   "source": [
    "<!--NAVIGATION-->\n",
    "< [Installation](Installation.ipynb) | [Index](Index.ipynb) | [Catalog](Catalog.ipynb) >\n",
    "\n",
    "<a href=\"https://colab.research.google.com/github/simonscmap/pycmap/blob/master/docs/API.ipynb\"><img align=\"left\" src=\"https://colab.research.google.com/assets/colab-badge.svg\" alt=\"Open in Colab\" title=\"Open and Execute in Google Colaboratory\"></a>\n",
    "\n",
    "\n",
    "<a href=\"https://mybinder.org/v2/gh/simonscmap/pycmap/master?filepath=docs%2FAPI.ipynb\"><img align=\"right\" src=\"https://mybinder.org/badge_logo.svg\" alt=\"Open in Colab\" title=\"Open and Execute in Binder\"></a>"
   ]
  },
  {
   "cell_type": "markdown",
   "metadata": {},
   "source": [
    "## *API*\n",
    "\n",
    "To retrieve data, we need to create an instance of the system's API and pass the API key. It is no necessary to pass the API key every time you run a code locally, because it will be stored locally. The API class has other optional parameters to adjust its behavior. All parameters can be updated persistently at any point in the code."
   ]
  },
  {
   "cell_type": "markdown",
   "metadata": {},
   "source": [
    "\n",
    "> `class pycmap.API(token=<API KEY>, baseURL='https://simonscmap.com', headers=None, vizEngine='plotly', exportDir='./export/', > exportFormat='.csv', figureDir='./figure/')`\n",
    "\n"
   ]
  },
  {
   "cell_type": "markdown",
   "metadata": {},
   "source": [
    "> **Parameters:** \n",
    ">> **token: string, required**\n",
    ">>  <br />Access token (API Key) required to make client requests. You may get an API key here: https://simonscmap.com/apikeymanagement\n",
    ">> <br />\n",
    ">> <br />**baseURL: string, optional, default: 'https://simonscmap.com'**\n",
    ">>  <br />Root endpoint of Simons CMAP API.\n",
    ">> <br />\n",
    ">> <br />**headers: dict, optional, default: None**\n",
    ">>  <br />Additional headers to add to the client requests.\n",
    ">> <br />\n",
    ">> <br />**vizEngine: string, optional, default: 'plotly'**\n",
    ">>  <br />Data visualization library used to render the graphs. The other option for visualization library is 'bokeh'. Notice some of the graphs (such as correlation matrix) are only suported by plotly. \n",
    ">> <br />\n",
    ">> <br />**exportDir: string, optional, default: './export/'**\n",
    ">>  <br />Path to local directory where the exported data are stored.\n",
    ">> <br />\n",
    ">> <br />**exportFormat: string, optional, default: '.csv'**\n",
    ">>  <br />File format of the exported files. Currently, only csv format is supported.\n",
    ">> <br />\n",
    ">> <br />**figureDir: string, optional, default: './figure/'**\n",
    ">>  <br />Path to local directory where the figures are stored. The interactive figure objects are stored in form of html files. \n",
    "<br />Note: inline graphs (e.g. on jupyter notebook) are not saved.\n"
   ]
  },
  {
   "cell_type": "markdown",
   "metadata": {},
   "source": [
    "### Example"
   ]
  },
  {
   "cell_type": "code",
   "execution_count": 6,
   "metadata": {},
   "outputs": [],
   "source": [
    "#!pip install pycmap -q     #uncomment to install pycmap, if necessary\n",
    "\n",
    "import pycmap\n",
    "\n",
    "api = pycmap.API(token='<YOUR_API_KEY>', vizEngine='plotly')"
   ]
  }
 ],
 "metadata": {
  "kernelspec": {
   "display_name": "Python 3",
   "language": "python",
   "name": "python3"
  },
  "language_info": {
   "codemirror_mode": {
    "name": "ipython",
    "version": 3
   },
   "file_extension": ".py",
   "mimetype": "text/x-python",
   "name": "python",
   "nbconvert_exporter": "python",
   "pygments_lexer": "ipython3",
   "version": "3.7.1"
  }
 },
 "nbformat": 4,
 "nbformat_minor": 2
}
