{
 "cells": [
  {
   "cell_type": "markdown",
   "metadata": {},
   "source": [
    "<!--NAVIGATION-->\n",
    "< [TimeSeries Plot](Viz_TimeSeries.ipynb) | [Index](Index.ipynb) | [Section Map, Section Contour](Viz_Section.ipynb)>\n",
    "\n",
    "<a href=\"https://colab.research.google.com/github/simonscmap/pycmap/blob/master/docs/Viz_RegionalMap.ipynb\"><img align=\"left\" src=\"https://colab.research.google.com/assets/colab-badge.svg\" alt=\"Open in Colab\" title=\"Open and Execute in Google Colaboratory\"></a>\n",
    "\n",
    "<a href=\"https://mybinder.org/v2/gh/simonscmap/pycmap/master?filepath=docs%2FViz_RegionalMap.ipynb\"><img align=\"right\" src=\"https://mybinder.org/badge_logo.svg\" alt=\"Open in Colab\" title=\"Open and Execute in Binder\"></a>"
   ]
  },
  {
   "cell_type": "markdown",
   "metadata": {},
   "source": [
    "## *plot_map(tables, variables, dt1, dt2, lat1, lat2, lon1, lon2, depth1, depth2, exportDataFlag=False, show=True, levels=0, surface3D=False)*\n",
    "\n",
    "Creates map graphs for each variable according to the specified space-time constraints (dt1, dt2, lat1, lat2, lon1, lon2, depth1, depth2). If the specified space-time domain involves multiple dates and/or depth levels, individual maps are made per date and depth level. To create contour plots, set the contour **levels** parameter to a positive integer number. Also, setting the **surface3D** parameter to True will generate maps in 3D mode. Note that contour and 3D sufrace maps are only supported by plotly visualization library. In the case of sparse dataset, the retrieved data is superimposed on a geospatial map.\n",
    "\n",
    "<br />Change the [API's **vizEngine**](API.ipynb) parameter if you wish to use a different visualization library.\n",
    "<br />Returns the generated graph objects in form of a python list. One may use the returned objects to modify the graph properties. \n",
    "\n",
    "<br />**Note:**\n",
    "<br />This method requires a valid [API key](API.ipynb). It is not necessary to set the API key every time because the API properties are stored locally after being called the first time."
   ]
  },
  {
   "cell_type": "markdown",
   "metadata": {},
   "source": [
    "> **Parameters:** \n",
    ">> **tables: list of string**\n",
    ">>  <br />Table names (each dataset is stored in a table). A full list of table names can be found in [catalog](Catalog.ipynb).\n",
    ">> <br />\n",
    ">> <br />**variable: list of string**\n",
    ">>  <br />Variable short name which directly corresponds to a field name in the table. A full list of variable short names can be found in [catalog](Catalog.ipynb).\n",
    ">> <br />\n",
    ">> <br />**dt1: string**\n",
    ">>  <br />Start date or datetime. This parameter sets the lower bound of the temporal cut. <br />Example values: '2016-05-25' or '2017-12-10 17:25:00'\n",
    ">> <br />\n",
    ">> <br />**dt2: string**\n",
    ">>  <br />End date or datetime. This parameter sets the upper bound of the temporal cut. \n",
    ">> <br />\n",
    ">> <br />**lat1: float**\n",
    ">>  <br />Start latitude [degree N]. This parameter sets the lower bound of the meridional cut. Note latitude ranges from -90&deg; to 90&deg;.\n",
    ">> <br />\n",
    ">> <br />**lat2: float**\n",
    ">>  <br />End latitude [degree N]. This parameter sets the upper bound of the meridional cut. Note latitude ranges from -90&deg; to 90&deg;.\n",
    ">> <br />\n",
    ">> <br />**lon1: float**\n",
    ">>  <br />Start longitude [degree E]. This parameter sets the lower bound of the zonal cut. Note latitude ranges from -180&deg; to 180&deg;.\n",
    ">> <br />\n",
    ">> <br />**lon2: float**\n",
    ">>  <br />End longitude [degree E]. This parameter sets the upper bound of the zonal cut. Note latitude ranges from -180&deg; to 180&deg;.\n",
    ">> <br />\n",
    ">> <br />**depth1: float**\n",
    ">>  <br />Start depth [m]. This parameter sets the lower bound of the vertical cut. Note depth is a positive number (it is 0 at surface and grows towards ocean floor).\n",
    ">> <br />\n",
    ">> <br />**depth2: float**\n",
    ">>  <br />End depth [m]. This parameter sets the upper bound of the vertical cut. Note depth is a positive number (it is 0 at surface and grows towards ocean floor).\n",
    ">> <br />\n",
    ">> <br />**exportDataFlag: boolean, default: False**\n",
    ">>  <br />If True, the graph data points are stored on the local machine. The export path and file format are set by the [API's parameters](API.ipynb). \n",
    ">> <br />\n",
    ">> <br />**show: boolean, default: True**\n",
    ">>  <br />If True, the graph object is returned and is displayed. The graph file is saved on the local machine at the [**figureDir**](API.ipynb) directory. \n",
    "<br />If False, the graph object is returned but not displayed. \n",
    ">> <br />\n",
    ">> <br />**levels: int, default: 0**\n",
    ">>  <br />Number of contour levels. If 0, regional maps are generated (no contour lines). Currently, contour plots are only supported by plotly visualization library.\n",
    ">> <br />\n",
    ">> <br />**surface3D: boolean, default: False**\n",
    ">>  <br />If True, maps are rendered in 3D mode. Currently, 3D map plots are only supported by plotly visualization library.\n",
    "\n",
    "\n",
    ">**Returns: list of graph objects** \n",
    ">>  A list of graph objects. Below are the graph's properties and methods.\n",
    ">>> **Properties:**\n",
    ">>>> **data: dataframe**\n",
    ">>>>  <br />Graph data points to be visualized. \n",
    ">>>> <br />\n",
    ">>>> <br />**level: int, default: 0**\n",
    ">>>>  <br />Number of contour levels. Only applicable to plotly.\n",
    ">>>> <br />\n",
    ">>>> <br />**surface3D: boolean, default: False**\n",
    ">>>>  <br />If True, maps are rendered in 3D mode. Only applicable to plotly.\n",
    ">>>> <br />\n",
    ">>>> <br />**cmap: str or cmocean colormap**\n",
    ">>>>  <br />Colormap name. Any matplotlib (e.g. 'viridis', ..) or cmocean (e.g. cmocean.cm.thermal, ..) colormaps can be passed to this property. A full list of matplotlib and cmocean color palettes can be found at the following links:\n",
    ">>>>  <br />https://matplotlib.org/3.1.0/tutorials/colors/colormaps.html\n",
    ">>>>  <br />https://matplotlib.org/cmocean/\n",
    ">>>> <br />\n",
    ">>>> <br />**vmin: float**\n",
    ">>>>  <br />This parameter defines the lower bound of the colorbar.\n",
    ">>>> <br />\n",
    ">>>> <br />**vmax: float**\n",
    ">>>>  <br />This parameter defines the upper bound of the colorbar.\n",
    ">>>> <br />\n",
    ">>>> <br />**height: int**\n",
    ">>>>  <br />Graph's height in pixels.\n",
    ">>>> <br />\n",
    ">>>> <br />**width: int**\n",
    ">>>>  <br />Graph's width in pixels.\n",
    ">>>> <br />\n",
    ">>>> <br />**xlabel: str**\n",
    ">>>>  <br />The graphs's x-axis label.\n",
    ">>>> <br />\n",
    ">>>> <br />**ylabel: str**\n",
    ">>>>  <br />The graphs's y-axis label.\n",
    ">>>> <br />\n",
    ">>>> <br />**title: str**\n",
    ">>>>  <br />The graphs's title.\n",
    "\n",
    ">>> **Methods:**\n",
    ">>>> **render()**\n",
    ">>>>  <br />Displayes the plot according to the set properties. "
   ]
  },
  {
   "cell_type": "markdown",
   "metadata": {},
   "source": [
    "### Example 1: Regional Maps\n",
    "\n",
    "This example makes two regional maps showing the [phosphate climatology](https://cmap.readthedocs.io/en/latest/catalog/datasets/WOA_climatology.html#woa-clim) and [dissolved iron](https://cmap.readthedocs.io/en/latest/catalog/datasets/Pisces.html#pisces), respectively. \n",
    "<br />The graphs are made using the default visualization library (plotly) which may be changed by:\n",
    "`pycmap.API(vizEngine='bokeh')`"
   ]
  },
  {
   "cell_type": "code",
   "execution_count": null,
   "metadata": {
    "scrolled": false
   },
   "outputs": [],
   "source": [
    "#!pip install pycmap -q     #uncomment to install pycmap, if necessary\n",
    "# uncomment the lines below if the API key has not been registered on your machine, previously.\n",
    "# import pycmap\n",
    "# pycmap.API(token='<YOUR_API_KEY>')     \n",
    "\n",
    "from pycmap.viz import plot_map\n",
    "\n",
    "go = plot_map(\n",
    "             tables=['tblWOA_Climatology', 'tblPisces_NRT'], \n",
    "             variables=['phosphate_WOA_clim', 'Fe'], \n",
    "             dt1='2016-04-30', \n",
    "             dt2='2016-04-30', \n",
    "             lat1=10, \n",
    "             lat2=70, \n",
    "             lon1=-180, \n",
    "             lon2=-80, \n",
    "             depth1=0, \n",
    "             depth2=0.5, \n",
    "             exportDataFlag=False,\n",
    "             show=True\n",
    "             )"
   ]
  },
  {
   "cell_type": "code",
   "execution_count": null,
   "metadata": {},
   "outputs": [],
   "source": [
    "# here is how to modify a graph:\n",
    "\n",
    "go[1].cmap = 'PRGn'\n",
    "go[1].vmin = 0\n",
    "go[1].vmax = 5e-5\n",
    "go[1].width = 900\n",
    "go[1].height = 700\n",
    "go[1].render()"
   ]
  },
  {
   "cell_type": "markdown",
   "metadata": {},
   "source": [
    "### Example 2: Sparse (not gridded) Data\n",
    "\n",
    "This example visualizes an example of sparse data: synechococcus abundance from [Global Pikophytoplankton](https://cmap.readthedocs.io/en/latest/catalog/datasets/Picoeuk.html#pikophytoplankton) dataset."
   ]
  },
  {
   "cell_type": "code",
   "execution_count": null,
   "metadata": {},
   "outputs": [],
   "source": [
    "#!pip install pycmap -q     #uncomment to install pycmap, if necessary\n",
    "# uncomment the lines below if the API key has not been registered on your machine, previously.\n",
    "# import pycmap\n",
    "# pycmap.API(token='<YOUR_API_KEY>')     \n",
    "\n",
    "from pycmap.viz import plot_map\n",
    "\n",
    "plot_map(\n",
    "        tables=['tblGlobal_PicoPhytoPlankton'], \n",
    "        variables=['synechococcus_abundance'], \n",
    "        dt1='1990-01-30', \n",
    "        dt2='1995-12-30', \n",
    "        lat1=10, \n",
    "        lat2=70, \n",
    "        lon1=-180, \n",
    "        lon2=80, \n",
    "        depth1=0, \n",
    "        depth2=100, \n",
    "        exportDataFlag=False,\n",
    "        show=True\n",
    "        )"
   ]
  },
  {
   "cell_type": "markdown",
   "metadata": {},
   "source": [
    "### Example 3: Contour Plot\n",
    "\n",
    "This example creates a contour plot using the satellite [Sea Surface Temperature (SST)](https://cmap.readthedocs.io/en/latest/catalog/datasets/SST.html#sst). Notice the **levels** parameter sets the number of contour levels. \n",
    "<br />Currently, contour plots are only supported by the plotly  library."
   ]
  },
  {
   "cell_type": "code",
   "execution_count": null,
   "metadata": {
    "scrolled": false
   },
   "outputs": [],
   "source": [
    "#!pip install pycmap -q     #uncomment to install pycmap, if necessary\n",
    "# uncomment the lines below if the API key has not been registered on your machine, previously.\n",
    "# import pycmap\n",
    "# pycmap.API(token='<YOUR_API_KEY>')  \n",
    "\n",
    "from pycmap.viz import plot_map\n",
    "\n",
    "go = plot_map(\n",
    "             tables=['tblsst_AVHRR_OI_NRT'], \n",
    "             variables=['sst'], \n",
    "             dt1='2016-04-30', \n",
    "             dt2='2016-04-30', \n",
    "             lat1=10, \n",
    "             lat2=70, \n",
    "             lon1=-180, \n",
    "             lon2=-80, \n",
    "             depth1=0, \n",
    "             depth2=0, \n",
    "             exportDataFlag=False,\n",
    "             show=True,   \n",
    "             levels=10\n",
    "             )"
   ]
  },
  {
   "cell_type": "markdown",
   "metadata": {},
   "source": [
    "### Example 4: 3D Surface\n",
    "\n",
    "This example creates a 3D map using model estimates of [dissolved nitrate (NO3)](https://cmap.readthedocs.io/en/latest/catalog/datasets/Pisces.html#pisces). Notice the **surface3D** parameter is set to True. \n",
    "<br />Currently, 3D map plots are only supported by the plotly  library."
   ]
  },
  {
   "cell_type": "code",
   "execution_count": null,
   "metadata": {},
   "outputs": [],
   "source": [
    "#!pip install pycmap -q     #uncomment to install pycmap, if necessary\n",
    "# uncomment the lines below if the API key has not been registered on your machine, previously.\n",
    "# import pycmap\n",
    "# pycmap.API(token='<YOUR_API_KEY>')  \n",
    "\n",
    "from pycmap.viz import plot_map\n",
    "\n",
    "go = plot_map(\n",
    "             tables=['tblPisces_NRT'], \n",
    "             variables=['NO3'], \n",
    "             dt1='2016-04-30', \n",
    "             dt2='2016-04-30', \n",
    "             lat1=-90, \n",
    "             lat2=90, \n",
    "             lon1=-180, \n",
    "             lon2=180, \n",
    "             depth1=0, \n",
    "             depth2=0.5, \n",
    "             exportDataFlag=False, \n",
    "             show=True,   \n",
    "             surface3D=True\n",
    "             )"
   ]
  }
 ],
 "metadata": {
  "kernelspec": {
   "display_name": "Python 3",
   "language": "python",
   "name": "python3"
  },
  "language_info": {
   "codemirror_mode": {
    "name": "ipython",
    "version": 3
   },
   "file_extension": ".py",
   "mimetype": "text/x-python",
   "name": "python",
   "nbconvert_exporter": "python",
   "pygments_lexer": "ipython3",
   "version": "3.7.1"
  }
 },
 "nbformat": 4,
 "nbformat_minor": 2
}
