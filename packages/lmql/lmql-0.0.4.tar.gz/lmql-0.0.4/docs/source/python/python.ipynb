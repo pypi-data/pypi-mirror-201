{
 "cells": [
  {
   "attachments": {},
   "cell_type": "markdown",
   "metadata": {},
   "source": [
    "# LMQL in Python"
   ]
  },
  {
   "attachments": {},
   "cell_type": "markdown",
   "metadata": {},
   "source": [
    "*More Information Coming Soon*.\n",
    "\n",
    "For now, please consider the [LangChain x LMQL](./langchain.ipynb) chapter, as an instance of general Python integration."
   ]
  }
 ],
 "metadata": {
  "language_info": {
   "name": "python"
  },
  "orig_nbformat": 4
 },
 "nbformat": 4,
 "nbformat_minor": 2
}
